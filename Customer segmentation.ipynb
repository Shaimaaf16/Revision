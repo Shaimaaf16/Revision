{
 "cells": [
  {
   "cell_type": "markdown",
   "id": "d1c2e9df",
   "metadata": {},
   "source": [
    "# Customer Segmentation with RFM & K-Means"
   ]
  },
  {
   "cell_type": "code",
   "execution_count": null,
   "id": "0079fa85",
   "metadata": {},
   "outputs": [],
   "source": [
    "import pandas as pd\n",
    "\n",
    "from datetime import datetime\n",
    "\n",
    "# Display figures inline in Jupyter notebook\n",
    "import matplotlib.pyplot as plt\n",
    "import seaborn as sn\n",
    "# Use seaborn style defaults and set the default figure size\n",
    "sn.set(rc={'figure.figsize':(11, 4)})\n",
    "import warnings\n",
    "warnings.filterwarnings('ignore')"
   ]
  },
  {
   "cell_type": "code",
   "execution_count": null,
   "id": "d40e3444",
   "metadata": {},
   "outputs": [],
   "source": [
    "events=pd.read_csv('events.csv')"
   ]
  },
  {
   "cell_type": "markdown",
   "id": "bfd0fec5",
   "metadata": {},
   "source": [
    "# Data Perpartion"
   ]
  },
  {
   "cell_type": "code",
   "execution_count": null,
   "id": "f921dce3",
   "metadata": {},
   "outputs": [],
   "source": [
    "events['timestamp']=events['timestamp'].apply( lambda x: datetime.fromtimestamp(x/1000))"
   ]
  },
  {
   "cell_type": "code",
   "execution_count": null,
   "id": "b82f5816",
   "metadata": {},
   "outputs": [],
   "source": [
    "events"
   ]
  },
  {
   "cell_type": "code",
   "execution_count": null,
   "id": "55e560cd",
   "metadata": {},
   "outputs": [],
   "source": [
    "events.dtypes"
   ]
  },
  {
   "cell_type": "code",
   "execution_count": null,
   "id": "a28a584b",
   "metadata": {},
   "outputs": [],
   "source": [
    "df=events.copy()"
   ]
  },
  {
   "cell_type": "code",
   "execution_count": null,
   "id": "740a589c",
   "metadata": {},
   "outputs": [],
   "source": [
    "df.isnull().sum()"
   ]
  },
  {
   "cell_type": "code",
   "execution_count": null,
   "id": "3e92d836",
   "metadata": {},
   "outputs": [],
   "source": [
    "df.dropna(inplace = True)\n",
    "df.isnull().sum()"
   ]
  },
  {
   "cell_type": "code",
   "execution_count": null,
   "id": "ecda8661",
   "metadata": {},
   "outputs": [],
   "source": [
    "df.shape"
   ]
  },
  {
   "cell_type": "code",
   "execution_count": null,
   "id": "c99b4870",
   "metadata": {},
   "outputs": [],
   "source": [
    "df.describe([0.05,0.01,0.25,0.50,0.75,0.80,0.90,0.95,0.99]).T"
   ]
  },
  {
   "cell_type": "code",
   "execution_count": null,
   "id": "71fc6a11",
   "metadata": {},
   "outputs": [],
   "source": [
    "max(df.timestamp)"
   ]
  },
  {
   "cell_type": "markdown",
   "id": "918851fc",
   "metadata": {},
   "source": [
    "# Recency, Frequency & Monetary value calculation\n"
   ]
  },
  {
   "cell_type": "markdown",
   "id": "91cfc1f7",
   "metadata": {},
   "source": [
    "we’ll calculate is the three key factors of RFM Analysis (recency, frequency, and monetary).\n",
    "<br>\n",
    "<b>Recency</b>: How recently customers made their purchase.<br>\n",
    "<b>Frequency</b>: For simplicity, we’ll count the number of times each customer made a purchase.\n",
    "<br>\n",
    "<b>Monetary</b>: How much money they spent in total.\n",
    "<br>\n",
    "We are going to calculate these three key factors by grouping them by customers and taking <b>“2015/09/18”</b> as our reference end date since this is the last transaction date listed in our dataset."
   ]
  },
  {
   "cell_type": "code",
   "execution_count": null,
   "id": "07784736",
   "metadata": {},
   "outputs": [],
   "source": [
    "# Recency   = Overall latest invoice date - individual customer's last invoice date\n",
    "# Frequency = count of invoice no. of transaction(s)\n",
    "# Monetary = Sum of Total amount for each cutomer\n",
    "\n",
    "# Set 2015/09/18 as the overall last transcation date. This is to calculate recency in days.\n"
   ]
  },
  {
   "cell_type": "code",
   "execution_count": null,
   "id": "987d9299",
   "metadata": {},
   "outputs": [],
   "source": [
    "df"
   ]
  },
  {
   "cell_type": "code",
   "execution_count": null,
   "id": "7a067088",
   "metadata": {},
   "outputs": [],
   "source": [
    "#Recency Metric\n",
    "import datetime as dt\n",
    "today_date = dt.datetime(2021,12,30)\n",
    "temp_df = (today_date - df.groupby(\"visitorid\").agg({\"timestamp\":\"max\"}))\n",
    "temp_df.rename(columns={\"timestamp\": \"Recency\"}, inplace = True)\n",
    "recency_df = temp_df[\"Recency\"].apply(lambda x: x.days)\n",
    "# Frequency Metric\n",
    "temp_df = df.groupby([\"visitorid\",\"transactionid\"]).agg({\"transactionid\":\"count\"})\n",
    "freq_df = temp_df.groupby(\"visitorid\").agg({\"transactionid\":\"count\"})\n",
    "freq_df.rename(columns={\"transactionid\": \"Frequency\"}, inplace = True)\n",
    "\n",
    "# Monetary Metric\n",
    "## it should be  item price but i dont have this  feild on data\n",
    "\n",
    "monetary_df = df.groupby(\"visitorid\").agg({\"itemid\":\"sum\"})\n",
    "monetary_df.rename(columns = {\"itemid\": \"Monetary\"}, inplace = True)\n",
    "rfm = pd.concat([recency_df, freq_df, monetary_df],  axis=1)\n"
   ]
  },
  {
   "cell_type": "code",
   "execution_count": null,
   "id": "dae54f3d",
   "metadata": {},
   "outputs": [],
   "source": [
    "df = rfm\n",
    "df[\"RecencyScore\"] = pd.qcut(df['Recency'], 5, labels = [5, 4, 3, 2, 1])\n",
    "df[\"FrequencyScore\"] = pd.qcut(df['Frequency'].rank(method = \"first\"), 5, labels = [1,2,3,4,5])\n",
    "df[\"MonetaryScore\"] = pd.qcut(df['Monetary'], 5, labels = [1,2,3,4,5])\n",
    "df[\"RFM_SCORE\"] = df['RecencyScore'].astype(str) + df['FrequencyScore'].astype(str) + df['MonetaryScore'].astype(str)\n",
    "seg_map = {\n",
    "        r'[1-2][1-2]': 'Hibernating',\n",
    "        r'[1-2][3-4]': 'At Risk',\n",
    "        r'[1-2]5': 'Can\\'t Loose',\n",
    "        r'3[1-2]': 'About to Sleep',\n",
    "        r'33': 'Need Attention',\n",
    "        r'[3-4][4-5]': 'Loyal Customers',\n",
    "        r'41': 'Promising',\n",
    "        r'51': 'New Customers',\n",
    "        r'[4-5][2-3]': 'Potential Loyalists',\n",
    "        r'5[4-5]': 'Champions'\n",
    "}\n",
    "\n",
    "df['Segment'] = df['RecencyScore'].astype(str) + rfm['FrequencyScore'].astype(str)\n",
    "df['Segment'] = df['Segment'].replace(seg_map, regex=True)\n",
    "df.head()\n",
    "\n"
   ]
  },
  {
   "cell_type": "code",
   "execution_count": null,
   "id": "6cec072c",
   "metadata": {},
   "outputs": [],
   "source": [
    "rfm = df.loc[:,\"Recency\":\"Monetary\"]"
   ]
  },
  {
   "cell_type": "code",
   "execution_count": null,
   "id": "45eb0bf3",
   "metadata": {},
   "outputs": [],
   "source": [
    "df.groupby(\"visitorid\").agg({\"Segment\": \"sum\"}).head()\n"
   ]
  },
  {
   "cell_type": "markdown",
   "id": "e5ee9fd7",
   "metadata": {},
   "source": [
    "# Explore the RFM values\n"
   ]
  },
  {
   "cell_type": "markdown",
   "id": "1e50e466",
   "metadata": {},
   "source": [
    "once we have every visitor’s individual recency, frequency, and monetary value calculated, we’d like to see the distribution graph to understand the data better."
   ]
  },
  {
   "cell_type": "code",
   "execution_count": null,
   "id": "d3127f75",
   "metadata": {},
   "outputs": [],
   "source": [
    "fig, ax = plt.subplots(1, 3, figsize=(16, 8))\n",
    "\n",
    "# Recency distribution plot\n",
    "sn.histplot(rfm['Recency'], kde=True, ax=ax[0])\n",
    "\n",
    "# Frequency distribution plot\n",
    "sn.histplot(rfm.query('Frequency < 1000')['Frequency'], kde=True, ax=ax[1])\n",
    "\n",
    "# Monetary distribution plot\n",
    "sn.histplot(rfm.query('Monetary < 10000')['Monetary'], kde=True, ax=ax[2])"
   ]
  },
  {
   "cell_type": "code",
   "execution_count": null,
   "id": "e88d99f5",
   "metadata": {},
   "outputs": [],
   "source": [
    "df"
   ]
  },
  {
   "cell_type": "markdown",
   "id": "c608bce5",
   "metadata": {},
   "source": [
    "# Clustering with the K-Means Algorithm\n"
   ]
  },
  {
   "cell_type": "code",
   "execution_count": null,
   "id": "28d7005d",
   "metadata": {},
   "outputs": [],
   "source": [
    "from sklearn.cluster import KMeans\n",
    "from sklearn.preprocessing import MinMaxScaler"
   ]
  },
  {
   "cell_type": "code",
   "execution_count": null,
   "id": "18857ef9",
   "metadata": {},
   "outputs": [],
   "source": [
    "#scale\n",
    "sc = MinMaxScaler((0,1))\n",
    "df = sc.fit_transform(rfm)\n",
    "\n",
    "#Kmeans\n",
    "kmeans = KMeans(n_clusters = 10)\n",
    "k_fit = kmeans.fit(df)"
   ]
  },
  {
   "cell_type": "code",
   "execution_count": null,
   "id": "aff92246",
   "metadata": {},
   "outputs": [],
   "source": [
    "k_fit.n_clusters"
   ]
  },
  {
   "cell_type": "code",
   "execution_count": null,
   "id": "c449a4d2",
   "metadata": {},
   "outputs": [],
   "source": [
    "k_fit.cluster_centers_"
   ]
  },
  {
   "cell_type": "code",
   "execution_count": null,
   "id": "43731c94",
   "metadata": {},
   "outputs": [],
   "source": [
    "k_fit.labels_ "
   ]
  },
  {
   "cell_type": "code",
   "execution_count": null,
   "id": "7f0667ba",
   "metadata": {},
   "outputs": [],
   "source": [
    "df[0:5]"
   ]
  },
  {
   "cell_type": "markdown",
   "id": "0c543995",
   "metadata": {},
   "source": [
    "# Determining the Optimum Number of Clusters\n"
   ]
  },
  {
   "cell_type": "code",
   "execution_count": null,
   "id": "ca8df3d7",
   "metadata": {},
   "outputs": [],
   "source": [
    "kmeans = KMeans(n_clusters = 2)\n",
    "k_fit = kmeans.fit(df)\n",
    "ssd = []  \n",
    "\n",
    "K = range(1,30)\n",
    "\n",
    "for k in K:\n",
    "    kmeans = KMeans(n_clusters = k).fit(df)\n",
    "    ssd.append(kmeans.inertia_)\n",
    "\n",
    "plt.plot(K, ssd, \"bx-\")\n",
    "plt.xlabel(\"Distance Residual Sums Versus Different k Values\")\n",
    "plt.title(\"Elbow method for Optimum number of clusters\")"
   ]
  },
  {
   "cell_type": "code",
   "execution_count": null,
   "id": "9e42ff57",
   "metadata": {},
   "outputs": [],
   "source": [
    "# !pip install yellowbrick"
   ]
  },
  {
   "cell_type": "code",
   "execution_count": null,
   "id": "895450bc",
   "metadata": {},
   "outputs": [],
   "source": [
    "from yellowbrick.cluster import KElbowVisualizer\n",
    "kmeans = KMeans()\n",
    "visu = KElbowVisualizer(kmeans, k = (2,20))\n",
    "visu.fit(df)\n",
    "visu.poof();"
   ]
  },
  {
   "cell_type": "code",
   "execution_count": null,
   "id": "6491a560",
   "metadata": {},
   "outputs": [],
   "source": [
    "kmeans = KMeans(n_clusters = 6).fit(df)\n",
    "cluster = kmeans.labels_\n",
    "pd.DataFrame({\"VistiorID\": rfm.index, \"cluster\": cluster})"
   ]
  }
 ],
 "metadata": {
  "kernelspec": {
   "display_name": "Python 3 (ipykernel)",
   "language": "python",
   "name": "python3"
  },
  "language_info": {
   "codemirror_mode": {
    "name": "ipython",
    "version": 3
   },
   "file_extension": ".py",
   "mimetype": "text/x-python",
   "name": "python",
   "nbconvert_exporter": "python",
   "pygments_lexer": "ipython3",
   "version": "3.7.6"
  }
 },
 "nbformat": 4,
 "nbformat_minor": 5
}
