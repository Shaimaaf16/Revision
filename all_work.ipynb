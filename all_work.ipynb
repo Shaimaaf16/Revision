{
 "cells": [
  {
   "cell_type": "code",
   "execution_count": 1,
   "id": "bbcdf987",
   "metadata": {},
   "outputs": [],
   "source": [
    "import pandas as pd\n",
    "\n",
    "from datetime import datetime\n",
    "# Display figures inline in Jupyter notebook\n",
    "import matplotlib.pyplot as plt\n",
    "import seaborn as sn\n",
    "# Use seaborn style defaults and set the default figure size\n",
    "sn.set(rc={'figure.figsize':(11, 4)})\n"
   ]
  },
  {
   "cell_type": "code",
   "execution_count": 2,
   "id": "96e68f67",
   "metadata": {},
   "outputs": [],
   "source": [
    "# !pip install mlxtend\n",
    "from mlxtend.frequent_patterns import apriori, association_rules"
   ]
  },
  {
   "cell_type": "markdown",
   "id": "51f5708a",
   "metadata": {},
   "source": [
    "# Reading  the data files"
   ]
  },
  {
   "cell_type": "code",
   "execution_count": 3,
   "id": "744e98cd",
   "metadata": {},
   "outputs": [],
   "source": [
    "events=pd.read_csv('events.csv')"
   ]
  },
  {
   "cell_type": "code",
   "execution_count": 4,
   "id": "0974021d",
   "metadata": {},
   "outputs": [
    {
     "data": {
      "text/html": [
       "<div>\n",
       "<style scoped>\n",
       "    .dataframe tbody tr th:only-of-type {\n",
       "        vertical-align: middle;\n",
       "    }\n",
       "\n",
       "    .dataframe tbody tr th {\n",
       "        vertical-align: top;\n",
       "    }\n",
       "\n",
       "    .dataframe thead th {\n",
       "        text-align: right;\n",
       "    }\n",
       "</style>\n",
       "<table border=\"1\" class=\"dataframe\">\n",
       "  <thead>\n",
       "    <tr style=\"text-align: right;\">\n",
       "      <th></th>\n",
       "      <th>timestamp</th>\n",
       "      <th>visitorid</th>\n",
       "      <th>event</th>\n",
       "      <th>itemid</th>\n",
       "      <th>transactionid</th>\n",
       "    </tr>\n",
       "  </thead>\n",
       "  <tbody>\n",
       "    <tr>\n",
       "      <th>0</th>\n",
       "      <td>1433221332117</td>\n",
       "      <td>257597</td>\n",
       "      <td>view</td>\n",
       "      <td>355908</td>\n",
       "      <td>NaN</td>\n",
       "    </tr>\n",
       "    <tr>\n",
       "      <th>1</th>\n",
       "      <td>1433224214164</td>\n",
       "      <td>992329</td>\n",
       "      <td>view</td>\n",
       "      <td>248676</td>\n",
       "      <td>NaN</td>\n",
       "    </tr>\n",
       "    <tr>\n",
       "      <th>2</th>\n",
       "      <td>1433221999827</td>\n",
       "      <td>111016</td>\n",
       "      <td>view</td>\n",
       "      <td>318965</td>\n",
       "      <td>NaN</td>\n",
       "    </tr>\n",
       "    <tr>\n",
       "      <th>3</th>\n",
       "      <td>1433221955914</td>\n",
       "      <td>483717</td>\n",
       "      <td>view</td>\n",
       "      <td>253185</td>\n",
       "      <td>NaN</td>\n",
       "    </tr>\n",
       "    <tr>\n",
       "      <th>4</th>\n",
       "      <td>1433221337106</td>\n",
       "      <td>951259</td>\n",
       "      <td>view</td>\n",
       "      <td>367447</td>\n",
       "      <td>NaN</td>\n",
       "    </tr>\n",
       "  </tbody>\n",
       "</table>\n",
       "</div>"
      ],
      "text/plain": [
       "       timestamp  visitorid event  itemid  transactionid\n",
       "0  1433221332117     257597  view  355908            NaN\n",
       "1  1433224214164     992329  view  248676            NaN\n",
       "2  1433221999827     111016  view  318965            NaN\n",
       "3  1433221955914     483717  view  253185            NaN\n",
       "4  1433221337106     951259  view  367447            NaN"
      ]
     },
     "execution_count": 4,
     "metadata": {},
     "output_type": "execute_result"
    }
   ],
   "source": [
    "events.head(5)"
   ]
  },
  {
   "cell_type": "code",
   "execution_count": 5,
   "id": "6923c57d",
   "metadata": {},
   "outputs": [],
   "source": [
    "category_tree=pd.read_csv('category_tree.csv')"
   ]
  },
  {
   "cell_type": "code",
   "execution_count": 6,
   "id": "7ae89287",
   "metadata": {},
   "outputs": [
    {
     "data": {
      "text/html": [
       "<div>\n",
       "<style scoped>\n",
       "    .dataframe tbody tr th:only-of-type {\n",
       "        vertical-align: middle;\n",
       "    }\n",
       "\n",
       "    .dataframe tbody tr th {\n",
       "        vertical-align: top;\n",
       "    }\n",
       "\n",
       "    .dataframe thead th {\n",
       "        text-align: right;\n",
       "    }\n",
       "</style>\n",
       "<table border=\"1\" class=\"dataframe\">\n",
       "  <thead>\n",
       "    <tr style=\"text-align: right;\">\n",
       "      <th></th>\n",
       "      <th>categoryid</th>\n",
       "      <th>parentid</th>\n",
       "    </tr>\n",
       "  </thead>\n",
       "  <tbody>\n",
       "    <tr>\n",
       "      <th>0</th>\n",
       "      <td>1016</td>\n",
       "      <td>213.0</td>\n",
       "    </tr>\n",
       "    <tr>\n",
       "      <th>1</th>\n",
       "      <td>809</td>\n",
       "      <td>169.0</td>\n",
       "    </tr>\n",
       "    <tr>\n",
       "      <th>2</th>\n",
       "      <td>570</td>\n",
       "      <td>9.0</td>\n",
       "    </tr>\n",
       "    <tr>\n",
       "      <th>3</th>\n",
       "      <td>1691</td>\n",
       "      <td>885.0</td>\n",
       "    </tr>\n",
       "    <tr>\n",
       "      <th>4</th>\n",
       "      <td>536</td>\n",
       "      <td>1691.0</td>\n",
       "    </tr>\n",
       "  </tbody>\n",
       "</table>\n",
       "</div>"
      ],
      "text/plain": [
       "   categoryid  parentid\n",
       "0        1016     213.0\n",
       "1         809     169.0\n",
       "2         570       9.0\n",
       "3        1691     885.0\n",
       "4         536    1691.0"
      ]
     },
     "execution_count": 6,
     "metadata": {},
     "output_type": "execute_result"
    }
   ],
   "source": [
    "category_tree.head(5)"
   ]
  },
  {
   "cell_type": "code",
   "execution_count": 7,
   "id": "754c4875",
   "metadata": {},
   "outputs": [
    {
     "data": {
      "text/plain": [
       "(1669, 2)"
      ]
     },
     "execution_count": 7,
     "metadata": {},
     "output_type": "execute_result"
    }
   ],
   "source": [
    "category_tree.shape"
   ]
  },
  {
   "cell_type": "code",
   "execution_count": 8,
   "id": "65916991",
   "metadata": {},
   "outputs": [
    {
     "data": {
      "text/plain": [
       "362"
      ]
     },
     "execution_count": 8,
     "metadata": {},
     "output_type": "execute_result"
    }
   ],
   "source": [
    "category_tree.parentid.nunique()"
   ]
  },
  {
   "cell_type": "code",
   "execution_count": 9,
   "id": "1dac27e0",
   "metadata": {},
   "outputs": [],
   "source": [
    "item_prop=pd.read_csv('item_properties_part1.csv')\n",
    "item_prop2=pd.read_csv('item_properties_part2.csv')"
   ]
  },
  {
   "cell_type": "code",
   "execution_count": 10,
   "id": "79627704",
   "metadata": {},
   "outputs": [],
   "source": [
    "item_props=pd.concat([item_prop,item_prop2],ignore_index=True)"
   ]
  },
  {
   "cell_type": "code",
   "execution_count": 11,
   "id": "f027984f",
   "metadata": {},
   "outputs": [
    {
     "data": {
      "text/html": [
       "<div>\n",
       "<style scoped>\n",
       "    .dataframe tbody tr th:only-of-type {\n",
       "        vertical-align: middle;\n",
       "    }\n",
       "\n",
       "    .dataframe tbody tr th {\n",
       "        vertical-align: top;\n",
       "    }\n",
       "\n",
       "    .dataframe thead th {\n",
       "        text-align: right;\n",
       "    }\n",
       "</style>\n",
       "<table border=\"1\" class=\"dataframe\">\n",
       "  <thead>\n",
       "    <tr style=\"text-align: right;\">\n",
       "      <th></th>\n",
       "      <th>timestamp</th>\n",
       "      <th>itemid</th>\n",
       "      <th>property</th>\n",
       "      <th>value</th>\n",
       "    </tr>\n",
       "  </thead>\n",
       "  <tbody>\n",
       "    <tr>\n",
       "      <th>0</th>\n",
       "      <td>1435460400000</td>\n",
       "      <td>460429</td>\n",
       "      <td>categoryid</td>\n",
       "      <td>1338</td>\n",
       "    </tr>\n",
       "    <tr>\n",
       "      <th>1</th>\n",
       "      <td>1441508400000</td>\n",
       "      <td>206783</td>\n",
       "      <td>888</td>\n",
       "      <td>1116713 960601 n277.200</td>\n",
       "    </tr>\n",
       "    <tr>\n",
       "      <th>2</th>\n",
       "      <td>1439089200000</td>\n",
       "      <td>395014</td>\n",
       "      <td>400</td>\n",
       "      <td>n552.000 639502 n720.000 424566</td>\n",
       "    </tr>\n",
       "    <tr>\n",
       "      <th>3</th>\n",
       "      <td>1431226800000</td>\n",
       "      <td>59481</td>\n",
       "      <td>790</td>\n",
       "      <td>n15360.000</td>\n",
       "    </tr>\n",
       "    <tr>\n",
       "      <th>4</th>\n",
       "      <td>1431831600000</td>\n",
       "      <td>156781</td>\n",
       "      <td>917</td>\n",
       "      <td>828513</td>\n",
       "    </tr>\n",
       "  </tbody>\n",
       "</table>\n",
       "</div>"
      ],
      "text/plain": [
       "       timestamp  itemid    property                            value\n",
       "0  1435460400000  460429  categoryid                             1338\n",
       "1  1441508400000  206783         888          1116713 960601 n277.200\n",
       "2  1439089200000  395014         400  n552.000 639502 n720.000 424566\n",
       "3  1431226800000   59481         790                       n15360.000\n",
       "4  1431831600000  156781         917                           828513"
      ]
     },
     "execution_count": 11,
     "metadata": {},
     "output_type": "execute_result"
    }
   ],
   "source": [
    "item_props.head(5)"
   ]
  },
  {
   "cell_type": "code",
   "execution_count": 12,
   "id": "765ea85e",
   "metadata": {},
   "outputs": [
    {
     "data": {
      "text/plain": [
       "timestamp     int64\n",
       "itemid        int64\n",
       "property     object\n",
       "value        object\n",
       "dtype: object"
      ]
     },
     "execution_count": 12,
     "metadata": {},
     "output_type": "execute_result"
    }
   ],
   "source": [
    "item_props.dtypes"
   ]
  },
  {
   "cell_type": "code",
   "execution_count": 13,
   "id": "922f8700",
   "metadata": {},
   "outputs": [],
   "source": [
    "item_props=item_props.sort_values(by='timestamp')"
   ]
  },
  {
   "cell_type": "markdown",
   "id": "5095ae88",
   "metadata": {},
   "source": [
    "Change timestamp to date-time format i tried to convert it directly but it gave me DateTime in the future so i divided the value by 1000 before converting it to be reasonable. maybe it's  wrong but I did this just to be  readable"
   ]
  },
  {
   "cell_type": "code",
   "execution_count": 14,
   "id": "59fa757b",
   "metadata": {},
   "outputs": [],
   "source": [
    "item_props['timestamp']=item_props['timestamp'].apply( lambda x: datetime.fromtimestamp(x/1000))"
   ]
  },
  {
   "cell_type": "code",
   "execution_count": 15,
   "id": "c5a668f4",
   "metadata": {},
   "outputs": [
    {
     "data": {
      "text/plain": [
       "(20275902, 4)"
      ]
     },
     "execution_count": 15,
     "metadata": {},
     "output_type": "execute_result"
    }
   ],
   "source": [
    "item_props.shape"
   ]
  },
  {
   "cell_type": "code",
   "execution_count": 16,
   "id": "06947bbc",
   "metadata": {},
   "outputs": [
    {
     "data": {
      "text/plain": [
       "417053"
      ]
     },
     "execution_count": 16,
     "metadata": {},
     "output_type": "execute_result"
    }
   ],
   "source": [
    "item_props.itemid.nunique()"
   ]
  },
  {
   "cell_type": "code",
   "execution_count": 17,
   "id": "0352c807",
   "metadata": {},
   "outputs": [
    {
     "data": {
      "text/html": [
       "<div>\n",
       "<style scoped>\n",
       "    .dataframe tbody tr th:only-of-type {\n",
       "        vertical-align: middle;\n",
       "    }\n",
       "\n",
       "    .dataframe tbody tr th {\n",
       "        vertical-align: top;\n",
       "    }\n",
       "\n",
       "    .dataframe thead th {\n",
       "        text-align: right;\n",
       "    }\n",
       "</style>\n",
       "<table border=\"1\" class=\"dataframe\">\n",
       "  <thead>\n",
       "    <tr style=\"text-align: right;\">\n",
       "      <th></th>\n",
       "      <th>timestamp</th>\n",
       "      <th>itemid</th>\n",
       "      <th>property</th>\n",
       "      <th>value</th>\n",
       "    </tr>\n",
       "  </thead>\n",
       "  <tbody>\n",
       "    <tr>\n",
       "      <th>5903679</th>\n",
       "      <td>2015-05-10 05:00:00</td>\n",
       "      <td>317951</td>\n",
       "      <td>790</td>\n",
       "      <td>n32880.000</td>\n",
       "    </tr>\n",
       "    <tr>\n",
       "      <th>5668945</th>\n",
       "      <td>2015-05-10 05:00:00</td>\n",
       "      <td>422842</td>\n",
       "      <td>480</td>\n",
       "      <td>1133979</td>\n",
       "    </tr>\n",
       "    <tr>\n",
       "      <th>11314219</th>\n",
       "      <td>2015-05-10 05:00:00</td>\n",
       "      <td>310185</td>\n",
       "      <td>776</td>\n",
       "      <td>103591</td>\n",
       "    </tr>\n",
       "    <tr>\n",
       "      <th>15170322</th>\n",
       "      <td>2015-05-10 05:00:00</td>\n",
       "      <td>110973</td>\n",
       "      <td>112</td>\n",
       "      <td>679677</td>\n",
       "    </tr>\n",
       "    <tr>\n",
       "      <th>15170323</th>\n",
       "      <td>2015-05-10 05:00:00</td>\n",
       "      <td>179597</td>\n",
       "      <td>available</td>\n",
       "      <td>0</td>\n",
       "    </tr>\n",
       "    <tr>\n",
       "      <th>...</th>\n",
       "      <td>...</td>\n",
       "      <td>...</td>\n",
       "      <td>...</td>\n",
       "      <td>...</td>\n",
       "    </tr>\n",
       "    <tr>\n",
       "      <th>9472989</th>\n",
       "      <td>2015-09-13 05:00:00</td>\n",
       "      <td>364708</td>\n",
       "      <td>928</td>\n",
       "      <td>769062</td>\n",
       "    </tr>\n",
       "    <tr>\n",
       "      <th>9473006</th>\n",
       "      <td>2015-09-13 05:00:00</td>\n",
       "      <td>231604</td>\n",
       "      <td>888</td>\n",
       "      <td>561561 1055803 447378 n12.000 1135780 1284577 ...</td>\n",
       "    </tr>\n",
       "    <tr>\n",
       "      <th>2199697</th>\n",
       "      <td>2015-09-13 05:00:00</td>\n",
       "      <td>161357</td>\n",
       "      <td>888</td>\n",
       "      <td>12762 16970 145048 237874 1229126 784581 12977...</td>\n",
       "    </tr>\n",
       "    <tr>\n",
       "      <th>9472887</th>\n",
       "      <td>2015-09-13 05:00:00</td>\n",
       "      <td>267142</td>\n",
       "      <td>available</td>\n",
       "      <td>0</td>\n",
       "    </tr>\n",
       "    <tr>\n",
       "      <th>20275901</th>\n",
       "      <td>2015-09-13 05:00:00</td>\n",
       "      <td>275768</td>\n",
       "      <td>888</td>\n",
       "      <td>888666 n10800.000 746840 1318567</td>\n",
       "    </tr>\n",
       "  </tbody>\n",
       "</table>\n",
       "<p>20275902 rows × 4 columns</p>\n",
       "</div>"
      ],
      "text/plain": [
       "                   timestamp  itemid   property  \\\n",
       "5903679  2015-05-10 05:00:00  317951        790   \n",
       "5668945  2015-05-10 05:00:00  422842        480   \n",
       "11314219 2015-05-10 05:00:00  310185        776   \n",
       "15170322 2015-05-10 05:00:00  110973        112   \n",
       "15170323 2015-05-10 05:00:00  179597  available   \n",
       "...                      ...     ...        ...   \n",
       "9472989  2015-09-13 05:00:00  364708        928   \n",
       "9473006  2015-09-13 05:00:00  231604        888   \n",
       "2199697  2015-09-13 05:00:00  161357        888   \n",
       "9472887  2015-09-13 05:00:00  267142  available   \n",
       "20275901 2015-09-13 05:00:00  275768        888   \n",
       "\n",
       "                                                      value  \n",
       "5903679                                          n32880.000  \n",
       "5668945                                             1133979  \n",
       "11314219                                             103591  \n",
       "15170322                                             679677  \n",
       "15170323                                                  0  \n",
       "...                                                     ...  \n",
       "9472989                                              769062  \n",
       "9473006   561561 1055803 447378 n12.000 1135780 1284577 ...  \n",
       "2199697   12762 16970 145048 237874 1229126 784581 12977...  \n",
       "9472887                                                   0  \n",
       "20275901                   888666 n10800.000 746840 1318567  \n",
       "\n",
       "[20275902 rows x 4 columns]"
      ]
     },
     "execution_count": 17,
     "metadata": {},
     "output_type": "execute_result"
    }
   ],
   "source": [
    "item_props"
   ]
  },
  {
   "cell_type": "markdown",
   "id": "638efe1f",
   "metadata": {},
   "source": [
    "# Exploring  properties of  items  over time"
   ]
  },
  {
   "cell_type": "code",
   "execution_count": 18,
   "id": "05c1d19b",
   "metadata": {},
   "outputs": [],
   "source": [
    "item_props=item_props.set_index('timestamp')"
   ]
  },
  {
   "cell_type": "code",
   "execution_count": 19,
   "id": "27d0fb0c",
   "metadata": {},
   "outputs": [],
   "source": [
    "item_props=item_props.sort_values(by=['timestamp', 'itemid','property', 'value'])"
   ]
  },
  {
   "cell_type": "code",
   "execution_count": 20,
   "id": "607ae214",
   "metadata": {},
   "outputs": [
    {
     "data": {
      "text/html": [
       "<div>\n",
       "<style scoped>\n",
       "    .dataframe tbody tr th:only-of-type {\n",
       "        vertical-align: middle;\n",
       "    }\n",
       "\n",
       "    .dataframe tbody tr th {\n",
       "        vertical-align: top;\n",
       "    }\n",
       "\n",
       "    .dataframe thead th {\n",
       "        text-align: right;\n",
       "    }\n",
       "</style>\n",
       "<table border=\"1\" class=\"dataframe\">\n",
       "  <thead>\n",
       "    <tr style=\"text-align: right;\">\n",
       "      <th></th>\n",
       "      <th>itemid</th>\n",
       "      <th>property</th>\n",
       "      <th>value</th>\n",
       "    </tr>\n",
       "    <tr>\n",
       "      <th>timestamp</th>\n",
       "      <th></th>\n",
       "      <th></th>\n",
       "      <th></th>\n",
       "    </tr>\n",
       "  </thead>\n",
       "  <tbody>\n",
       "    <tr>\n",
       "      <th>2015-05-10 05:00:00</th>\n",
       "      <td>0</td>\n",
       "      <td>159</td>\n",
       "      <td>519769</td>\n",
       "    </tr>\n",
       "    <tr>\n",
       "      <th>2015-05-10 05:00:00</th>\n",
       "      <td>0</td>\n",
       "      <td>283</td>\n",
       "      <td>66094 372274 478989</td>\n",
       "    </tr>\n",
       "    <tr>\n",
       "      <th>2015-05-10 05:00:00</th>\n",
       "      <td>0</td>\n",
       "      <td>6</td>\n",
       "      <td>1152934 1238769</td>\n",
       "    </tr>\n",
       "    <tr>\n",
       "      <th>2015-05-10 05:00:00</th>\n",
       "      <td>0</td>\n",
       "      <td>678</td>\n",
       "      <td>372274</td>\n",
       "    </tr>\n",
       "    <tr>\n",
       "      <th>2015-05-10 05:00:00</th>\n",
       "      <td>0</td>\n",
       "      <td>790</td>\n",
       "      <td>n91200.000</td>\n",
       "    </tr>\n",
       "    <tr>\n",
       "      <th>...</th>\n",
       "      <td>...</td>\n",
       "      <td>...</td>\n",
       "      <td>...</td>\n",
       "    </tr>\n",
       "    <tr>\n",
       "      <th>2015-09-13 05:00:00</th>\n",
       "      <td>466864</td>\n",
       "      <td>790</td>\n",
       "      <td>n111840.000</td>\n",
       "    </tr>\n",
       "    <tr>\n",
       "      <th>2015-09-13 05:00:00</th>\n",
       "      <td>466864</td>\n",
       "      <td>813</td>\n",
       "      <td>1148082 353870 1262739</td>\n",
       "    </tr>\n",
       "    <tr>\n",
       "      <th>2015-09-13 05:00:00</th>\n",
       "      <td>466864</td>\n",
       "      <td>888</td>\n",
       "      <td>1262739 205682 1050016 1154859</td>\n",
       "    </tr>\n",
       "    <tr>\n",
       "      <th>2015-09-13 05:00:00</th>\n",
       "      <td>466864</td>\n",
       "      <td>available</td>\n",
       "      <td>0</td>\n",
       "    </tr>\n",
       "    <tr>\n",
       "      <th>2015-09-13 05:00:00</th>\n",
       "      <td>466865</td>\n",
       "      <td>888</td>\n",
       "      <td>150169 780351 820477 437265 951705 103274 1154...</td>\n",
       "    </tr>\n",
       "  </tbody>\n",
       "</table>\n",
       "<p>20275902 rows × 3 columns</p>\n",
       "</div>"
      ],
      "text/plain": [
       "                     itemid   property  \\\n",
       "timestamp                                \n",
       "2015-05-10 05:00:00       0        159   \n",
       "2015-05-10 05:00:00       0        283   \n",
       "2015-05-10 05:00:00       0          6   \n",
       "2015-05-10 05:00:00       0        678   \n",
       "2015-05-10 05:00:00       0        790   \n",
       "...                     ...        ...   \n",
       "2015-09-13 05:00:00  466864        790   \n",
       "2015-09-13 05:00:00  466864        813   \n",
       "2015-09-13 05:00:00  466864        888   \n",
       "2015-09-13 05:00:00  466864  available   \n",
       "2015-09-13 05:00:00  466865        888   \n",
       "\n",
       "                                                                 value  \n",
       "timestamp                                                               \n",
       "2015-05-10 05:00:00                                             519769  \n",
       "2015-05-10 05:00:00                                66094 372274 478989  \n",
       "2015-05-10 05:00:00                                    1152934 1238769  \n",
       "2015-05-10 05:00:00                                             372274  \n",
       "2015-05-10 05:00:00                                         n91200.000  \n",
       "...                                                                ...  \n",
       "2015-09-13 05:00:00                                        n111840.000  \n",
       "2015-09-13 05:00:00                             1148082 353870 1262739  \n",
       "2015-09-13 05:00:00                     1262739 205682 1050016 1154859  \n",
       "2015-09-13 05:00:00                                                  0  \n",
       "2015-09-13 05:00:00  150169 780351 820477 437265 951705 103274 1154...  \n",
       "\n",
       "[20275902 rows x 3 columns]"
      ]
     },
     "execution_count": 20,
     "metadata": {},
     "output_type": "execute_result"
    }
   ],
   "source": [
    "item_props"
   ]
  },
  {
   "cell_type": "markdown",
   "id": "97aa8de3",
   "metadata": {},
   "source": [
    "#  Most frequently changed  properties "
   ]
  },
  {
   "cell_type": "markdown",
   "id": "ae491d4f",
   "metadata": {},
   "source": [
    "\n",
    "from the  below  code  we  find  properties  <b>888,790,available,categoryid,451 </b>the most frequently changed  properties"
   ]
  },
  {
   "cell_type": "code",
   "execution_count": 21,
   "id": "02ae69e3",
   "metadata": {},
   "outputs": [],
   "source": [
    "# item_props[item_props.duplicated(['itemid','property'])].property.value_counts()"
   ]
  },
  {
   "cell_type": "code",
   "execution_count": 22,
   "id": "8887ff11",
   "metadata": {},
   "outputs": [
    {
     "data": {
      "text/plain": [
       "<AxesSubplot:ylabel='property'>"
      ]
     },
     "execution_count": 22,
     "metadata": {},
     "output_type": "execute_result"
    },
    {
     "data": {
      "image/png": "[encoded data removed]",
      "text/plain": [
       "<Figure size 792x288 with 1 Axes>"
      ]
     },
     "metadata": {},
     "output_type": "display_data"
    }
   ],
   "source": [
    "\n",
    "sn.barplot(x=item_props.property.value_counts().index[0:10], y=item_props.property.value_counts()[0:10])"
   ]
  },
  {
   "cell_type": "markdown",
   "id": "3fbd2942",
   "metadata": {},
   "source": [
    "get the changed items over time "
   ]
  },
  {
   "cell_type": "code",
   "execution_count": 23,
   "id": "2bff1740",
   "metadata": {},
   "outputs": [
    {
     "data": {
      "text/html": [
       "<div>\n",
       "<style scoped>\n",
       "    .dataframe tbody tr th:only-of-type {\n",
       "        vertical-align: middle;\n",
       "    }\n",
       "\n",
       "    .dataframe tbody tr th {\n",
       "        vertical-align: top;\n",
       "    }\n",
       "\n",
       "    .dataframe thead th {\n",
       "        text-align: right;\n",
       "    }\n",
       "</style>\n",
       "<table border=\"1\" class=\"dataframe\">\n",
       "  <thead>\n",
       "    <tr style=\"text-align: right;\">\n",
       "      <th></th>\n",
       "      <th>itemid</th>\n",
       "      <th>property</th>\n",
       "      <th>value</th>\n",
       "    </tr>\n",
       "    <tr>\n",
       "      <th>timestamp</th>\n",
       "      <th></th>\n",
       "      <th></th>\n",
       "      <th></th>\n",
       "    </tr>\n",
       "  </thead>\n",
       "  <tbody>\n",
       "    <tr>\n",
       "      <th>2015-05-17 05:00:00</th>\n",
       "      <td>0</td>\n",
       "      <td>6</td>\n",
       "      <td>1152934 1238769</td>\n",
       "    </tr>\n",
       "    <tr>\n",
       "      <th>2015-05-17 05:00:00</th>\n",
       "      <td>1</td>\n",
       "      <td>790</td>\n",
       "      <td>n5760.000</td>\n",
       "    </tr>\n",
       "    <tr>\n",
       "      <th>2015-05-17 05:00:00</th>\n",
       "      <td>1</td>\n",
       "      <td>888</td>\n",
       "      <td>172646</td>\n",
       "    </tr>\n",
       "    <tr>\n",
       "      <th>2015-05-17 05:00:00</th>\n",
       "      <td>1</td>\n",
       "      <td>available</td>\n",
       "      <td>0</td>\n",
       "    </tr>\n",
       "    <tr>\n",
       "      <th>2015-05-17 05:00:00</th>\n",
       "      <td>3</td>\n",
       "      <td>283</td>\n",
       "      <td>138228 150169 1182824 327918 261419</td>\n",
       "    </tr>\n",
       "    <tr>\n",
       "      <th>...</th>\n",
       "      <td>...</td>\n",
       "      <td>...</td>\n",
       "      <td>...</td>\n",
       "    </tr>\n",
       "    <tr>\n",
       "      <th>2015-09-13 05:00:00</th>\n",
       "      <td>466864</td>\n",
       "      <td>790</td>\n",
       "      <td>n111840.000</td>\n",
       "    </tr>\n",
       "    <tr>\n",
       "      <th>2015-09-13 05:00:00</th>\n",
       "      <td>466864</td>\n",
       "      <td>813</td>\n",
       "      <td>1148082 353870 1262739</td>\n",
       "    </tr>\n",
       "    <tr>\n",
       "      <th>2015-09-13 05:00:00</th>\n",
       "      <td>466864</td>\n",
       "      <td>888</td>\n",
       "      <td>1262739 205682 1050016 1154859</td>\n",
       "    </tr>\n",
       "    <tr>\n",
       "      <th>2015-09-13 05:00:00</th>\n",
       "      <td>466864</td>\n",
       "      <td>available</td>\n",
       "      <td>0</td>\n",
       "    </tr>\n",
       "    <tr>\n",
       "      <th>2015-09-13 05:00:00</th>\n",
       "      <td>466865</td>\n",
       "      <td>888</td>\n",
       "      <td>150169 780351 820477 437265 951705 103274 1154...</td>\n",
       "    </tr>\n",
       "  </tbody>\n",
       "</table>\n",
       "<p>8272088 rows × 3 columns</p>\n",
       "</div>"
      ],
      "text/plain": [
       "                     itemid   property  \\\n",
       "timestamp                                \n",
       "2015-05-17 05:00:00       0          6   \n",
       "2015-05-17 05:00:00       1        790   \n",
       "2015-05-17 05:00:00       1        888   \n",
       "2015-05-17 05:00:00       1  available   \n",
       "2015-05-17 05:00:00       3        283   \n",
       "...                     ...        ...   \n",
       "2015-09-13 05:00:00  466864        790   \n",
       "2015-09-13 05:00:00  466864        813   \n",
       "2015-09-13 05:00:00  466864        888   \n",
       "2015-09-13 05:00:00  466864  available   \n",
       "2015-09-13 05:00:00  466865        888   \n",
       "\n",
       "                                                                 value  \n",
       "timestamp                                                               \n",
       "2015-05-17 05:00:00                                    1152934 1238769  \n",
       "2015-05-17 05:00:00                                          n5760.000  \n",
       "2015-05-17 05:00:00                                             172646  \n",
       "2015-05-17 05:00:00                                                  0  \n",
       "2015-05-17 05:00:00                138228 150169 1182824 327918 261419  \n",
       "...                                                                ...  \n",
       "2015-09-13 05:00:00                                        n111840.000  \n",
       "2015-09-13 05:00:00                             1148082 353870 1262739  \n",
       "2015-09-13 05:00:00                     1262739 205682 1050016 1154859  \n",
       "2015-09-13 05:00:00                                                  0  \n",
       "2015-09-13 05:00:00  150169 780351 820477 437265 951705 103274 1154...  \n",
       "\n",
       "[8272088 rows x 3 columns]"
      ]
     },
     "execution_count": 23,
     "metadata": {},
     "output_type": "execute_result"
    }
   ],
   "source": [
    "changed_items=item_props[item_props.duplicated(['itemid','property'])]\n",
    "changed_items"
   ]
  },
  {
   "cell_type": "markdown",
   "id": "dc1bfcff",
   "metadata": {},
   "source": [
    "# listing the items that have different category over time"
   ]
  },
  {
   "cell_type": "code",
   "execution_count": 24,
   "id": "94ded57f",
   "metadata": {},
   "outputs": [
    {
     "data": {
      "text/html": [
       "<div>\n",
       "<style scoped>\n",
       "    .dataframe tbody tr th:only-of-type {\n",
       "        vertical-align: middle;\n",
       "    }\n",
       "\n",
       "    .dataframe tbody tr th {\n",
       "        vertical-align: top;\n",
       "    }\n",
       "\n",
       "    .dataframe thead th {\n",
       "        text-align: right;\n",
       "    }\n",
       "</style>\n",
       "<table border=\"1\" class=\"dataframe\">\n",
       "  <thead>\n",
       "    <tr style=\"text-align: right;\">\n",
       "      <th></th>\n",
       "      <th>itemid</th>\n",
       "      <th>property</th>\n",
       "      <th>value</th>\n",
       "    </tr>\n",
       "    <tr>\n",
       "      <th>timestamp</th>\n",
       "      <th></th>\n",
       "      <th></th>\n",
       "      <th></th>\n",
       "    </tr>\n",
       "  </thead>\n",
       "  <tbody>\n",
       "    <tr>\n",
       "      <th>2015-05-17 05:00:00</th>\n",
       "      <td>25</td>\n",
       "      <td>categoryid</td>\n",
       "      <td>1509</td>\n",
       "    </tr>\n",
       "    <tr>\n",
       "      <th>2015-05-17 05:00:00</th>\n",
       "      <td>94</td>\n",
       "      <td>categoryid</td>\n",
       "      <td>1147</td>\n",
       "    </tr>\n",
       "    <tr>\n",
       "      <th>2015-05-17 05:00:00</th>\n",
       "      <td>130</td>\n",
       "      <td>categoryid</td>\n",
       "      <td>1277</td>\n",
       "    </tr>\n",
       "    <tr>\n",
       "      <th>2015-05-17 05:00:00</th>\n",
       "      <td>149</td>\n",
       "      <td>categoryid</td>\n",
       "      <td>1120</td>\n",
       "    </tr>\n",
       "    <tr>\n",
       "      <th>2015-05-17 05:00:00</th>\n",
       "      <td>168</td>\n",
       "      <td>categoryid</td>\n",
       "      <td>1006</td>\n",
       "    </tr>\n",
       "    <tr>\n",
       "      <th>...</th>\n",
       "      <td>...</td>\n",
       "      <td>...</td>\n",
       "      <td>...</td>\n",
       "    </tr>\n",
       "    <tr>\n",
       "      <th>2015-09-13 05:00:00</th>\n",
       "      <td>466738</td>\n",
       "      <td>categoryid</td>\n",
       "      <td>1617</td>\n",
       "    </tr>\n",
       "    <tr>\n",
       "      <th>2015-09-13 05:00:00</th>\n",
       "      <td>466767</td>\n",
       "      <td>categoryid</td>\n",
       "      <td>1114</td>\n",
       "    </tr>\n",
       "    <tr>\n",
       "      <th>2015-09-13 05:00:00</th>\n",
       "      <td>466768</td>\n",
       "      <td>categoryid</td>\n",
       "      <td>1244</td>\n",
       "    </tr>\n",
       "    <tr>\n",
       "      <th>2015-09-13 05:00:00</th>\n",
       "      <td>466783</td>\n",
       "      <td>categoryid</td>\n",
       "      <td>1114</td>\n",
       "    </tr>\n",
       "    <tr>\n",
       "      <th>2015-09-13 05:00:00</th>\n",
       "      <td>466829</td>\n",
       "      <td>categoryid</td>\n",
       "      <td>438</td>\n",
       "    </tr>\n",
       "  </tbody>\n",
       "</table>\n",
       "<p>371161 rows × 3 columns</p>\n",
       "</div>"
      ],
      "text/plain": [
       "                     itemid    property value\n",
       "timestamp                                    \n",
       "2015-05-17 05:00:00      25  categoryid  1509\n",
       "2015-05-17 05:00:00      94  categoryid  1147\n",
       "2015-05-17 05:00:00     130  categoryid  1277\n",
       "2015-05-17 05:00:00     149  categoryid  1120\n",
       "2015-05-17 05:00:00     168  categoryid  1006\n",
       "...                     ...         ...   ...\n",
       "2015-09-13 05:00:00  466738  categoryid  1617\n",
       "2015-09-13 05:00:00  466767  categoryid  1114\n",
       "2015-09-13 05:00:00  466768  categoryid  1244\n",
       "2015-09-13 05:00:00  466783  categoryid  1114\n",
       "2015-09-13 05:00:00  466829  categoryid   438\n",
       "\n",
       "[371161 rows x 3 columns]"
      ]
     },
     "execution_count": 24,
     "metadata": {},
     "output_type": "execute_result"
    }
   ],
   "source": [
    "changed_items[changed_items['property']=='categoryid']"
   ]
  },
  {
   "cell_type": "markdown",
   "id": "e1fa55a7",
   "metadata": {},
   "source": [
    "let's check  frist item <b> 393623</b> and property <b>categoryid</b>"
   ]
  },
  {
   "cell_type": "code",
   "execution_count": 25,
   "id": "7a31d289",
   "metadata": {},
   "outputs": [],
   "source": [
    "# item_props[(item_props['itemid']==369722) &(item_props['property']=='categoryid')]['value']"
   ]
  },
  {
   "cell_type": "code",
   "execution_count": 26,
   "id": "ac2392ad",
   "metadata": {},
   "outputs": [
    {
     "data": {
      "text/plain": [
       "<AxesSubplot:xlabel='timestamp'>"
      ]
     },
     "execution_count": 26,
     "metadata": {},
     "output_type": "execute_result"
    },
    {
     "data": {
      "image/png": "[encoded data removed]",
      "text/plain": [
       "<Figure size 792x288 with 1 Axes>"
      ]
     },
     "metadata": {},
     "output_type": "display_data"
    }
   ],
   "source": [
    "item_props[(item_props['itemid']==393623) &(item_props['property']=='categoryid')]['value'].astype(int).plot(grid='True')"
   ]
  },
  {
   "cell_type": "markdown",
   "id": "46e7bf2b",
   "metadata": {},
   "source": [
    "# the changes in items avaiablibty over time"
   ]
  },
  {
   "cell_type": "code",
   "execution_count": 27,
   "id": "ff22a53e",
   "metadata": {},
   "outputs": [
    {
     "data": {
      "text/html": [
       "<div>\n",
       "<style scoped>\n",
       "    .dataframe tbody tr th:only-of-type {\n",
       "        vertical-align: middle;\n",
       "    }\n",
       "\n",
       "    .dataframe tbody tr th {\n",
       "        vertical-align: top;\n",
       "    }\n",
       "\n",
       "    .dataframe thead th {\n",
       "        text-align: right;\n",
       "    }\n",
       "</style>\n",
       "<table border=\"1\" class=\"dataframe\">\n",
       "  <thead>\n",
       "    <tr style=\"text-align: right;\">\n",
       "      <th></th>\n",
       "      <th>itemid</th>\n",
       "      <th>property</th>\n",
       "      <th>value</th>\n",
       "    </tr>\n",
       "    <tr>\n",
       "      <th>timestamp</th>\n",
       "      <th></th>\n",
       "      <th></th>\n",
       "      <th></th>\n",
       "    </tr>\n",
       "  </thead>\n",
       "  <tbody>\n",
       "    <tr>\n",
       "      <th>2015-05-17 05:00:00</th>\n",
       "      <td>1</td>\n",
       "      <td>available</td>\n",
       "      <td>0</td>\n",
       "    </tr>\n",
       "    <tr>\n",
       "      <th>2015-05-17 05:00:00</th>\n",
       "      <td>6</td>\n",
       "      <td>available</td>\n",
       "      <td>1</td>\n",
       "    </tr>\n",
       "    <tr>\n",
       "      <th>2015-05-17 05:00:00</th>\n",
       "      <td>15</td>\n",
       "      <td>available</td>\n",
       "      <td>1</td>\n",
       "    </tr>\n",
       "    <tr>\n",
       "      <th>2015-05-17 05:00:00</th>\n",
       "      <td>16</td>\n",
       "      <td>available</td>\n",
       "      <td>0</td>\n",
       "    </tr>\n",
       "    <tr>\n",
       "      <th>2015-05-17 05:00:00</th>\n",
       "      <td>19</td>\n",
       "      <td>available</td>\n",
       "      <td>1</td>\n",
       "    </tr>\n",
       "    <tr>\n",
       "      <th>...</th>\n",
       "      <td>...</td>\n",
       "      <td>...</td>\n",
       "      <td>...</td>\n",
       "    </tr>\n",
       "    <tr>\n",
       "      <th>2015-09-13 05:00:00</th>\n",
       "      <td>466848</td>\n",
       "      <td>available</td>\n",
       "      <td>1</td>\n",
       "    </tr>\n",
       "    <tr>\n",
       "      <th>2015-09-13 05:00:00</th>\n",
       "      <td>466853</td>\n",
       "      <td>available</td>\n",
       "      <td>0</td>\n",
       "    </tr>\n",
       "    <tr>\n",
       "      <th>2015-09-13 05:00:00</th>\n",
       "      <td>466858</td>\n",
       "      <td>available</td>\n",
       "      <td>1</td>\n",
       "    </tr>\n",
       "    <tr>\n",
       "      <th>2015-09-13 05:00:00</th>\n",
       "      <td>466861</td>\n",
       "      <td>available</td>\n",
       "      <td>0</td>\n",
       "    </tr>\n",
       "    <tr>\n",
       "      <th>2015-09-13 05:00:00</th>\n",
       "      <td>466864</td>\n",
       "      <td>available</td>\n",
       "      <td>0</td>\n",
       "    </tr>\n",
       "  </tbody>\n",
       "</table>\n",
       "<p>1086586 rows × 3 columns</p>\n",
       "</div>"
      ],
      "text/plain": [
       "                     itemid   property value\n",
       "timestamp                                   \n",
       "2015-05-17 05:00:00       1  available     0\n",
       "2015-05-17 05:00:00       6  available     1\n",
       "2015-05-17 05:00:00      15  available     1\n",
       "2015-05-17 05:00:00      16  available     0\n",
       "2015-05-17 05:00:00      19  available     1\n",
       "...                     ...        ...   ...\n",
       "2015-09-13 05:00:00  466848  available     1\n",
       "2015-09-13 05:00:00  466853  available     0\n",
       "2015-09-13 05:00:00  466858  available     1\n",
       "2015-09-13 05:00:00  466861  available     0\n",
       "2015-09-13 05:00:00  466864  available     0\n",
       "\n",
       "[1086586 rows x 3 columns]"
      ]
     },
     "execution_count": 27,
     "metadata": {},
     "output_type": "execute_result"
    }
   ],
   "source": [
    "changed_items[changed_items['property']=='available']"
   ]
  },
  {
   "cell_type": "markdown",
   "id": "317ebe4e",
   "metadata": {},
   "source": [
    "checck  avaiablibty of item 267142 and 379701 over time "
   ]
  },
  {
   "cell_type": "code",
   "execution_count": 28,
   "id": "ce929f0a",
   "metadata": {
    "scrolled": true
   },
   "outputs": [
    {
     "data": {
      "text/plain": [
       "<AxesSubplot:xlabel='timestamp'>"
      ]
     },
     "execution_count": 28,
     "metadata": {},
     "output_type": "execute_result"
    },
    {
     "data": {
      "image/png": "[encoded data removed]",
      "text/plain": [
       "<Figure size 792x288 with 1 Axes>"
      ]
     },
     "metadata": {},
     "output_type": "display_data"
    }
   ],
   "source": [
    "item_props[(item_props['itemid']==267142) &(item_props['property']=='available')]['value'].astype(int).plot(grid='True')"
   ]
  },
  {
   "cell_type": "code",
   "execution_count": 29,
   "id": "8e474f67",
   "metadata": {},
   "outputs": [
    {
     "data": {
      "text/plain": [
       "<AxesSubplot:xlabel='timestamp'>"
      ]
     },
     "execution_count": 29,
     "metadata": {},
     "output_type": "execute_result"
    },
    {
     "data": {
      "image/png": "[encoded data removed]",
      "text/plain": [
       "<Figure size 792x288 with 1 Axes>"
      ]
     },
     "metadata": {},
     "output_type": "display_data"
    }
   ],
   "source": [
    "item_props[(item_props['itemid']==379701) &(item_props['property']=='available')]['value'].astype(int).plot(grid='True')"
   ]
  },
  {
   "cell_type": "code",
   "execution_count": 30,
   "id": "df251be4",
   "metadata": {},
   "outputs": [],
   "source": [
    "# item_props[(item_props['itemid']==267142) &(item_props['property']=='available')]['value']"
   ]
  },
  {
   "cell_type": "markdown",
   "id": "9e960309",
   "metadata": {},
   "source": [
    "item 267142 almost not available most of time it was available only once at 2015-08-02 05:00:00 in contrast to  item  379701 which was avaiable most  of time "
   ]
  },
  {
   "cell_type": "markdown",
   "id": "6e273129",
   "metadata": {},
   "source": [
    "# Num of  unique properties per item"
   ]
  },
  {
   "cell_type": "code",
   "execution_count": 31,
   "id": "b063720a",
   "metadata": {},
   "outputs": [],
   "source": [
    "propertiesperitem=item_props.groupby(['itemid'])['property'].nunique()"
   ]
  },
  {
   "cell_type": "code",
   "execution_count": 32,
   "id": "e4e8a839",
   "metadata": {},
   "outputs": [],
   "source": [
    "propertiesperitem=propertiesperitem.to_frame( name=\"nuniqueproperty\")"
   ]
  },
  {
   "cell_type": "code",
   "execution_count": 33,
   "id": "6f1aaa7e",
   "metadata": {},
   "outputs": [
    {
     "data": {
      "text/html": [
       "<div>\n",
       "<style scoped>\n",
       "    .dataframe tbody tr th:only-of-type {\n",
       "        vertical-align: middle;\n",
       "    }\n",
       "\n",
       "    .dataframe tbody tr th {\n",
       "        vertical-align: top;\n",
       "    }\n",
       "\n",
       "    .dataframe thead th {\n",
       "        text-align: right;\n",
       "    }\n",
       "</style>\n",
       "<table border=\"1\" class=\"dataframe\">\n",
       "  <thead>\n",
       "    <tr style=\"text-align: right;\">\n",
       "      <th></th>\n",
       "      <th>nuniqueproperty</th>\n",
       "    </tr>\n",
       "    <tr>\n",
       "      <th>itemid</th>\n",
       "      <th></th>\n",
       "    </tr>\n",
       "  </thead>\n",
       "  <tbody>\n",
       "    <tr>\n",
       "      <th>0</th>\n",
       "      <td>28</td>\n",
       "    </tr>\n",
       "    <tr>\n",
       "      <th>1</th>\n",
       "      <td>35</td>\n",
       "    </tr>\n",
       "    <tr>\n",
       "      <th>2</th>\n",
       "      <td>24</td>\n",
       "    </tr>\n",
       "    <tr>\n",
       "      <th>3</th>\n",
       "      <td>29</td>\n",
       "    </tr>\n",
       "    <tr>\n",
       "      <th>4</th>\n",
       "      <td>25</td>\n",
       "    </tr>\n",
       "    <tr>\n",
       "      <th>...</th>\n",
       "      <td>...</td>\n",
       "    </tr>\n",
       "    <tr>\n",
       "      <th>466862</th>\n",
       "      <td>31</td>\n",
       "    </tr>\n",
       "    <tr>\n",
       "      <th>466863</th>\n",
       "      <td>23</td>\n",
       "    </tr>\n",
       "    <tr>\n",
       "      <th>466864</th>\n",
       "      <td>28</td>\n",
       "    </tr>\n",
       "    <tr>\n",
       "      <th>466865</th>\n",
       "      <td>27</td>\n",
       "    </tr>\n",
       "    <tr>\n",
       "      <th>466866</th>\n",
       "      <td>42</td>\n",
       "    </tr>\n",
       "  </tbody>\n",
       "</table>\n",
       "<p>417053 rows × 1 columns</p>\n",
       "</div>"
      ],
      "text/plain": [
       "        nuniqueproperty\n",
       "itemid                 \n",
       "0                    28\n",
       "1                    35\n",
       "2                    24\n",
       "3                    29\n",
       "4                    25\n",
       "...                 ...\n",
       "466862               31\n",
       "466863               23\n",
       "466864               28\n",
       "466865               27\n",
       "466866               42\n",
       "\n",
       "[417053 rows x 1 columns]"
      ]
     },
     "execution_count": 33,
     "metadata": {},
     "output_type": "execute_result"
    }
   ],
   "source": [
    "propertiesperitem"
   ]
  },
  {
   "cell_type": "markdown",
   "id": "a04a7cf1",
   "metadata": {},
   "source": [
    "from the  below output we find that the  averaage  number of properties  per item amlost <b>28</b> and  max is  <b>59</b> and  min <b>12 </b>"
   ]
  },
  {
   "cell_type": "code",
   "execution_count": 34,
   "id": "f6158ceb",
   "metadata": {
    "scrolled": true
   },
   "outputs": [
    {
     "data": {
      "text/html": [
       "<div>\n",
       "<style scoped>\n",
       "    .dataframe tbody tr th:only-of-type {\n",
       "        vertical-align: middle;\n",
       "    }\n",
       "\n",
       "    .dataframe tbody tr th {\n",
       "        vertical-align: top;\n",
       "    }\n",
       "\n",
       "    .dataframe thead th {\n",
       "        text-align: right;\n",
       "    }\n",
       "</style>\n",
       "<table border=\"1\" class=\"dataframe\">\n",
       "  <thead>\n",
       "    <tr style=\"text-align: right;\">\n",
       "      <th></th>\n",
       "      <th>nuniqueproperty</th>\n",
       "    </tr>\n",
       "  </thead>\n",
       "  <tbody>\n",
       "    <tr>\n",
       "      <th>count</th>\n",
       "      <td>417053.000000</td>\n",
       "    </tr>\n",
       "    <tr>\n",
       "      <th>mean</th>\n",
       "      <td>28.782466</td>\n",
       "    </tr>\n",
       "    <tr>\n",
       "      <th>std</th>\n",
       "      <td>7.409326</td>\n",
       "    </tr>\n",
       "    <tr>\n",
       "      <th>min</th>\n",
       "      <td>12.000000</td>\n",
       "    </tr>\n",
       "    <tr>\n",
       "      <th>25%</th>\n",
       "      <td>24.000000</td>\n",
       "    </tr>\n",
       "    <tr>\n",
       "      <th>50%</th>\n",
       "      <td>27.000000</td>\n",
       "    </tr>\n",
       "    <tr>\n",
       "      <th>75%</th>\n",
       "      <td>31.000000</td>\n",
       "    </tr>\n",
       "    <tr>\n",
       "      <th>max</th>\n",
       "      <td>59.000000</td>\n",
       "    </tr>\n",
       "  </tbody>\n",
       "</table>\n",
       "</div>"
      ],
      "text/plain": [
       "       nuniqueproperty\n",
       "count    417053.000000\n",
       "mean         28.782466\n",
       "std           7.409326\n",
       "min          12.000000\n",
       "25%          24.000000\n",
       "50%          27.000000\n",
       "75%          31.000000\n",
       "max          59.000000"
      ]
     },
     "execution_count": 34,
     "metadata": {},
     "output_type": "execute_result"
    }
   ],
   "source": [
    "propertiesperitem.describe()"
   ]
  },
  {
   "cell_type": "code",
   "execution_count": 35,
   "id": "c33d2171",
   "metadata": {},
   "outputs": [],
   "source": [
    "# item_props.groupby(['itemid','property'])['value'].nunique().to_frame(name='numofchanges').sort_values(by='numofchanges',ascending=False)"
   ]
  },
  {
   "cell_type": "markdown",
   "id": "9851d2f0",
   "metadata": {},
   "source": [
    "# Properties that are constant over time"
   ]
  },
  {
   "cell_type": "code",
   "execution_count": 36,
   "id": "4abd4a85",
   "metadata": {},
   "outputs": [],
   "source": [
    "valuesperproperty=item_props.groupby(['itemid','property'],as_index=False).agg({'value':{'count','nunique'}})"
   ]
  },
  {
   "cell_type": "code",
   "execution_count": 37,
   "id": "79b2daf7",
   "metadata": {},
   "outputs": [],
   "source": [
    "# valuesperproperty=valuesperproperty.reset_index()"
   ]
  },
  {
   "cell_type": "code",
   "execution_count": 38,
   "id": "c1386760",
   "metadata": {},
   "outputs": [],
   "source": [
    "valuesperproperty.columns = [\"itemid\",\"property\",\"value_nunique\",\"value_count\"]"
   ]
  },
  {
   "cell_type": "code",
   "execution_count": 39,
   "id": "7e74fa9b",
   "metadata": {},
   "outputs": [
    {
     "data": {
      "text/html": [
       "<div>\n",
       "<style scoped>\n",
       "    .dataframe tbody tr th:only-of-type {\n",
       "        vertical-align: middle;\n",
       "    }\n",
       "\n",
       "    .dataframe tbody tr th {\n",
       "        vertical-align: top;\n",
       "    }\n",
       "\n",
       "    .dataframe thead th {\n",
       "        text-align: right;\n",
       "    }\n",
       "</style>\n",
       "<table border=\"1\" class=\"dataframe\">\n",
       "  <thead>\n",
       "    <tr style=\"text-align: right;\">\n",
       "      <th></th>\n",
       "      <th>itemid</th>\n",
       "      <th>property</th>\n",
       "      <th>value_nunique</th>\n",
       "      <th>value_count</th>\n",
       "    </tr>\n",
       "  </thead>\n",
       "  <tbody>\n",
       "  </tbody>\n",
       "</table>\n",
       "</div>"
      ],
      "text/plain": [
       "Empty DataFrame\n",
       "Columns: [itemid, property, value_nunique, value_count]\n",
       "Index: []"
      ]
     },
     "execution_count": 39,
     "metadata": {},
     "output_type": "execute_result"
    }
   ],
   "source": [
    "valuesperproperty[(valuesperproperty['value_nunique']==1)&(valuesperproperty['value_count']>1)]"
   ]
  },
  {
   "cell_type": "markdown",
   "id": "1cf6aab2",
   "metadata": {},
   "source": [
    "<b>Validating resullt by explore example of returned rows</b>\n",
    " <li> we can see rom the  below output /graph that the  value is the same  over time \n",
    "    "
   ]
  },
  {
   "cell_type": "code",
   "execution_count": 40,
   "id": "c7b2fede",
   "metadata": {},
   "outputs": [
    {
     "data": {
      "text/html": [
       "<div>\n",
       "<style scoped>\n",
       "    .dataframe tbody tr th:only-of-type {\n",
       "        vertical-align: middle;\n",
       "    }\n",
       "\n",
       "    .dataframe tbody tr th {\n",
       "        vertical-align: top;\n",
       "    }\n",
       "\n",
       "    .dataframe thead th {\n",
       "        text-align: right;\n",
       "    }\n",
       "</style>\n",
       "<table border=\"1\" class=\"dataframe\">\n",
       "  <thead>\n",
       "    <tr style=\"text-align: right;\">\n",
       "      <th></th>\n",
       "      <th>itemid</th>\n",
       "      <th>property</th>\n",
       "      <th>value</th>\n",
       "    </tr>\n",
       "    <tr>\n",
       "      <th>timestamp</th>\n",
       "      <th></th>\n",
       "      <th></th>\n",
       "      <th></th>\n",
       "    </tr>\n",
       "  </thead>\n",
       "  <tbody>\n",
       "    <tr>\n",
       "      <th>2015-05-24 05:00:00</th>\n",
       "      <td>40</td>\n",
       "      <td>810</td>\n",
       "      <td>n180.000 424566</td>\n",
       "    </tr>\n",
       "    <tr>\n",
       "      <th>2015-05-31 05:00:00</th>\n",
       "      <td>40</td>\n",
       "      <td>810</td>\n",
       "      <td>n180.000 424566</td>\n",
       "    </tr>\n",
       "    <tr>\n",
       "      <th>2015-06-07 05:00:00</th>\n",
       "      <td>40</td>\n",
       "      <td>810</td>\n",
       "      <td>n180.000 424566</td>\n",
       "    </tr>\n",
       "    <tr>\n",
       "      <th>2015-06-14 05:00:00</th>\n",
       "      <td>40</td>\n",
       "      <td>810</td>\n",
       "      <td>n180.000 424566</td>\n",
       "    </tr>\n",
       "    <tr>\n",
       "      <th>2015-06-28 05:00:00</th>\n",
       "      <td>40</td>\n",
       "      <td>810</td>\n",
       "      <td>n180.000 424566</td>\n",
       "    </tr>\n",
       "    <tr>\n",
       "      <th>2015-07-05 05:00:00</th>\n",
       "      <td>40</td>\n",
       "      <td>810</td>\n",
       "      <td>n180.000 424566</td>\n",
       "    </tr>\n",
       "    <tr>\n",
       "      <th>2015-07-12 05:00:00</th>\n",
       "      <td>40</td>\n",
       "      <td>810</td>\n",
       "      <td>n180.000 424566</td>\n",
       "    </tr>\n",
       "    <tr>\n",
       "      <th>2015-07-19 05:00:00</th>\n",
       "      <td>40</td>\n",
       "      <td>810</td>\n",
       "      <td>n180.000 424566</td>\n",
       "    </tr>\n",
       "    <tr>\n",
       "      <th>2015-07-26 05:00:00</th>\n",
       "      <td>40</td>\n",
       "      <td>810</td>\n",
       "      <td>n180.000 424566</td>\n",
       "    </tr>\n",
       "    <tr>\n",
       "      <th>2015-08-02 05:00:00</th>\n",
       "      <td>40</td>\n",
       "      <td>810</td>\n",
       "      <td>n180.000 424566</td>\n",
       "    </tr>\n",
       "    <tr>\n",
       "      <th>2015-08-09 05:00:00</th>\n",
       "      <td>40</td>\n",
       "      <td>810</td>\n",
       "      <td>n180.000 424566</td>\n",
       "    </tr>\n",
       "    <tr>\n",
       "      <th>2015-08-16 05:00:00</th>\n",
       "      <td>40</td>\n",
       "      <td>810</td>\n",
       "      <td>n180.000 424566</td>\n",
       "    </tr>\n",
       "    <tr>\n",
       "      <th>2015-08-23 05:00:00</th>\n",
       "      <td>40</td>\n",
       "      <td>810</td>\n",
       "      <td>n180.000 424566</td>\n",
       "    </tr>\n",
       "    <tr>\n",
       "      <th>2015-08-30 05:00:00</th>\n",
       "      <td>40</td>\n",
       "      <td>810</td>\n",
       "      <td>n180.000 424566</td>\n",
       "    </tr>\n",
       "    <tr>\n",
       "      <th>2015-09-06 05:00:00</th>\n",
       "      <td>40</td>\n",
       "      <td>810</td>\n",
       "      <td>n180.000 424566</td>\n",
       "    </tr>\n",
       "    <tr>\n",
       "      <th>2015-09-13 05:00:00</th>\n",
       "      <td>40</td>\n",
       "      <td>810</td>\n",
       "      <td>n180.000 424566</td>\n",
       "    </tr>\n",
       "  </tbody>\n",
       "</table>\n",
       "</div>"
      ],
      "text/plain": [
       "                     itemid property            value\n",
       "timestamp                                            \n",
       "2015-05-24 05:00:00      40      810  n180.000 424566\n",
       "2015-05-31 05:00:00      40      810  n180.000 424566\n",
       "2015-06-07 05:00:00      40      810  n180.000 424566\n",
       "2015-06-14 05:00:00      40      810  n180.000 424566\n",
       "2015-06-28 05:00:00      40      810  n180.000 424566\n",
       "2015-07-05 05:00:00      40      810  n180.000 424566\n",
       "2015-07-12 05:00:00      40      810  n180.000 424566\n",
       "2015-07-19 05:00:00      40      810  n180.000 424566\n",
       "2015-07-26 05:00:00      40      810  n180.000 424566\n",
       "2015-08-02 05:00:00      40      810  n180.000 424566\n",
       "2015-08-09 05:00:00      40      810  n180.000 424566\n",
       "2015-08-16 05:00:00      40      810  n180.000 424566\n",
       "2015-08-23 05:00:00      40      810  n180.000 424566\n",
       "2015-08-30 05:00:00      40      810  n180.000 424566\n",
       "2015-09-06 05:00:00      40      810  n180.000 424566\n",
       "2015-09-13 05:00:00      40      810  n180.000 424566"
      ]
     },
     "execution_count": 40,
     "metadata": {},
     "output_type": "execute_result"
    }
   ],
   "source": [
    "item_props[(item_props.itemid==40)&(item_props.property=='810')]"
   ]
  },
  {
   "cell_type": "code",
   "execution_count": 41,
   "id": "c7604856",
   "metadata": {},
   "outputs": [
    {
     "data": {
      "text/plain": [
       "<AxesSubplot:>"
      ]
     },
     "execution_count": 41,
     "metadata": {},
     "output_type": "execute_result"
    },
    {
     "data": {
      "image/png": "[encoded data removed]",
      "text/plain": [
       "<Figure size 792x288 with 1 Axes>"
      ]
     },
     "metadata": {},
     "output_type": "display_data"
    }
   ],
   "source": [
    "item_props[(item_props.itemid==40)&(item_props.property=='810')]['value'].value_counts().plot.bar(stacked=True)"
   ]
  },
  {
   "cell_type": "markdown",
   "id": "13500274",
   "metadata": {},
   "source": [
    "\n",
    "<li> from the  below code we can find that there are <b>1104 </b> unique property that are  constant over time for some items\n",
    "<li> also we  see that the count for some  property is the same of the number of unquie items so i think this properties may be  the meta data about every item like <b>descibtion or registerdate</b>  because every item have it\n",
    " <li> the  top of this properties are <b> 764,159,790,364 and 283"
   ]
  },
  {
   "cell_type": "code",
   "execution_count": 42,
   "id": "0c707926",
   "metadata": {},
   "outputs": [
    {
     "data": {
      "text/plain": [
       "1104"
      ]
     },
     "execution_count": 42,
     "metadata": {},
     "output_type": "execute_result"
    }
   ],
   "source": [
    "valuesperproperty.property.nunique()"
   ]
  },
  {
   "cell_type": "code",
   "execution_count": 43,
   "id": "31da3911",
   "metadata": {},
   "outputs": [
    {
     "data": {
      "text/plain": [
       "764     417053\n",
       "159     417053\n",
       "790     417053\n",
       "364     417053\n",
       "283     417053\n",
       "         ...  \n",
       "1091         1\n",
       "1046         1\n",
       "782          1\n",
       "769          1\n",
       "472          1\n",
       "Name: property, Length: 1104, dtype: int64"
      ]
     },
     "execution_count": 43,
     "metadata": {},
     "output_type": "execute_result"
    }
   ],
   "source": [
    "valuesperproperty.property.value_counts()"
   ]
  },
  {
   "cell_type": "code",
   "execution_count": 44,
   "id": "1fe751d9",
   "metadata": {},
   "outputs": [
    {
     "data": {
      "text/plain": [
       "417053"
      ]
     },
     "execution_count": 44,
     "metadata": {},
     "output_type": "execute_result"
    }
   ],
   "source": [
    "item_props.itemid.nunique()"
   ]
  },
  {
   "cell_type": "code",
   "execution_count": 45,
   "id": "3b4a5c13",
   "metadata": {},
   "outputs": [
    {
     "data": {
      "text/plain": [
       "<AxesSubplot:ylabel='property'>"
      ]
     },
     "execution_count": 45,
     "metadata": {},
     "output_type": "execute_result"
    },
    {
     "data": {
      "image/png": "[encoded data removed]",
      "text/plain": [
       "<Figure size 792x288 with 1 Axes>"
      ]
     },
     "metadata": {},
     "output_type": "display_data"
    }
   ],
   "source": [
    "sn.barplot(x=valuesperproperty.property.value_counts().index[0:20], y=valuesperproperty.property.value_counts()[0:20])"
   ]
  },
  {
   "cell_type": "markdown",
   "id": "f488ced9",
   "metadata": {},
   "source": [
    "# Snapshot merge"
   ]
  },
  {
   "cell_type": "markdown",
   "id": "d27333bc",
   "metadata": {},
   "source": [
    "check the dublicated snapshot \n",
    "we have <b>7497165</b> dublicated rows of <B> 20275902 </b> which will reduce the data size  by <b> 40% </b> after droping it"
   ]
  },
  {
   "cell_type": "code",
   "execution_count": 46,
   "id": "65ea2f2e",
   "metadata": {},
   "outputs": [
    {
     "data": {
      "text/html": [
       "<div>\n",
       "<style scoped>\n",
       "    .dataframe tbody tr th:only-of-type {\n",
       "        vertical-align: middle;\n",
       "    }\n",
       "\n",
       "    .dataframe tbody tr th {\n",
       "        vertical-align: top;\n",
       "    }\n",
       "\n",
       "    .dataframe thead th {\n",
       "        text-align: right;\n",
       "    }\n",
       "</style>\n",
       "<table border=\"1\" class=\"dataframe\">\n",
       "  <thead>\n",
       "    <tr style=\"text-align: right;\">\n",
       "      <th></th>\n",
       "      <th>itemid</th>\n",
       "      <th>property</th>\n",
       "      <th>value</th>\n",
       "    </tr>\n",
       "    <tr>\n",
       "      <th>timestamp</th>\n",
       "      <th></th>\n",
       "      <th></th>\n",
       "      <th></th>\n",
       "    </tr>\n",
       "  </thead>\n",
       "  <tbody>\n",
       "    <tr>\n",
       "      <th>2015-05-17 05:00:00</th>\n",
       "      <td>0</td>\n",
       "      <td>6</td>\n",
       "      <td>1152934 1238769</td>\n",
       "    </tr>\n",
       "    <tr>\n",
       "      <th>2015-05-17 05:00:00</th>\n",
       "      <td>1</td>\n",
       "      <td>790</td>\n",
       "      <td>n5760.000</td>\n",
       "    </tr>\n",
       "    <tr>\n",
       "      <th>2015-05-17 05:00:00</th>\n",
       "      <td>1</td>\n",
       "      <td>888</td>\n",
       "      <td>172646</td>\n",
       "    </tr>\n",
       "    <tr>\n",
       "      <th>2015-05-17 05:00:00</th>\n",
       "      <td>3</td>\n",
       "      <td>283</td>\n",
       "      <td>138228 150169 1182824 327918 261419</td>\n",
       "    </tr>\n",
       "    <tr>\n",
       "      <th>2015-05-17 05:00:00</th>\n",
       "      <td>4</td>\n",
       "      <td>888</td>\n",
       "      <td>371058 71429</td>\n",
       "    </tr>\n",
       "    <tr>\n",
       "      <th>...</th>\n",
       "      <td>...</td>\n",
       "      <td>...</td>\n",
       "      <td>...</td>\n",
       "    </tr>\n",
       "    <tr>\n",
       "      <th>2015-09-13 05:00:00</th>\n",
       "      <td>466864</td>\n",
       "      <td>790</td>\n",
       "      <td>n111840.000</td>\n",
       "    </tr>\n",
       "    <tr>\n",
       "      <th>2015-09-13 05:00:00</th>\n",
       "      <td>466864</td>\n",
       "      <td>813</td>\n",
       "      <td>1148082 353870 1262739</td>\n",
       "    </tr>\n",
       "    <tr>\n",
       "      <th>2015-09-13 05:00:00</th>\n",
       "      <td>466864</td>\n",
       "      <td>888</td>\n",
       "      <td>1262739 205682 1050016 1154859</td>\n",
       "    </tr>\n",
       "    <tr>\n",
       "      <th>2015-09-13 05:00:00</th>\n",
       "      <td>466864</td>\n",
       "      <td>available</td>\n",
       "      <td>0</td>\n",
       "    </tr>\n",
       "    <tr>\n",
       "      <th>2015-09-13 05:00:00</th>\n",
       "      <td>466865</td>\n",
       "      <td>888</td>\n",
       "      <td>150169 780351 820477 437265 951705 103274 1154...</td>\n",
       "    </tr>\n",
       "  </tbody>\n",
       "</table>\n",
       "<p>7497165 rows × 3 columns</p>\n",
       "</div>"
      ],
      "text/plain": [
       "                     itemid   property  \\\n",
       "timestamp                                \n",
       "2015-05-17 05:00:00       0          6   \n",
       "2015-05-17 05:00:00       1        790   \n",
       "2015-05-17 05:00:00       1        888   \n",
       "2015-05-17 05:00:00       3        283   \n",
       "2015-05-17 05:00:00       4        888   \n",
       "...                     ...        ...   \n",
       "2015-09-13 05:00:00  466864        790   \n",
       "2015-09-13 05:00:00  466864        813   \n",
       "2015-09-13 05:00:00  466864        888   \n",
       "2015-09-13 05:00:00  466864  available   \n",
       "2015-09-13 05:00:00  466865        888   \n",
       "\n",
       "                                                                 value  \n",
       "timestamp                                                               \n",
       "2015-05-17 05:00:00                                    1152934 1238769  \n",
       "2015-05-17 05:00:00                                          n5760.000  \n",
       "2015-05-17 05:00:00                                             172646  \n",
       "2015-05-17 05:00:00                138228 150169 1182824 327918 261419  \n",
       "2015-05-17 05:00:00                                       371058 71429  \n",
       "...                                                                ...  \n",
       "2015-09-13 05:00:00                                        n111840.000  \n",
       "2015-09-13 05:00:00                             1148082 353870 1262739  \n",
       "2015-09-13 05:00:00                     1262739 205682 1050016 1154859  \n",
       "2015-09-13 05:00:00                                                  0  \n",
       "2015-09-13 05:00:00  150169 780351 820477 437265 951705 103274 1154...  \n",
       "\n",
       "[7497165 rows x 3 columns]"
      ]
     },
     "execution_count": 46,
     "metadata": {},
     "output_type": "execute_result"
    }
   ],
   "source": [
    "item_props[item_props.duplicated(['itemid','property','value'])]"
   ]
  },
  {
   "cell_type": "markdown",
   "id": "5310bf73",
   "metadata": {},
   "source": [
    "Explore item <b>466864</b> with property <b>813</b> and value<b> '1148082 353870 1262739'</b> snapshots\n",
    "from the below graph we note that this property had been changed once for this  item."
   ]
  },
  {
   "cell_type": "code",
   "execution_count": 47,
   "id": "be167230",
   "metadata": {},
   "outputs": [
    {
     "data": {
      "text/plain": [
       "<AxesSubplot:xlabel='itemid,property'>"
      ]
     },
     "execution_count": 47,
     "metadata": {},
     "output_type": "execute_result"
    },
    {
     "data": {
      "image/png": "[encoded data removed]",
      "text/plain": [
       "<Figure size 792x288 with 1 Axes>"
      ]
     },
     "metadata": {},
     "output_type": "display_data"
    }
   ],
   "source": [
    "item1=item_props[(item_props.itemid==466864)&(item_props.property=='813')]\n",
    "item1.groupby(['itemid','property'])['value'].value_counts().unstack().plot.bar(stacked=True)"
   ]
  },
  {
   "cell_type": "markdown",
   "id": "aa1edd1d",
   "metadata": {},
   "source": [
    "let's drop the duplicates with consider keeping the last snapshot"
   ]
  },
  {
   "cell_type": "code",
   "execution_count": 48,
   "id": "f1b6c3ba",
   "metadata": {},
   "outputs": [],
   "source": [
    "item_props_merged=item_props.drop_duplicates(subset=['itemid','property','value'], keep='last')"
   ]
  },
  {
   "cell_type": "code",
   "execution_count": 49,
   "id": "57af935b",
   "metadata": {},
   "outputs": [
    {
     "data": {
      "text/plain": [
       "(12778737, 3)"
      ]
     },
     "execution_count": 49,
     "metadata": {},
     "output_type": "execute_result"
    }
   ],
   "source": [
    "item_props_merged.shape"
   ]
  },
  {
   "cell_type": "markdown",
   "id": "fa67f844",
   "metadata": {},
   "source": [
    "# Checking some items before and  after  snapshots merge"
   ]
  },
  {
   "cell_type": "markdown",
   "id": "94cd8c25",
   "metadata": {},
   "source": [
    "Before Merge"
   ]
  },
  {
   "cell_type": "code",
   "execution_count": 50,
   "id": "2e1089cf",
   "metadata": {},
   "outputs": [
    {
     "data": {
      "text/html": [
       "<div>\n",
       "<style scoped>\n",
       "    .dataframe tbody tr th:only-of-type {\n",
       "        vertical-align: middle;\n",
       "    }\n",
       "\n",
       "    .dataframe tbody tr th {\n",
       "        vertical-align: top;\n",
       "    }\n",
       "\n",
       "    .dataframe thead th {\n",
       "        text-align: right;\n",
       "    }\n",
       "</style>\n",
       "<table border=\"1\" class=\"dataframe\">\n",
       "  <thead>\n",
       "    <tr style=\"text-align: right;\">\n",
       "      <th></th>\n",
       "      <th>itemid</th>\n",
       "      <th>property</th>\n",
       "      <th>value</th>\n",
       "    </tr>\n",
       "    <tr>\n",
       "      <th>timestamp</th>\n",
       "      <th></th>\n",
       "      <th></th>\n",
       "      <th></th>\n",
       "    </tr>\n",
       "  </thead>\n",
       "  <tbody>\n",
       "    <tr>\n",
       "      <th>2015-05-10 05:00:00</th>\n",
       "      <td>91477</td>\n",
       "      <td>888</td>\n",
       "      <td>215907 409406</td>\n",
       "    </tr>\n",
       "    <tr>\n",
       "      <th>2015-05-17 05:00:00</th>\n",
       "      <td>91477</td>\n",
       "      <td>888</td>\n",
       "      <td>215907 409406</td>\n",
       "    </tr>\n",
       "    <tr>\n",
       "      <th>2015-05-24 05:00:00</th>\n",
       "      <td>91477</td>\n",
       "      <td>888</td>\n",
       "      <td>215907 409406</td>\n",
       "    </tr>\n",
       "    <tr>\n",
       "      <th>2015-05-31 05:00:00</th>\n",
       "      <td>91477</td>\n",
       "      <td>888</td>\n",
       "      <td>215907 409406</td>\n",
       "    </tr>\n",
       "    <tr>\n",
       "      <th>2015-06-07 05:00:00</th>\n",
       "      <td>91477</td>\n",
       "      <td>888</td>\n",
       "      <td>215907 409406</td>\n",
       "    </tr>\n",
       "    <tr>\n",
       "      <th>2015-06-14 05:00:00</th>\n",
       "      <td>91477</td>\n",
       "      <td>888</td>\n",
       "      <td>215907 409406</td>\n",
       "    </tr>\n",
       "    <tr>\n",
       "      <th>2015-06-28 05:00:00</th>\n",
       "      <td>91477</td>\n",
       "      <td>888</td>\n",
       "      <td>215907 409406</td>\n",
       "    </tr>\n",
       "    <tr>\n",
       "      <th>2015-07-05 05:00:00</th>\n",
       "      <td>91477</td>\n",
       "      <td>888</td>\n",
       "      <td>215907 409406</td>\n",
       "    </tr>\n",
       "    <tr>\n",
       "      <th>2015-07-12 05:00:00</th>\n",
       "      <td>91477</td>\n",
       "      <td>888</td>\n",
       "      <td>215907 409406</td>\n",
       "    </tr>\n",
       "    <tr>\n",
       "      <th>2015-07-19 05:00:00</th>\n",
       "      <td>91477</td>\n",
       "      <td>888</td>\n",
       "      <td>215907 409406</td>\n",
       "    </tr>\n",
       "    <tr>\n",
       "      <th>2015-07-26 05:00:00</th>\n",
       "      <td>91477</td>\n",
       "      <td>888</td>\n",
       "      <td>215907 409406</td>\n",
       "    </tr>\n",
       "    <tr>\n",
       "      <th>2015-08-02 05:00:00</th>\n",
       "      <td>91477</td>\n",
       "      <td>888</td>\n",
       "      <td>215907 409406</td>\n",
       "    </tr>\n",
       "    <tr>\n",
       "      <th>2015-08-09 05:00:00</th>\n",
       "      <td>91477</td>\n",
       "      <td>888</td>\n",
       "      <td>215907 409406</td>\n",
       "    </tr>\n",
       "    <tr>\n",
       "      <th>2015-08-16 05:00:00</th>\n",
       "      <td>91477</td>\n",
       "      <td>888</td>\n",
       "      <td>215907 409406</td>\n",
       "    </tr>\n",
       "    <tr>\n",
       "      <th>2015-08-23 05:00:00</th>\n",
       "      <td>91477</td>\n",
       "      <td>888</td>\n",
       "      <td>215907 409406</td>\n",
       "    </tr>\n",
       "    <tr>\n",
       "      <th>2015-08-30 05:00:00</th>\n",
       "      <td>91477</td>\n",
       "      <td>888</td>\n",
       "      <td>215907 409406</td>\n",
       "    </tr>\n",
       "    <tr>\n",
       "      <th>2015-09-06 05:00:00</th>\n",
       "      <td>91477</td>\n",
       "      <td>888</td>\n",
       "      <td>215907 409406 726612 999696</td>\n",
       "    </tr>\n",
       "    <tr>\n",
       "      <th>2015-09-13 05:00:00</th>\n",
       "      <td>91477</td>\n",
       "      <td>888</td>\n",
       "      <td>215907 409406 726612 999696</td>\n",
       "    </tr>\n",
       "  </tbody>\n",
       "</table>\n",
       "</div>"
      ],
      "text/plain": [
       "                     itemid property                        value\n",
       "timestamp                                                        \n",
       "2015-05-10 05:00:00   91477      888                215907 409406\n",
       "2015-05-17 05:00:00   91477      888                215907 409406\n",
       "2015-05-24 05:00:00   91477      888                215907 409406\n",
       "2015-05-31 05:00:00   91477      888                215907 409406\n",
       "2015-06-07 05:00:00   91477      888                215907 409406\n",
       "2015-06-14 05:00:00   91477      888                215907 409406\n",
       "2015-06-28 05:00:00   91477      888                215907 409406\n",
       "2015-07-05 05:00:00   91477      888                215907 409406\n",
       "2015-07-12 05:00:00   91477      888                215907 409406\n",
       "2015-07-19 05:00:00   91477      888                215907 409406\n",
       "2015-07-26 05:00:00   91477      888                215907 409406\n",
       "2015-08-02 05:00:00   91477      888                215907 409406\n",
       "2015-08-09 05:00:00   91477      888                215907 409406\n",
       "2015-08-16 05:00:00   91477      888                215907 409406\n",
       "2015-08-23 05:00:00   91477      888                215907 409406\n",
       "2015-08-30 05:00:00   91477      888                215907 409406\n",
       "2015-09-06 05:00:00   91477      888  215907 409406 726612 999696\n",
       "2015-09-13 05:00:00   91477      888  215907 409406 726612 999696"
      ]
     },
     "execution_count": 50,
     "metadata": {},
     "output_type": "execute_result"
    }
   ],
   "source": [
    "item_props[(item_props.itemid==91477)&(item_props.property=='888')]"
   ]
  },
  {
   "cell_type": "markdown",
   "id": "b8cfddd4",
   "metadata": {},
   "source": [
    "After merge"
   ]
  },
  {
   "cell_type": "code",
   "execution_count": 51,
   "id": "52005ca3",
   "metadata": {},
   "outputs": [
    {
     "data": {
      "text/html": [
       "<div>\n",
       "<style scoped>\n",
       "    .dataframe tbody tr th:only-of-type {\n",
       "        vertical-align: middle;\n",
       "    }\n",
       "\n",
       "    .dataframe tbody tr th {\n",
       "        vertical-align: top;\n",
       "    }\n",
       "\n",
       "    .dataframe thead th {\n",
       "        text-align: right;\n",
       "    }\n",
       "</style>\n",
       "<table border=\"1\" class=\"dataframe\">\n",
       "  <thead>\n",
       "    <tr style=\"text-align: right;\">\n",
       "      <th></th>\n",
       "      <th>itemid</th>\n",
       "      <th>property</th>\n",
       "      <th>value</th>\n",
       "    </tr>\n",
       "    <tr>\n",
       "      <th>timestamp</th>\n",
       "      <th></th>\n",
       "      <th></th>\n",
       "      <th></th>\n",
       "    </tr>\n",
       "  </thead>\n",
       "  <tbody>\n",
       "    <tr>\n",
       "      <th>2015-08-30 05:00:00</th>\n",
       "      <td>91477</td>\n",
       "      <td>888</td>\n",
       "      <td>215907 409406</td>\n",
       "    </tr>\n",
       "    <tr>\n",
       "      <th>2015-09-13 05:00:00</th>\n",
       "      <td>91477</td>\n",
       "      <td>888</td>\n",
       "      <td>215907 409406 726612 999696</td>\n",
       "    </tr>\n",
       "  </tbody>\n",
       "</table>\n",
       "</div>"
      ],
      "text/plain": [
       "                     itemid property                        value\n",
       "timestamp                                                        \n",
       "2015-08-30 05:00:00   91477      888                215907 409406\n",
       "2015-09-13 05:00:00   91477      888  215907 409406 726612 999696"
      ]
     },
     "execution_count": 51,
     "metadata": {},
     "output_type": "execute_result"
    }
   ],
   "source": [
    "item_props_merged[(item_props_merged.itemid==91477)&(item_props_merged.property=='888')]"
   ]
  },
  {
   "cell_type": "markdown",
   "id": "24c2c36c",
   "metadata": {},
   "source": [
    "Before merge "
   ]
  },
  {
   "cell_type": "code",
   "execution_count": 52,
   "id": "5298e41b",
   "metadata": {},
   "outputs": [
    {
     "data": {
      "text/html": [
       "<div>\n",
       "<style scoped>\n",
       "    .dataframe tbody tr th:only-of-type {\n",
       "        vertical-align: middle;\n",
       "    }\n",
       "\n",
       "    .dataframe tbody tr th {\n",
       "        vertical-align: top;\n",
       "    }\n",
       "\n",
       "    .dataframe thead th {\n",
       "        text-align: right;\n",
       "    }\n",
       "</style>\n",
       "<table border=\"1\" class=\"dataframe\">\n",
       "  <thead>\n",
       "    <tr style=\"text-align: right;\">\n",
       "      <th></th>\n",
       "      <th>itemid</th>\n",
       "      <th>property</th>\n",
       "      <th>value</th>\n",
       "    </tr>\n",
       "    <tr>\n",
       "      <th>timestamp</th>\n",
       "      <th></th>\n",
       "      <th></th>\n",
       "      <th></th>\n",
       "    </tr>\n",
       "  </thead>\n",
       "  <tbody>\n",
       "    <tr>\n",
       "      <th>2015-05-10 05:00:00</th>\n",
       "      <td>89439</td>\n",
       "      <td>888</td>\n",
       "      <td>390539 n24.000</td>\n",
       "    </tr>\n",
       "    <tr>\n",
       "      <th>2015-05-17 05:00:00</th>\n",
       "      <td>89439</td>\n",
       "      <td>888</td>\n",
       "      <td>390539 n24.000</td>\n",
       "    </tr>\n",
       "    <tr>\n",
       "      <th>2015-05-24 05:00:00</th>\n",
       "      <td>89439</td>\n",
       "      <td>888</td>\n",
       "      <td>390539 n24.000 1252796</td>\n",
       "    </tr>\n",
       "    <tr>\n",
       "      <th>2015-05-31 05:00:00</th>\n",
       "      <td>89439</td>\n",
       "      <td>888</td>\n",
       "      <td>390539 n24.000 1252796</td>\n",
       "    </tr>\n",
       "    <tr>\n",
       "      <th>2015-06-07 05:00:00</th>\n",
       "      <td>89439</td>\n",
       "      <td>888</td>\n",
       "      <td>390539 n24.000 1252796</td>\n",
       "    </tr>\n",
       "    <tr>\n",
       "      <th>2015-06-14 05:00:00</th>\n",
       "      <td>89439</td>\n",
       "      <td>888</td>\n",
       "      <td>390539 n24.000 1252796</td>\n",
       "    </tr>\n",
       "    <tr>\n",
       "      <th>2015-06-28 05:00:00</th>\n",
       "      <td>89439</td>\n",
       "      <td>888</td>\n",
       "      <td>390539 n24.000 1252796</td>\n",
       "    </tr>\n",
       "    <tr>\n",
       "      <th>2015-07-05 05:00:00</th>\n",
       "      <td>89439</td>\n",
       "      <td>888</td>\n",
       "      <td>390539 n24.000 1252796</td>\n",
       "    </tr>\n",
       "    <tr>\n",
       "      <th>2015-07-12 05:00:00</th>\n",
       "      <td>89439</td>\n",
       "      <td>888</td>\n",
       "      <td>390539 n24.000 1252796</td>\n",
       "    </tr>\n",
       "    <tr>\n",
       "      <th>2015-07-19 05:00:00</th>\n",
       "      <td>89439</td>\n",
       "      <td>888</td>\n",
       "      <td>390539 n24.000 1252796</td>\n",
       "    </tr>\n",
       "    <tr>\n",
       "      <th>2015-07-26 05:00:00</th>\n",
       "      <td>89439</td>\n",
       "      <td>888</td>\n",
       "      <td>390539 n24.000 1252796</td>\n",
       "    </tr>\n",
       "    <tr>\n",
       "      <th>2015-08-02 05:00:00</th>\n",
       "      <td>89439</td>\n",
       "      <td>888</td>\n",
       "      <td>390539 n24.000 1252796</td>\n",
       "    </tr>\n",
       "    <tr>\n",
       "      <th>2015-08-09 05:00:00</th>\n",
       "      <td>89439</td>\n",
       "      <td>888</td>\n",
       "      <td>390539 n24.000 1252796</td>\n",
       "    </tr>\n",
       "    <tr>\n",
       "      <th>2015-08-16 05:00:00</th>\n",
       "      <td>89439</td>\n",
       "      <td>888</td>\n",
       "      <td>390539 n24.000 1252796</td>\n",
       "    </tr>\n",
       "    <tr>\n",
       "      <th>2015-08-23 05:00:00</th>\n",
       "      <td>89439</td>\n",
       "      <td>888</td>\n",
       "      <td>390539 n24.000 1252796</td>\n",
       "    </tr>\n",
       "    <tr>\n",
       "      <th>2015-08-30 05:00:00</th>\n",
       "      <td>89439</td>\n",
       "      <td>888</td>\n",
       "      <td>390539 n24.000 1252796</td>\n",
       "    </tr>\n",
       "    <tr>\n",
       "      <th>2015-09-06 05:00:00</th>\n",
       "      <td>89439</td>\n",
       "      <td>888</td>\n",
       "      <td>390539 n24.000 1252796</td>\n",
       "    </tr>\n",
       "    <tr>\n",
       "      <th>2015-09-13 05:00:00</th>\n",
       "      <td>89439</td>\n",
       "      <td>888</td>\n",
       "      <td>390539 n24.000 1252796</td>\n",
       "    </tr>\n",
       "  </tbody>\n",
       "</table>\n",
       "</div>"
      ],
      "text/plain": [
       "                     itemid property                   value\n",
       "timestamp                                                   \n",
       "2015-05-10 05:00:00   89439      888          390539 n24.000\n",
       "2015-05-17 05:00:00   89439      888          390539 n24.000\n",
       "2015-05-24 05:00:00   89439      888  390539 n24.000 1252796\n",
       "2015-05-31 05:00:00   89439      888  390539 n24.000 1252796\n",
       "2015-06-07 05:00:00   89439      888  390539 n24.000 1252796\n",
       "2015-06-14 05:00:00   89439      888  390539 n24.000 1252796\n",
       "2015-06-28 05:00:00   89439      888  390539 n24.000 1252796\n",
       "2015-07-05 05:00:00   89439      888  390539 n24.000 1252796\n",
       "2015-07-12 05:00:00   89439      888  390539 n24.000 1252796\n",
       "2015-07-19 05:00:00   89439      888  390539 n24.000 1252796\n",
       "2015-07-26 05:00:00   89439      888  390539 n24.000 1252796\n",
       "2015-08-02 05:00:00   89439      888  390539 n24.000 1252796\n",
       "2015-08-09 05:00:00   89439      888  390539 n24.000 1252796\n",
       "2015-08-16 05:00:00   89439      888  390539 n24.000 1252796\n",
       "2015-08-23 05:00:00   89439      888  390539 n24.000 1252796\n",
       "2015-08-30 05:00:00   89439      888  390539 n24.000 1252796\n",
       "2015-09-06 05:00:00   89439      888  390539 n24.000 1252796\n",
       "2015-09-13 05:00:00   89439      888  390539 n24.000 1252796"
      ]
     },
     "execution_count": 52,
     "metadata": {},
     "output_type": "execute_result"
    }
   ],
   "source": [
    "item_props[(item_props.itemid==89439)&(item_props.property=='888')]"
   ]
  },
  {
   "cell_type": "code",
   "execution_count": 53,
   "id": "317b7cfd",
   "metadata": {},
   "outputs": [
    {
     "data": {
      "text/html": [
       "<div>\n",
       "<style scoped>\n",
       "    .dataframe tbody tr th:only-of-type {\n",
       "        vertical-align: middle;\n",
       "    }\n",
       "\n",
       "    .dataframe tbody tr th {\n",
       "        vertical-align: top;\n",
       "    }\n",
       "\n",
       "    .dataframe thead th {\n",
       "        text-align: right;\n",
       "    }\n",
       "</style>\n",
       "<table border=\"1\" class=\"dataframe\">\n",
       "  <thead>\n",
       "    <tr style=\"text-align: right;\">\n",
       "      <th></th>\n",
       "      <th>itemid</th>\n",
       "      <th>property</th>\n",
       "      <th>value</th>\n",
       "    </tr>\n",
       "    <tr>\n",
       "      <th>timestamp</th>\n",
       "      <th></th>\n",
       "      <th></th>\n",
       "      <th></th>\n",
       "    </tr>\n",
       "  </thead>\n",
       "  <tbody>\n",
       "    <tr>\n",
       "      <th>2015-05-17 05:00:00</th>\n",
       "      <td>89439</td>\n",
       "      <td>888</td>\n",
       "      <td>390539 n24.000</td>\n",
       "    </tr>\n",
       "    <tr>\n",
       "      <th>2015-09-13 05:00:00</th>\n",
       "      <td>89439</td>\n",
       "      <td>888</td>\n",
       "      <td>390539 n24.000 1252796</td>\n",
       "    </tr>\n",
       "  </tbody>\n",
       "</table>\n",
       "</div>"
      ],
      "text/plain": [
       "                     itemid property                   value\n",
       "timestamp                                                   \n",
       "2015-05-17 05:00:00   89439      888          390539 n24.000\n",
       "2015-09-13 05:00:00   89439      888  390539 n24.000 1252796"
      ]
     },
     "execution_count": 53,
     "metadata": {},
     "output_type": "execute_result"
    }
   ],
   "source": [
    "item_props_merged[(item_props_merged.itemid==89439)&(item_props_merged.property=='888')]"
   ]
  },
  {
   "cell_type": "markdown",
   "id": "118aeed7",
   "metadata": {},
   "source": [
    "# Exploring  events data"
   ]
  },
  {
   "cell_type": "markdown",
   "id": "81681a77",
   "metadata": {},
   "source": [
    "<li>we have <b>2756101</b> row in event data  and <b>5 </b>columns\n",
    "<li><b>1407580</b> unique vistior\n",
    "<li><b>235061</b> unique items \n",
    "<li> <b>3 </b>types of events view,addtocart and transaction\n",
    "<li> for the below  graph the most occured event is view by precentage <b> 96%</b> events. then addtocart and the lowest is transaction with  precentang <b>0.8% \n",
    "   "
   ]
  },
  {
   "cell_type": "code",
   "execution_count": 54,
   "id": "b4db40f0",
   "metadata": {},
   "outputs": [
    {
     "data": {
      "text/html": [
       "<div>\n",
       "<style scoped>\n",
       "    .dataframe tbody tr th:only-of-type {\n",
       "        vertical-align: middle;\n",
       "    }\n",
       "\n",
       "    .dataframe tbody tr th {\n",
       "        vertical-align: top;\n",
       "    }\n",
       "\n",
       "    .dataframe thead th {\n",
       "        text-align: right;\n",
       "    }\n",
       "</style>\n",
       "<table border=\"1\" class=\"dataframe\">\n",
       "  <thead>\n",
       "    <tr style=\"text-align: right;\">\n",
       "      <th></th>\n",
       "      <th>timestamp</th>\n",
       "      <th>visitorid</th>\n",
       "      <th>event</th>\n",
       "      <th>itemid</th>\n",
       "      <th>transactionid</th>\n",
       "    </tr>\n",
       "  </thead>\n",
       "  <tbody>\n",
       "    <tr>\n",
       "      <th>0</th>\n",
       "      <td>1433221332117</td>\n",
       "      <td>257597</td>\n",
       "      <td>view</td>\n",
       "      <td>355908</td>\n",
       "      <td>NaN</td>\n",
       "    </tr>\n",
       "    <tr>\n",
       "      <th>1</th>\n",
       "      <td>1433224214164</td>\n",
       "      <td>992329</td>\n",
       "      <td>view</td>\n",
       "      <td>248676</td>\n",
       "      <td>NaN</td>\n",
       "    </tr>\n",
       "    <tr>\n",
       "      <th>2</th>\n",
       "      <td>1433221999827</td>\n",
       "      <td>111016</td>\n",
       "      <td>view</td>\n",
       "      <td>318965</td>\n",
       "      <td>NaN</td>\n",
       "    </tr>\n",
       "    <tr>\n",
       "      <th>3</th>\n",
       "      <td>1433221955914</td>\n",
       "      <td>483717</td>\n",
       "      <td>view</td>\n",
       "      <td>253185</td>\n",
       "      <td>NaN</td>\n",
       "    </tr>\n",
       "    <tr>\n",
       "      <th>4</th>\n",
       "      <td>1433221337106</td>\n",
       "      <td>951259</td>\n",
       "      <td>view</td>\n",
       "      <td>367447</td>\n",
       "      <td>NaN</td>\n",
       "    </tr>\n",
       "    <tr>\n",
       "      <th>...</th>\n",
       "      <td>...</td>\n",
       "      <td>...</td>\n",
       "      <td>...</td>\n",
       "      <td>...</td>\n",
       "      <td>...</td>\n",
       "    </tr>\n",
       "    <tr>\n",
       "      <th>2756096</th>\n",
       "      <td>1438398785939</td>\n",
       "      <td>591435</td>\n",
       "      <td>view</td>\n",
       "      <td>261427</td>\n",
       "      <td>NaN</td>\n",
       "    </tr>\n",
       "    <tr>\n",
       "      <th>2756097</th>\n",
       "      <td>1438399813142</td>\n",
       "      <td>762376</td>\n",
       "      <td>view</td>\n",
       "      <td>115946</td>\n",
       "      <td>NaN</td>\n",
       "    </tr>\n",
       "    <tr>\n",
       "      <th>2756098</th>\n",
       "      <td>1438397820527</td>\n",
       "      <td>1251746</td>\n",
       "      <td>view</td>\n",
       "      <td>78144</td>\n",
       "      <td>NaN</td>\n",
       "    </tr>\n",
       "    <tr>\n",
       "      <th>2756099</th>\n",
       "      <td>1438398530703</td>\n",
       "      <td>1184451</td>\n",
       "      <td>view</td>\n",
       "      <td>283392</td>\n",
       "      <td>NaN</td>\n",
       "    </tr>\n",
       "    <tr>\n",
       "      <th>2756100</th>\n",
       "      <td>1438400163914</td>\n",
       "      <td>199536</td>\n",
       "      <td>view</td>\n",
       "      <td>152913</td>\n",
       "      <td>NaN</td>\n",
       "    </tr>\n",
       "  </tbody>\n",
       "</table>\n",
       "<p>2756101 rows × 5 columns</p>\n",
       "</div>"
      ],
      "text/plain": [
       "             timestamp  visitorid event  itemid  transactionid\n",
       "0        1433221332117     257597  view  355908            NaN\n",
       "1        1433224214164     992329  view  248676            NaN\n",
       "2        1433221999827     111016  view  318965            NaN\n",
       "3        1433221955914     483717  view  253185            NaN\n",
       "4        1433221337106     951259  view  367447            NaN\n",
       "...                ...        ...   ...     ...            ...\n",
       "2756096  1438398785939     591435  view  261427            NaN\n",
       "2756097  1438399813142     762376  view  115946            NaN\n",
       "2756098  1438397820527    1251746  view   78144            NaN\n",
       "2756099  1438398530703    1184451  view  283392            NaN\n",
       "2756100  1438400163914     199536  view  152913            NaN\n",
       "\n",
       "[2756101 rows x 5 columns]"
      ]
     },
     "execution_count": 54,
     "metadata": {},
     "output_type": "execute_result"
    }
   ],
   "source": [
    "events"
   ]
  },
  {
   "cell_type": "markdown",
   "id": "c21b7d52",
   "metadata": {},
   "source": [
    "Change timestamp to date-time format i tried to convert it directly but it gave me DateTime in the future so i divided the value by 1000 before converting it to be reasonable. maybe it's  wrong but I did this just to be  readable"
   ]
  },
  {
   "cell_type": "code",
   "execution_count": 55,
   "id": "08fc5f9f",
   "metadata": {},
   "outputs": [],
   "source": [
    "events['timestamp']=events['timestamp'].apply( lambda x: datetime.fromtimestamp(x/1000))"
   ]
  },
  {
   "cell_type": "code",
   "execution_count": 56,
   "id": "6a95f988",
   "metadata": {},
   "outputs": [],
   "source": [
    "events=events.set_index('timestamp')\n",
    "events=events.sort_values(by='timestamp')"
   ]
  },
  {
   "cell_type": "code",
   "execution_count": 57,
   "id": "44a21adf",
   "metadata": {},
   "outputs": [
    {
     "data": {
      "text/plain": [
       "1407580"
      ]
     },
     "execution_count": 57,
     "metadata": {},
     "output_type": "execute_result"
    }
   ],
   "source": [
    "events.visitorid.nunique()"
   ]
  },
  {
   "cell_type": "code",
   "execution_count": 58,
   "id": "5132cf6f",
   "metadata": {},
   "outputs": [
    {
     "data": {
      "text/plain": [
       "235061"
      ]
     },
     "execution_count": 58,
     "metadata": {},
     "output_type": "execute_result"
    }
   ],
   "source": [
    "events.itemid.nunique()"
   ]
  },
  {
   "cell_type": "code",
   "execution_count": 59,
   "id": "92aaac47",
   "metadata": {},
   "outputs": [
    {
     "data": {
      "text/plain": [
       "count     2756101\n",
       "unique          3\n",
       "top          view\n",
       "freq      2664312\n",
       "Name: event, dtype: object"
      ]
     },
     "execution_count": 59,
     "metadata": {},
     "output_type": "execute_result"
    }
   ],
   "source": [
    "events.event.describe()"
   ]
  },
  {
   "cell_type": "code",
   "execution_count": 60,
   "id": "706802d5",
   "metadata": {},
   "outputs": [
    {
     "data": {
      "text/plain": [
       "<AxesSubplot:>"
      ]
     },
     "execution_count": 60,
     "metadata": {},
     "output_type": "execute_result"
    },
    {
     "data": {
      "image/png": "[encoded data removed]",
      "text/plain": [
       "<Figure size 792x288 with 1 Axes>"
      ]
     },
     "metadata": {},
     "output_type": "display_data"
    }
   ],
   "source": [
    "events.event.value_counts().plot.bar(stacked=True)"
   ]
  },
  {
   "cell_type": "markdown",
   "id": "0bad9673",
   "metadata": {},
   "source": [
    "## Validating each row that has event type transaction have already transaction-id"
   ]
  },
  {
   "cell_type": "code",
   "execution_count": 61,
   "id": "de9e173a",
   "metadata": {},
   "outputs": [
    {
     "data": {
      "text/html": [
       "<div>\n",
       "<style scoped>\n",
       "    .dataframe tbody tr th:only-of-type {\n",
       "        vertical-align: middle;\n",
       "    }\n",
       "\n",
       "    .dataframe tbody tr th {\n",
       "        vertical-align: top;\n",
       "    }\n",
       "\n",
       "    .dataframe thead th {\n",
       "        text-align: right;\n",
       "    }\n",
       "</style>\n",
       "<table border=\"1\" class=\"dataframe\">\n",
       "  <thead>\n",
       "    <tr style=\"text-align: right;\">\n",
       "      <th></th>\n",
       "      <th>visitorid</th>\n",
       "      <th>event</th>\n",
       "      <th>itemid</th>\n",
       "      <th>transactionid</th>\n",
       "    </tr>\n",
       "    <tr>\n",
       "      <th>timestamp</th>\n",
       "      <th></th>\n",
       "      <th></th>\n",
       "      <th></th>\n",
       "      <th></th>\n",
       "    </tr>\n",
       "  </thead>\n",
       "  <tbody>\n",
       "  </tbody>\n",
       "</table>\n",
       "</div>"
      ],
      "text/plain": [
       "Empty DataFrame\n",
       "Columns: [visitorid, event, itemid, transactionid]\n",
       "Index: []"
      ]
     },
     "execution_count": 61,
     "metadata": {},
     "output_type": "execute_result"
    }
   ],
   "source": [
    "events[(events.event=='transaction')&(events.transactionid.isna())]"
   ]
  },
  {
   "cell_type": "code",
   "execution_count": 62,
   "id": "7ea49217",
   "metadata": {},
   "outputs": [
    {
     "data": {
      "text/html": [
       "<div>\n",
       "<style scoped>\n",
       "    .dataframe tbody tr th:only-of-type {\n",
       "        vertical-align: middle;\n",
       "    }\n",
       "\n",
       "    .dataframe tbody tr th {\n",
       "        vertical-align: top;\n",
       "    }\n",
       "\n",
       "    .dataframe thead th {\n",
       "        text-align: right;\n",
       "    }\n",
       "</style>\n",
       "<table border=\"1\" class=\"dataframe\">\n",
       "  <thead>\n",
       "    <tr style=\"text-align: right;\">\n",
       "      <th></th>\n",
       "      <th>visitorid</th>\n",
       "      <th>event</th>\n",
       "      <th>itemid</th>\n",
       "      <th>transactionid</th>\n",
       "    </tr>\n",
       "    <tr>\n",
       "      <th>timestamp</th>\n",
       "      <th></th>\n",
       "      <th></th>\n",
       "      <th></th>\n",
       "      <th></th>\n",
       "    </tr>\n",
       "  </thead>\n",
       "  <tbody>\n",
       "    <tr>\n",
       "      <th>2015-05-03 05:27:21.391</th>\n",
       "      <td>869008</td>\n",
       "      <td>transaction</td>\n",
       "      <td>40685</td>\n",
       "      <td>9765.0</td>\n",
       "    </tr>\n",
       "    <tr>\n",
       "      <th>2015-05-03 05:35:01.772</th>\n",
       "      <td>345781</td>\n",
       "      <td>transaction</td>\n",
       "      <td>438400</td>\n",
       "      <td>1016.0</td>\n",
       "    </tr>\n",
       "    <tr>\n",
       "      <th>2015-05-03 06:01:47.591</th>\n",
       "      <td>586756</td>\n",
       "      <td>transaction</td>\n",
       "      <td>440917</td>\n",
       "      <td>10942.0</td>\n",
       "    </tr>\n",
       "    <tr>\n",
       "      <th>2015-05-03 06:07:38.961</th>\n",
       "      <td>435495</td>\n",
       "      <td>transaction</td>\n",
       "      <td>175893</td>\n",
       "      <td>6173.0</td>\n",
       "    </tr>\n",
       "    <tr>\n",
       "      <th>2015-05-03 06:31:14.903</th>\n",
       "      <td>266417</td>\n",
       "      <td>transaction</td>\n",
       "      <td>445106</td>\n",
       "      <td>12546.0</td>\n",
       "    </tr>\n",
       "    <tr>\n",
       "      <th>...</th>\n",
       "      <td>...</td>\n",
       "      <td>...</td>\n",
       "      <td>...</td>\n",
       "      <td>...</td>\n",
       "    </tr>\n",
       "    <tr>\n",
       "      <th>2015-09-18 04:08:16.512</th>\n",
       "      <td>152963</td>\n",
       "      <td>transaction</td>\n",
       "      <td>12504</td>\n",
       "      <td>5772.0</td>\n",
       "    </tr>\n",
       "    <tr>\n",
       "      <th>2015-09-18 04:08:16.512</th>\n",
       "      <td>152963</td>\n",
       "      <td>transaction</td>\n",
       "      <td>72462</td>\n",
       "      <td>5772.0</td>\n",
       "    </tr>\n",
       "    <tr>\n",
       "      <th>2015-09-18 04:08:16.528</th>\n",
       "      <td>152963</td>\n",
       "      <td>transaction</td>\n",
       "      <td>380196</td>\n",
       "      <td>5772.0</td>\n",
       "    </tr>\n",
       "    <tr>\n",
       "      <th>2015-09-18 04:38:18.098</th>\n",
       "      <td>152963</td>\n",
       "      <td>transaction</td>\n",
       "      <td>362697</td>\n",
       "      <td>5670.0</td>\n",
       "    </tr>\n",
       "    <tr>\n",
       "      <th>2015-09-18 04:43:12.017</th>\n",
       "      <td>152963</td>\n",
       "      <td>transaction</td>\n",
       "      <td>21970</td>\n",
       "      <td>8904.0</td>\n",
       "    </tr>\n",
       "  </tbody>\n",
       "</table>\n",
       "<p>22457 rows × 4 columns</p>\n",
       "</div>"
      ],
      "text/plain": [
       "                         visitorid        event  itemid  transactionid\n",
       "timestamp                                                             \n",
       "2015-05-03 05:27:21.391     869008  transaction   40685         9765.0\n",
       "2015-05-03 05:35:01.772     345781  transaction  438400         1016.0\n",
       "2015-05-03 06:01:47.591     586756  transaction  440917        10942.0\n",
       "2015-05-03 06:07:38.961     435495  transaction  175893         6173.0\n",
       "2015-05-03 06:31:14.903     266417  transaction  445106        12546.0\n",
       "...                            ...          ...     ...            ...\n",
       "2015-09-18 04:08:16.512     152963  transaction   12504         5772.0\n",
       "2015-09-18 04:08:16.512     152963  transaction   72462         5772.0\n",
       "2015-09-18 04:08:16.528     152963  transaction  380196         5772.0\n",
       "2015-09-18 04:38:18.098     152963  transaction  362697         5670.0\n",
       "2015-09-18 04:43:12.017     152963  transaction   21970         8904.0\n",
       "\n",
       "[22457 rows x 4 columns]"
      ]
     },
     "execution_count": 62,
     "metadata": {},
     "output_type": "execute_result"
    }
   ],
   "source": [
    "events[events.event=='transaction']"
   ]
  },
  {
   "cell_type": "markdown",
   "id": "fc37ea11",
   "metadata": {},
   "source": [
    "#  Transcations per visitor"
   ]
  },
  {
   "cell_type": "markdown",
   "id": "d52ccc2e",
   "metadata": {},
   "source": [
    "<li> number of visitors who are purchasing is <b>11719</b>\n",
    "<li> the visitor who has more transactions is <b>1150086</b> he has <b>559</b>\n",
    "<li> the  avg  number of transcation per  vistor  is  <b>~2 </b>and min  is  <b>1 </b> and  max is <b>559</b>"
   ]
  },
  {
   "cell_type": "code",
   "execution_count": 63,
   "id": "de7ca6e6",
   "metadata": {},
   "outputs": [
    {
     "data": {
      "text/plain": [
       "11719"
      ]
     },
     "execution_count": 63,
     "metadata": {},
     "output_type": "execute_result"
    }
   ],
   "source": [
    "events[events.event=='transaction']['visitorid'].nunique()"
   ]
  },
  {
   "cell_type": "code",
   "execution_count": 64,
   "id": "7086d9b8",
   "metadata": {},
   "outputs": [],
   "source": [
    "transpervistior=events[events.event=='transaction'].groupby('visitorid').agg({'transactionid':'count'})\n",
    "transpervistior.columns=['totalnumtrans']"
   ]
  },
  {
   "cell_type": "code",
   "execution_count": 65,
   "id": "60273e94",
   "metadata": {},
   "outputs": [],
   "source": [
    "transpervistior=transpervistior.sort_values(by='totalnumtrans',ascending=False)"
   ]
  },
  {
   "cell_type": "code",
   "execution_count": 66,
   "id": "a6e01152",
   "metadata": {},
   "outputs": [
    {
     "data": {
      "text/html": [
       "<div>\n",
       "<style scoped>\n",
       "    .dataframe tbody tr th:only-of-type {\n",
       "        vertical-align: middle;\n",
       "    }\n",
       "\n",
       "    .dataframe tbody tr th {\n",
       "        vertical-align: top;\n",
       "    }\n",
       "\n",
       "    .dataframe thead th {\n",
       "        text-align: right;\n",
       "    }\n",
       "</style>\n",
       "<table border=\"1\" class=\"dataframe\">\n",
       "  <thead>\n",
       "    <tr style=\"text-align: right;\">\n",
       "      <th></th>\n",
       "      <th>totalnumtrans</th>\n",
       "    </tr>\n",
       "    <tr>\n",
       "      <th>visitorid</th>\n",
       "      <th></th>\n",
       "    </tr>\n",
       "  </thead>\n",
       "  <tbody>\n",
       "    <tr>\n",
       "      <th>1150086</th>\n",
       "      <td>559</td>\n",
       "    </tr>\n",
       "    <tr>\n",
       "      <th>152963</th>\n",
       "      <td>349</td>\n",
       "    </tr>\n",
       "    <tr>\n",
       "      <th>530559</th>\n",
       "      <td>286</td>\n",
       "    </tr>\n",
       "    <tr>\n",
       "      <th>684514</th>\n",
       "      <td>189</td>\n",
       "    </tr>\n",
       "    <tr>\n",
       "      <th>861299</th>\n",
       "      <td>188</td>\n",
       "    </tr>\n",
       "    <tr>\n",
       "      <th>...</th>\n",
       "      <td>...</td>\n",
       "    </tr>\n",
       "    <tr>\n",
       "      <th>535433</th>\n",
       "      <td>1</td>\n",
       "    </tr>\n",
       "    <tr>\n",
       "      <th>535446</th>\n",
       "      <td>1</td>\n",
       "    </tr>\n",
       "    <tr>\n",
       "      <th>535618</th>\n",
       "      <td>1</td>\n",
       "    </tr>\n",
       "    <tr>\n",
       "      <th>535623</th>\n",
       "      <td>1</td>\n",
       "    </tr>\n",
       "    <tr>\n",
       "      <th>1407398</th>\n",
       "      <td>1</td>\n",
       "    </tr>\n",
       "  </tbody>\n",
       "</table>\n",
       "<p>11719 rows × 1 columns</p>\n",
       "</div>"
      ],
      "text/plain": [
       "           totalnumtrans\n",
       "visitorid               \n",
       "1150086              559\n",
       "152963               349\n",
       "530559               286\n",
       "684514               189\n",
       "861299               188\n",
       "...                  ...\n",
       "535433                 1\n",
       "535446                 1\n",
       "535618                 1\n",
       "535623                 1\n",
       "1407398                1\n",
       "\n",
       "[11719 rows x 1 columns]"
      ]
     },
     "execution_count": 66,
     "metadata": {},
     "output_type": "execute_result"
    }
   ],
   "source": [
    "transpervistior"
   ]
  },
  {
   "cell_type": "code",
   "execution_count": 67,
   "id": "b806399e",
   "metadata": {},
   "outputs": [
    {
     "data": {
      "text/html": [
       "<div>\n",
       "<style scoped>\n",
       "    .dataframe tbody tr th:only-of-type {\n",
       "        vertical-align: middle;\n",
       "    }\n",
       "\n",
       "    .dataframe tbody tr th {\n",
       "        vertical-align: top;\n",
       "    }\n",
       "\n",
       "    .dataframe thead th {\n",
       "        text-align: right;\n",
       "    }\n",
       "</style>\n",
       "<table border=\"1\" class=\"dataframe\">\n",
       "  <thead>\n",
       "    <tr style=\"text-align: right;\">\n",
       "      <th></th>\n",
       "      <th>totalnumtrans</th>\n",
       "    </tr>\n",
       "  </thead>\n",
       "  <tbody>\n",
       "    <tr>\n",
       "      <th>count</th>\n",
       "      <td>11719.000000</td>\n",
       "    </tr>\n",
       "    <tr>\n",
       "      <th>mean</th>\n",
       "      <td>1.916290</td>\n",
       "    </tr>\n",
       "    <tr>\n",
       "      <th>std</th>\n",
       "      <td>8.850529</td>\n",
       "    </tr>\n",
       "    <tr>\n",
       "      <th>min</th>\n",
       "      <td>1.000000</td>\n",
       "    </tr>\n",
       "    <tr>\n",
       "      <th>25%</th>\n",
       "      <td>1.000000</td>\n",
       "    </tr>\n",
       "    <tr>\n",
       "      <th>50%</th>\n",
       "      <td>1.000000</td>\n",
       "    </tr>\n",
       "    <tr>\n",
       "      <th>75%</th>\n",
       "      <td>1.000000</td>\n",
       "    </tr>\n",
       "    <tr>\n",
       "      <th>max</th>\n",
       "      <td>559.000000</td>\n",
       "    </tr>\n",
       "  </tbody>\n",
       "</table>\n",
       "</div>"
      ],
      "text/plain": [
       "       totalnumtrans\n",
       "count   11719.000000\n",
       "mean        1.916290\n",
       "std         8.850529\n",
       "min         1.000000\n",
       "25%         1.000000\n",
       "50%         1.000000\n",
       "75%         1.000000\n",
       "max       559.000000"
      ]
     },
     "execution_count": 67,
     "metadata": {},
     "output_type": "execute_result"
    }
   ],
   "source": [
    "transpervistior.describe()"
   ]
  },
  {
   "cell_type": "code",
   "execution_count": 68,
   "id": "353b9b18",
   "metadata": {},
   "outputs": [
    {
     "data": {
      "text/plain": [
       "<AxesSubplot:xlabel='visitorid', ylabel='totalnumtrans'>"
      ]
     },
     "execution_count": 68,
     "metadata": {},
     "output_type": "execute_result"
    },
    {
     "data": {
      "image/png": "[encoded data removed]",
      "text/plain": [
       "<Figure size 792x288 with 1 Axes>"
      ]
     },
     "metadata": {},
     "output_type": "display_data"
    }
   ],
   "source": [
    "sn.barplot(x=transpervistior.index[0:15], y=transpervistior.totalnumtrans[0:15] )"
   ]
  },
  {
   "cell_type": "markdown",
   "id": "afddb59d",
   "metadata": {},
   "source": [
    "# Items  per transaction"
   ]
  },
  {
   "cell_type": "markdown",
   "id": "7a32cc04",
   "metadata": {},
   "source": [
    "<li> max number of items  per transcation is <b>31</b> and min is <b>1</b> and avg is  almost also<b> 1 </b>\n",
    "<li>total number  of items Purchased is highest in half of the months"
   ]
  },
  {
   "cell_type": "code",
   "execution_count": 69,
   "id": "1949ccda",
   "metadata": {},
   "outputs": [],
   "source": [
    "itemspertrans=events.reset_index().groupby('transactionid',as_index=False).agg({'timestamp':lambda x:max(x),'itemid':['unique','count']})\n",
    "itemspertrans.columns=['transactionid','timestamp','unique_items','totalnumitems']\n",
    "itemspertrans=itemspertrans.sort_values(by='totalnumitems',ascending=False)"
   ]
  },
  {
   "cell_type": "code",
   "execution_count": 70,
   "id": "27b77dd9",
   "metadata": {},
   "outputs": [
    {
     "data": {
      "text/html": [
       "<div>\n",
       "<style scoped>\n",
       "    .dataframe tbody tr th:only-of-type {\n",
       "        vertical-align: middle;\n",
       "    }\n",
       "\n",
       "    .dataframe tbody tr th {\n",
       "        vertical-align: top;\n",
       "    }\n",
       "\n",
       "    .dataframe thead th {\n",
       "        text-align: right;\n",
       "    }\n",
       "</style>\n",
       "<table border=\"1\" class=\"dataframe\">\n",
       "  <thead>\n",
       "    <tr style=\"text-align: right;\">\n",
       "      <th></th>\n",
       "      <th>transactionid</th>\n",
       "      <th>timestamp</th>\n",
       "      <th>unique_items</th>\n",
       "      <th>totalnumitems</th>\n",
       "    </tr>\n",
       "  </thead>\n",
       "  <tbody>\n",
       "    <tr>\n",
       "      <th>7063</th>\n",
       "      <td>7063.0</td>\n",
       "      <td>2015-05-14 20:05:25.163</td>\n",
       "      <td>[238209, 262699, 108096, 447818, 265775, 25614...</td>\n",
       "      <td>31</td>\n",
       "    </tr>\n",
       "    <tr>\n",
       "      <th>765</th>\n",
       "      <td>765.0</td>\n",
       "      <td>2015-05-14 18:40:13.848</td>\n",
       "      <td>[262699, 447818, 108096, 256146, 265775, 13059...</td>\n",
       "      <td>28</td>\n",
       "    </tr>\n",
       "    <tr>\n",
       "      <th>8351</th>\n",
       "      <td>8351.0</td>\n",
       "      <td>2015-09-11 17:04:05.760</td>\n",
       "      <td>[277183, 412333, 4067, 86691, 256146, 380971, ...</td>\n",
       "      <td>27</td>\n",
       "    </tr>\n",
       "    <tr>\n",
       "      <th>2753</th>\n",
       "      <td>2753.0</td>\n",
       "      <td>2015-07-15 19:03:17.204</td>\n",
       "      <td>[100898, 220513, 402816, 439963, 12836, 151471...</td>\n",
       "      <td>23</td>\n",
       "    </tr>\n",
       "    <tr>\n",
       "      <th>6993</th>\n",
       "      <td>6993.0</td>\n",
       "      <td>2015-08-13 21:37:26.043</td>\n",
       "      <td>[238993, 339032, 260036, 20918, 283492, 107175...</td>\n",
       "      <td>21</td>\n",
       "    </tr>\n",
       "    <tr>\n",
       "      <th>...</th>\n",
       "      <td>...</td>\n",
       "      <td>...</td>\n",
       "      <td>...</td>\n",
       "      <td>...</td>\n",
       "    </tr>\n",
       "    <tr>\n",
       "      <th>6418</th>\n",
       "      <td>6418.0</td>\n",
       "      <td>2015-06-01 01:53:27.795</td>\n",
       "      <td>[25071]</td>\n",
       "      <td>1</td>\n",
       "    </tr>\n",
       "    <tr>\n",
       "      <th>6419</th>\n",
       "      <td>6419.0</td>\n",
       "      <td>2015-05-27 21:58:47.900</td>\n",
       "      <td>[95598]</td>\n",
       "      <td>1</td>\n",
       "    </tr>\n",
       "    <tr>\n",
       "      <th>6420</th>\n",
       "      <td>6420.0</td>\n",
       "      <td>2015-08-05 23:13:36.626</td>\n",
       "      <td>[67719]</td>\n",
       "      <td>1</td>\n",
       "    </tr>\n",
       "    <tr>\n",
       "      <th>6421</th>\n",
       "      <td>6421.0</td>\n",
       "      <td>2015-05-17 02:59:13.897</td>\n",
       "      <td>[280946]</td>\n",
       "      <td>1</td>\n",
       "    </tr>\n",
       "    <tr>\n",
       "      <th>17671</th>\n",
       "      <td>17671.0</td>\n",
       "      <td>2015-06-20 03:57:21.755</td>\n",
       "      <td>[5470]</td>\n",
       "      <td>1</td>\n",
       "    </tr>\n",
       "  </tbody>\n",
       "</table>\n",
       "<p>17672 rows × 4 columns</p>\n",
       "</div>"
      ],
      "text/plain": [
       "       transactionid               timestamp  \\\n",
       "7063          7063.0 2015-05-14 20:05:25.163   \n",
       "765            765.0 2015-05-14 18:40:13.848   \n",
       "8351          8351.0 2015-09-11 17:04:05.760   \n",
       "2753          2753.0 2015-07-15 19:03:17.204   \n",
       "6993          6993.0 2015-08-13 21:37:26.043   \n",
       "...              ...                     ...   \n",
       "6418          6418.0 2015-06-01 01:53:27.795   \n",
       "6419          6419.0 2015-05-27 21:58:47.900   \n",
       "6420          6420.0 2015-08-05 23:13:36.626   \n",
       "6421          6421.0 2015-05-17 02:59:13.897   \n",
       "17671        17671.0 2015-06-20 03:57:21.755   \n",
       "\n",
       "                                            unique_items  totalnumitems  \n",
       "7063   [238209, 262699, 108096, 447818, 265775, 25614...             31  \n",
       "765    [262699, 447818, 108096, 256146, 265775, 13059...             28  \n",
       "8351   [277183, 412333, 4067, 86691, 256146, 380971, ...             27  \n",
       "2753   [100898, 220513, 402816, 439963, 12836, 151471...             23  \n",
       "6993   [238993, 339032, 260036, 20918, 283492, 107175...             21  \n",
       "...                                                  ...            ...  \n",
       "6418                                             [25071]              1  \n",
       "6419                                             [95598]              1  \n",
       "6420                                             [67719]              1  \n",
       "6421                                            [280946]              1  \n",
       "17671                                             [5470]              1  \n",
       "\n",
       "[17672 rows x 4 columns]"
      ]
     },
     "execution_count": 70,
     "metadata": {},
     "output_type": "execute_result"
    }
   ],
   "source": [
    "itemspertrans"
   ]
  },
  {
   "cell_type": "code",
   "execution_count": 71,
   "id": "93576b75",
   "metadata": {},
   "outputs": [
    {
     "data": {
      "text/plain": [
       "count    17672.000000\n",
       "mean         1.270767\n",
       "std          0.974793\n",
       "min          1.000000\n",
       "25%          1.000000\n",
       "50%          1.000000\n",
       "75%          1.000000\n",
       "max         31.000000\n",
       "Name: totalnumitems, dtype: float64"
      ]
     },
     "execution_count": 71,
     "metadata": {},
     "output_type": "execute_result"
    }
   ],
   "source": [
    "itemspertrans.totalnumitems.describe()"
   ]
  },
  {
   "cell_type": "code",
   "execution_count": 72,
   "id": "c568b4e4",
   "metadata": {},
   "outputs": [
    {
     "data": {
      "image/png": "[encoded data removed]",
      "text/plain": [
       "<Figure size 792x288 with 1 Axes>"
      ]
     },
     "metadata": {},
     "output_type": "display_data"
    }
   ],
   "source": [
    "itemspertrans.set_index('timestamp')['totalnumitems'].plot(linewidth=0.5);"
   ]
  },
  {
   "cell_type": "markdown",
   "id": "c984d915",
   "metadata": {},
   "source": [
    "# Most Purchased items"
   ]
  },
  {
   "cell_type": "markdown",
   "id": "dee96485",
   "metadata": {},
   "source": [
    "<li> top pruchased item <b>461686</b> found  in <b>133</b> transcation"
   ]
  },
  {
   "cell_type": "code",
   "execution_count": 73,
   "id": "2782d335",
   "metadata": {},
   "outputs": [],
   "source": [
    "trasactions=events[events.event=='transaction']"
   ]
  },
  {
   "cell_type": "code",
   "execution_count": 74,
   "id": "ffddf61a",
   "metadata": {},
   "outputs": [
    {
     "data": {
      "text/html": [
       "<div>\n",
       "<style scoped>\n",
       "    .dataframe tbody tr th:only-of-type {\n",
       "        vertical-align: middle;\n",
       "    }\n",
       "\n",
       "    .dataframe tbody tr th {\n",
       "        vertical-align: top;\n",
       "    }\n",
       "\n",
       "    .dataframe thead th {\n",
       "        text-align: right;\n",
       "    }\n",
       "</style>\n",
       "<table border=\"1\" class=\"dataframe\">\n",
       "  <thead>\n",
       "    <tr style=\"text-align: right;\">\n",
       "      <th></th>\n",
       "      <th>visitorid</th>\n",
       "      <th>event</th>\n",
       "      <th>itemid</th>\n",
       "      <th>transactionid</th>\n",
       "    </tr>\n",
       "    <tr>\n",
       "      <th>timestamp</th>\n",
       "      <th></th>\n",
       "      <th></th>\n",
       "      <th></th>\n",
       "      <th></th>\n",
       "    </tr>\n",
       "  </thead>\n",
       "  <tbody>\n",
       "    <tr>\n",
       "      <th>2015-05-03 05:27:21.391</th>\n",
       "      <td>869008</td>\n",
       "      <td>transaction</td>\n",
       "      <td>40685</td>\n",
       "      <td>9765.0</td>\n",
       "    </tr>\n",
       "    <tr>\n",
       "      <th>2015-05-03 05:35:01.772</th>\n",
       "      <td>345781</td>\n",
       "      <td>transaction</td>\n",
       "      <td>438400</td>\n",
       "      <td>1016.0</td>\n",
       "    </tr>\n",
       "    <tr>\n",
       "      <th>2015-05-03 06:01:47.591</th>\n",
       "      <td>586756</td>\n",
       "      <td>transaction</td>\n",
       "      <td>440917</td>\n",
       "      <td>10942.0</td>\n",
       "    </tr>\n",
       "    <tr>\n",
       "      <th>2015-05-03 06:07:38.961</th>\n",
       "      <td>435495</td>\n",
       "      <td>transaction</td>\n",
       "      <td>175893</td>\n",
       "      <td>6173.0</td>\n",
       "    </tr>\n",
       "    <tr>\n",
       "      <th>2015-05-03 06:31:14.903</th>\n",
       "      <td>266417</td>\n",
       "      <td>transaction</td>\n",
       "      <td>445106</td>\n",
       "      <td>12546.0</td>\n",
       "    </tr>\n",
       "    <tr>\n",
       "      <th>...</th>\n",
       "      <td>...</td>\n",
       "      <td>...</td>\n",
       "      <td>...</td>\n",
       "      <td>...</td>\n",
       "    </tr>\n",
       "    <tr>\n",
       "      <th>2015-09-18 04:08:16.512</th>\n",
       "      <td>152963</td>\n",
       "      <td>transaction</td>\n",
       "      <td>12504</td>\n",
       "      <td>5772.0</td>\n",
       "    </tr>\n",
       "    <tr>\n",
       "      <th>2015-09-18 04:08:16.512</th>\n",
       "      <td>152963</td>\n",
       "      <td>transaction</td>\n",
       "      <td>72462</td>\n",
       "      <td>5772.0</td>\n",
       "    </tr>\n",
       "    <tr>\n",
       "      <th>2015-09-18 04:08:16.528</th>\n",
       "      <td>152963</td>\n",
       "      <td>transaction</td>\n",
       "      <td>380196</td>\n",
       "      <td>5772.0</td>\n",
       "    </tr>\n",
       "    <tr>\n",
       "      <th>2015-09-18 04:38:18.098</th>\n",
       "      <td>152963</td>\n",
       "      <td>transaction</td>\n",
       "      <td>362697</td>\n",
       "      <td>5670.0</td>\n",
       "    </tr>\n",
       "    <tr>\n",
       "      <th>2015-09-18 04:43:12.017</th>\n",
       "      <td>152963</td>\n",
       "      <td>transaction</td>\n",
       "      <td>21970</td>\n",
       "      <td>8904.0</td>\n",
       "    </tr>\n",
       "  </tbody>\n",
       "</table>\n",
       "<p>22457 rows × 4 columns</p>\n",
       "</div>"
      ],
      "text/plain": [
       "                         visitorid        event  itemid  transactionid\n",
       "timestamp                                                             \n",
       "2015-05-03 05:27:21.391     869008  transaction   40685         9765.0\n",
       "2015-05-03 05:35:01.772     345781  transaction  438400         1016.0\n",
       "2015-05-03 06:01:47.591     586756  transaction  440917        10942.0\n",
       "2015-05-03 06:07:38.961     435495  transaction  175893         6173.0\n",
       "2015-05-03 06:31:14.903     266417  transaction  445106        12546.0\n",
       "...                            ...          ...     ...            ...\n",
       "2015-09-18 04:08:16.512     152963  transaction   12504         5772.0\n",
       "2015-09-18 04:08:16.512     152963  transaction   72462         5772.0\n",
       "2015-09-18 04:08:16.528     152963  transaction  380196         5772.0\n",
       "2015-09-18 04:38:18.098     152963  transaction  362697         5670.0\n",
       "2015-09-18 04:43:12.017     152963  transaction   21970         8904.0\n",
       "\n",
       "[22457 rows x 4 columns]"
      ]
     },
     "execution_count": 74,
     "metadata": {},
     "output_type": "execute_result"
    }
   ],
   "source": [
    "trasactions"
   ]
  },
  {
   "cell_type": "code",
   "execution_count": 75,
   "id": "d5bc6980",
   "metadata": {},
   "outputs": [
    {
     "data": {
      "text/plain": [
       "461686    133\n",
       "119736     97\n",
       "213834     92\n",
       "7943       46\n",
       "312728     46\n",
       "         ... \n",
       "376944      1\n",
       "279944      1\n",
       "386126      1\n",
       "313722      1\n",
       "72462       1\n",
       "Name: itemid, Length: 12025, dtype: int64"
      ]
     },
     "execution_count": 75,
     "metadata": {},
     "output_type": "execute_result"
    }
   ],
   "source": [
    "trasactions['itemid'].value_counts()"
   ]
  },
  {
   "cell_type": "code",
   "execution_count": 76,
   "id": "2f19def2",
   "metadata": {},
   "outputs": [
    {
     "data": {
      "text/plain": [
       "<AxesSubplot:ylabel='itemid'>"
      ]
     },
     "execution_count": 76,
     "metadata": {},
     "output_type": "execute_result"
    },
    {
     "data": {
      "image/png": "[encoded data removed]",
      "text/plain": [
       "<Figure size 792x288 with 1 Axes>"
      ]
     },
     "metadata": {},
     "output_type": "display_data"
    }
   ],
   "source": [
    "sn.barplot(x=trasactions.itemid.value_counts().index[0:15], y=trasactions.itemid.value_counts()[0:15] )"
   ]
  },
  {
   "cell_type": "markdown",
   "id": "041a5587",
   "metadata": {},
   "source": [
    "# Add to cart Events"
   ]
  },
  {
   "cell_type": "markdown",
   "id": "1ad2558c",
   "metadata": {},
   "source": [
    "<li> almost 2.5% of  events is add to cart type\n",
    " <li> highest addtocart item <b>461686</b> found  in <b>306</b> transcation which also highest purchased makesense\n",
    " <li> the below figure have  similar distribution to the above one of the purchased items because each item before being transaction it was addtocart"
   ]
  },
  {
   "cell_type": "code",
   "execution_count": 77,
   "id": "d4861fb3",
   "metadata": {},
   "outputs": [
    {
     "data": {
      "text/html": [
       "<div>\n",
       "<style scoped>\n",
       "    .dataframe tbody tr th:only-of-type {\n",
       "        vertical-align: middle;\n",
       "    }\n",
       "\n",
       "    .dataframe tbody tr th {\n",
       "        vertical-align: top;\n",
       "    }\n",
       "\n",
       "    .dataframe thead th {\n",
       "        text-align: right;\n",
       "    }\n",
       "</style>\n",
       "<table border=\"1\" class=\"dataframe\">\n",
       "  <thead>\n",
       "    <tr style=\"text-align: right;\">\n",
       "      <th></th>\n",
       "      <th>visitorid</th>\n",
       "      <th>event</th>\n",
       "      <th>itemid</th>\n",
       "      <th>transactionid</th>\n",
       "    </tr>\n",
       "    <tr>\n",
       "      <th>timestamp</th>\n",
       "      <th></th>\n",
       "      <th></th>\n",
       "      <th></th>\n",
       "      <th></th>\n",
       "    </tr>\n",
       "  </thead>\n",
       "  <tbody>\n",
       "    <tr>\n",
       "      <th>2015-05-03 05:00:04.384</th>\n",
       "      <td>693516</td>\n",
       "      <td>addtocart</td>\n",
       "      <td>297662</td>\n",
       "      <td>NaN</td>\n",
       "    </tr>\n",
       "    <tr>\n",
       "      <th>2015-05-03 05:00:29.427</th>\n",
       "      <td>693516</td>\n",
       "      <td>addtocart</td>\n",
       "      <td>297662</td>\n",
       "      <td>NaN</td>\n",
       "    </tr>\n",
       "    <tr>\n",
       "      <th>2015-05-03 05:01:25.008</th>\n",
       "      <td>979664</td>\n",
       "      <td>addtocart</td>\n",
       "      <td>338222</td>\n",
       "      <td>NaN</td>\n",
       "    </tr>\n",
       "    <tr>\n",
       "      <th>2015-05-03 05:04:00.603</th>\n",
       "      <td>260113</td>\n",
       "      <td>addtocart</td>\n",
       "      <td>125751</td>\n",
       "      <td>NaN</td>\n",
       "    </tr>\n",
       "    <tr>\n",
       "      <th>2015-05-03 05:10:02.006</th>\n",
       "      <td>319455</td>\n",
       "      <td>addtocart</td>\n",
       "      <td>342530</td>\n",
       "      <td>NaN</td>\n",
       "    </tr>\n",
       "    <tr>\n",
       "      <th>...</th>\n",
       "      <td>...</td>\n",
       "      <td>...</td>\n",
       "      <td>...</td>\n",
       "      <td>...</td>\n",
       "    </tr>\n",
       "    <tr>\n",
       "      <th>2015-09-18 04:41:42.108</th>\n",
       "      <td>152963</td>\n",
       "      <td>addtocart</td>\n",
       "      <td>21970</td>\n",
       "      <td>NaN</td>\n",
       "    </tr>\n",
       "    <tr>\n",
       "      <th>2015-09-18 04:45:20.572</th>\n",
       "      <td>1108521</td>\n",
       "      <td>addtocart</td>\n",
       "      <td>134455</td>\n",
       "      <td>NaN</td>\n",
       "    </tr>\n",
       "    <tr>\n",
       "      <th>2015-09-18 04:45:22.842</th>\n",
       "      <td>1108521</td>\n",
       "      <td>addtocart</td>\n",
       "      <td>134455</td>\n",
       "      <td>NaN</td>\n",
       "    </tr>\n",
       "    <tr>\n",
       "      <th>2015-09-18 04:50:49.803</th>\n",
       "      <td>572446</td>\n",
       "      <td>addtocart</td>\n",
       "      <td>187465</td>\n",
       "      <td>NaN</td>\n",
       "    </tr>\n",
       "    <tr>\n",
       "      <th>2015-09-18 04:50:49.834</th>\n",
       "      <td>572446</td>\n",
       "      <td>addtocart</td>\n",
       "      <td>187465</td>\n",
       "      <td>NaN</td>\n",
       "    </tr>\n",
       "  </tbody>\n",
       "</table>\n",
       "<p>69332 rows × 4 columns</p>\n",
       "</div>"
      ],
      "text/plain": [
       "                         visitorid      event  itemid  transactionid\n",
       "timestamp                                                           \n",
       "2015-05-03 05:00:04.384     693516  addtocart  297662            NaN\n",
       "2015-05-03 05:00:29.427     693516  addtocart  297662            NaN\n",
       "2015-05-03 05:01:25.008     979664  addtocart  338222            NaN\n",
       "2015-05-03 05:04:00.603     260113  addtocart  125751            NaN\n",
       "2015-05-03 05:10:02.006     319455  addtocart  342530            NaN\n",
       "...                            ...        ...     ...            ...\n",
       "2015-09-18 04:41:42.108     152963  addtocart   21970            NaN\n",
       "2015-09-18 04:45:20.572    1108521  addtocart  134455            NaN\n",
       "2015-09-18 04:45:22.842    1108521  addtocart  134455            NaN\n",
       "2015-09-18 04:50:49.803     572446  addtocart  187465            NaN\n",
       "2015-09-18 04:50:49.834     572446  addtocart  187465            NaN\n",
       "\n",
       "[69332 rows x 4 columns]"
      ]
     },
     "execution_count": 77,
     "metadata": {},
     "output_type": "execute_result"
    }
   ],
   "source": [
    "addtocart=events[events.event=='addtocart']\n",
    "addtocart"
   ]
  },
  {
   "cell_type": "code",
   "execution_count": 78,
   "id": "ef7d5d55",
   "metadata": {},
   "outputs": [
    {
     "data": {
      "text/plain": [
       "461686    306\n",
       "312728    162\n",
       "409804    156\n",
       "320130    141\n",
       "29196     136\n",
       "         ... \n",
       "409983      1\n",
       "418099      1\n",
       "32622       1\n",
       "374135      1\n",
       "38381       1\n",
       "Name: itemid, Length: 23903, dtype: int64"
      ]
     },
     "execution_count": 78,
     "metadata": {},
     "output_type": "execute_result"
    }
   ],
   "source": [
    "addtocart['itemid'].value_counts()"
   ]
  },
  {
   "cell_type": "code",
   "execution_count": 79,
   "id": "9671b758",
   "metadata": {
    "scrolled": true
   },
   "outputs": [
    {
     "data": {
      "text/plain": [
       "<AxesSubplot:ylabel='itemid'>"
      ]
     },
     "execution_count": 79,
     "metadata": {},
     "output_type": "execute_result"
    },
    {
     "data": {
      "image/png": "[encoded data removed]",
      "text/plain": [
       "<Figure size 792x288 with 1 Axes>"
      ]
     },
     "metadata": {},
     "output_type": "display_data"
    }
   ],
   "source": [
    "sn.barplot(x=addtocart.itemid.value_counts().index[0:15], y=addtocart.itemid.value_counts()[0:15] )"
   ]
  },
  {
   "cell_type": "markdown",
   "id": "21b6fbcb",
   "metadata": {},
   "source": [
    "# Machine Learning applications"
   ]
  },
  {
   "cell_type": "markdown",
   "id": "ca5f2458",
   "metadata": {},
   "source": [
    "\n",
    "<li>Cross-selling using assoication rules \n",
    "<li>Demand Forecasting for items or forcasting  weekly sales using time series algorithms\n",
    "<li>Customer Segmation using kmean cluster  and  RFM\n",
    "<li> item category classifcation "
   ]
  },
  {
   "cell_type": "code",
   "execution_count": 80,
   "id": "da64dbac",
   "metadata": {},
   "outputs": [
    {
     "data": {
      "text/html": [
       "<div>\n",
       "<style scoped>\n",
       "    .dataframe tbody tr th:only-of-type {\n",
       "        vertical-align: middle;\n",
       "    }\n",
       "\n",
       "    .dataframe tbody tr th {\n",
       "        vertical-align: top;\n",
       "    }\n",
       "\n",
       "    .dataframe thead th {\n",
       "        text-align: right;\n",
       "    }\n",
       "</style>\n",
       "<table border=\"1\" class=\"dataframe\">\n",
       "  <thead>\n",
       "    <tr style=\"text-align: right;\">\n",
       "      <th></th>\n",
       "      <th>visitorid</th>\n",
       "      <th>event</th>\n",
       "      <th>itemid</th>\n",
       "      <th>transactionid</th>\n",
       "    </tr>\n",
       "    <tr>\n",
       "      <th>timestamp</th>\n",
       "      <th></th>\n",
       "      <th></th>\n",
       "      <th></th>\n",
       "      <th></th>\n",
       "    </tr>\n",
       "  </thead>\n",
       "  <tbody>\n",
       "    <tr>\n",
       "      <th>2015-05-03 05:27:21.391</th>\n",
       "      <td>869008</td>\n",
       "      <td>transaction</td>\n",
       "      <td>40685</td>\n",
       "      <td>9765.0</td>\n",
       "    </tr>\n",
       "    <tr>\n",
       "      <th>2015-05-03 05:35:01.772</th>\n",
       "      <td>345781</td>\n",
       "      <td>transaction</td>\n",
       "      <td>438400</td>\n",
       "      <td>1016.0</td>\n",
       "    </tr>\n",
       "    <tr>\n",
       "      <th>2015-05-03 06:01:47.591</th>\n",
       "      <td>586756</td>\n",
       "      <td>transaction</td>\n",
       "      <td>440917</td>\n",
       "      <td>10942.0</td>\n",
       "    </tr>\n",
       "    <tr>\n",
       "      <th>2015-05-03 06:07:38.961</th>\n",
       "      <td>435495</td>\n",
       "      <td>transaction</td>\n",
       "      <td>175893</td>\n",
       "      <td>6173.0</td>\n",
       "    </tr>\n",
       "    <tr>\n",
       "      <th>2015-05-03 06:31:14.903</th>\n",
       "      <td>266417</td>\n",
       "      <td>transaction</td>\n",
       "      <td>445106</td>\n",
       "      <td>12546.0</td>\n",
       "    </tr>\n",
       "    <tr>\n",
       "      <th>...</th>\n",
       "      <td>...</td>\n",
       "      <td>...</td>\n",
       "      <td>...</td>\n",
       "      <td>...</td>\n",
       "    </tr>\n",
       "    <tr>\n",
       "      <th>2015-09-18 04:08:16.512</th>\n",
       "      <td>152963</td>\n",
       "      <td>transaction</td>\n",
       "      <td>12504</td>\n",
       "      <td>5772.0</td>\n",
       "    </tr>\n",
       "    <tr>\n",
       "      <th>2015-09-18 04:08:16.512</th>\n",
       "      <td>152963</td>\n",
       "      <td>transaction</td>\n",
       "      <td>72462</td>\n",
       "      <td>5772.0</td>\n",
       "    </tr>\n",
       "    <tr>\n",
       "      <th>2015-09-18 04:08:16.528</th>\n",
       "      <td>152963</td>\n",
       "      <td>transaction</td>\n",
       "      <td>380196</td>\n",
       "      <td>5772.0</td>\n",
       "    </tr>\n",
       "    <tr>\n",
       "      <th>2015-09-18 04:38:18.098</th>\n",
       "      <td>152963</td>\n",
       "      <td>transaction</td>\n",
       "      <td>362697</td>\n",
       "      <td>5670.0</td>\n",
       "    </tr>\n",
       "    <tr>\n",
       "      <th>2015-09-18 04:43:12.017</th>\n",
       "      <td>152963</td>\n",
       "      <td>transaction</td>\n",
       "      <td>21970</td>\n",
       "      <td>8904.0</td>\n",
       "    </tr>\n",
       "  </tbody>\n",
       "</table>\n",
       "<p>22457 rows × 4 columns</p>\n",
       "</div>"
      ],
      "text/plain": [
       "                         visitorid        event  itemid  transactionid\n",
       "timestamp                                                             \n",
       "2015-05-03 05:27:21.391     869008  transaction   40685         9765.0\n",
       "2015-05-03 05:35:01.772     345781  transaction  438400         1016.0\n",
       "2015-05-03 06:01:47.591     586756  transaction  440917        10942.0\n",
       "2015-05-03 06:07:38.961     435495  transaction  175893         6173.0\n",
       "2015-05-03 06:31:14.903     266417  transaction  445106        12546.0\n",
       "...                            ...          ...     ...            ...\n",
       "2015-09-18 04:08:16.512     152963  transaction   12504         5772.0\n",
       "2015-09-18 04:08:16.512     152963  transaction   72462         5772.0\n",
       "2015-09-18 04:08:16.528     152963  transaction  380196         5772.0\n",
       "2015-09-18 04:38:18.098     152963  transaction  362697         5670.0\n",
       "2015-09-18 04:43:12.017     152963  transaction   21970         8904.0\n",
       "\n",
       "[22457 rows x 4 columns]"
      ]
     },
     "execution_count": 80,
     "metadata": {},
     "output_type": "execute_result"
    }
   ],
   "source": [
    "transcationevents=events.dropna()\n",
    "transcationevents"
   ]
  },
  {
   "cell_type": "markdown",
   "id": "d4e3c881",
   "metadata": {},
   "source": [
    "# Associaciton Rule Learning\n"
   ]
  },
  {
   "cell_type": "markdown",
   "id": "08670ea8",
   "metadata": {},
   "source": [
    "\n",
    "The association rules method is to present these correlations in the best way through\n",
    "rules, if there are significant correlations between the items that occur simultaneously\n",
    "and frequently, and if there are significant correlations. In other words, it is a\n",
    "rule-based machine learning technique used to find patterns in data.\n",
    "       \n",
    "       - Apriori Algorithm -\n",
    "\n",
    "It is a basket analysis method and is used to reveal product associations.\n",
    "\n",
    "Support(X, Y) = Freq(X, Y) / N\n",
    "\n",
    "There are 3 very simple formulas. The 1st is the Support value. It expresses the probability of\n",
    "X and Y occurring together. It is the frequency of X and Y appearing together divided by N.\n",
    "\n",
    "Confidence(X, Y) = Freq(X, Y) / Freq(X)\n",
    "\n",
    "It expresses the probability of purchasing product Y when product X is purchased.\n",
    "The frequency at which X and Y appear together divided by the frequency at which X appears.\n",
    "\n",
    "Lift = Support(X, Y) / (Support(x) * Support (Y))\n",
    "\n",
    "When X is purchased, the probability of buying Y increases by a multiple of lift.\n",
    "The probability of X and Y appearing together is the product of the probabilities\n",
    "of X and Y appearing separately.\n",
    "It states an expression such as how many times the probability of buying another product\n",
    "increases when we buy a product.\n",
    "\n",
    "Our aim is to suggest products to users in the product purchasing process by\n",
    "applying association analysis to the online retail II dataset."
   ]
  },
  {
   "cell_type": "markdown",
   "id": "1005077e",
   "metadata": {},
   "source": [
    "# Build Transaction Dataset\n"
   ]
  },
  {
   "cell_type": "code",
   "execution_count": 81,
   "id": "9282b89a",
   "metadata": {},
   "outputs": [],
   "source": [
    "\n",
    "    # We need to create below structure:\n",
    "\n",
    "    # Rows represents transactions (transcation, shopping cart etc.), columns represents items\n",
    "    # We simulate as binary that which transaction  contains which items\n",
    "    # If the item is in the transcation, the intersection cell will be \"1\". If is not, it will be \"0\"\n",
    "\n",
    "    # Description   Item1      Item2    Item3\n",
    "    # trans\n",
    "    # trans1          0         1         0\n",
    "    # trans2          1         0         1\n",
    "    # trans3          0         0         0\n",
    "    # trans4          1         0         0\n",
    "    # trans5          0         0         1\n"
   ]
  },
  {
   "cell_type": "markdown",
   "id": "9f8bc6e2",
   "metadata": {},
   "source": [
    "Extract Quantity of Item per transcation"
   ]
  },
  {
   "cell_type": "code",
   "execution_count": 82,
   "id": "dddce4d8",
   "metadata": {},
   "outputs": [
    {
     "data": {
      "text/html": [
       "<div>\n",
       "<style scoped>\n",
       "    .dataframe tbody tr th:only-of-type {\n",
       "        vertical-align: middle;\n",
       "    }\n",
       "\n",
       "    .dataframe tbody tr th {\n",
       "        vertical-align: top;\n",
       "    }\n",
       "\n",
       "    .dataframe thead th {\n",
       "        text-align: right;\n",
       "    }\n",
       "</style>\n",
       "<table border=\"1\" class=\"dataframe\">\n",
       "  <thead>\n",
       "    <tr style=\"text-align: right;\">\n",
       "      <th></th>\n",
       "      <th></th>\n",
       "      <th>Quantity</th>\n",
       "    </tr>\n",
       "    <tr>\n",
       "      <th>transactionid</th>\n",
       "      <th>itemid</th>\n",
       "      <th></th>\n",
       "    </tr>\n",
       "  </thead>\n",
       "  <tbody>\n",
       "    <tr>\n",
       "      <th>2212.0</th>\n",
       "      <th>325772</th>\n",
       "      <td>4</td>\n",
       "    </tr>\n",
       "    <tr>\n",
       "      <th>3011.0</th>\n",
       "      <th>259147</th>\n",
       "      <td>3</td>\n",
       "    </tr>\n",
       "    <tr>\n",
       "      <th>12363.0</th>\n",
       "      <th>275354</th>\n",
       "      <td>3</td>\n",
       "    </tr>\n",
       "    <tr>\n",
       "      <th>15607.0</th>\n",
       "      <th>294438</th>\n",
       "      <td>3</td>\n",
       "    </tr>\n",
       "    <tr>\n",
       "      <th>4904.0</th>\n",
       "      <th>255725</th>\n",
       "      <td>3</td>\n",
       "    </tr>\n",
       "    <tr>\n",
       "      <th>...</th>\n",
       "      <th>...</th>\n",
       "      <td>...</td>\n",
       "    </tr>\n",
       "    <tr>\n",
       "      <th>5898.0</th>\n",
       "      <th>176162</th>\n",
       "      <td>1</td>\n",
       "    </tr>\n",
       "    <tr>\n",
       "      <th>5897.0</th>\n",
       "      <th>142756</th>\n",
       "      <td>1</td>\n",
       "    </tr>\n",
       "    <tr>\n",
       "      <th>5896.0</th>\n",
       "      <th>230911</th>\n",
       "      <td>1</td>\n",
       "    </tr>\n",
       "    <tr>\n",
       "      <th>5895.0</th>\n",
       "      <th>90453</th>\n",
       "      <td>1</td>\n",
       "    </tr>\n",
       "    <tr>\n",
       "      <th>17671.0</th>\n",
       "      <th>5470</th>\n",
       "      <td>1</td>\n",
       "    </tr>\n",
       "  </tbody>\n",
       "</table>\n",
       "<p>22323 rows × 1 columns</p>\n",
       "</div>"
      ],
      "text/plain": [
       "                      Quantity\n",
       "transactionid itemid          \n",
       "2212.0        325772         4\n",
       "3011.0        259147         3\n",
       "12363.0       275354         3\n",
       "15607.0       294438         3\n",
       "4904.0        255725         3\n",
       "...                        ...\n",
       "5898.0        176162         1\n",
       "5897.0        142756         1\n",
       "5896.0        230911         1\n",
       "5895.0        90453          1\n",
       "17671.0       5470           1\n",
       "\n",
       "[22323 rows x 1 columns]"
      ]
     },
     "execution_count": 82,
     "metadata": {},
     "output_type": "execute_result"
    }
   ],
   "source": [
    "transcationevents.reset_index().groupby(['transactionid','itemid']).agg({\"timestamp\": \"count\"}).rename(columns={'timestamp':'Quantity'}).sort_values('Quantity',ascending=False)"
   ]
  },
  {
   "cell_type": "markdown",
   "id": "890e1cf7",
   "metadata": {},
   "source": [
    "Check  first item from  event  data will  find  4  rows  form same  item"
   ]
  },
  {
   "cell_type": "code",
   "execution_count": 83,
   "id": "30503732",
   "metadata": {},
   "outputs": [
    {
     "data": {
      "text/html": [
       "<div>\n",
       "<style scoped>\n",
       "    .dataframe tbody tr th:only-of-type {\n",
       "        vertical-align: middle;\n",
       "    }\n",
       "\n",
       "    .dataframe tbody tr th {\n",
       "        vertical-align: top;\n",
       "    }\n",
       "\n",
       "    .dataframe thead th {\n",
       "        text-align: right;\n",
       "    }\n",
       "</style>\n",
       "<table border=\"1\" class=\"dataframe\">\n",
       "  <thead>\n",
       "    <tr style=\"text-align: right;\">\n",
       "      <th></th>\n",
       "      <th>visitorid</th>\n",
       "      <th>event</th>\n",
       "      <th>itemid</th>\n",
       "      <th>transactionid</th>\n",
       "    </tr>\n",
       "    <tr>\n",
       "      <th>timestamp</th>\n",
       "      <th></th>\n",
       "      <th></th>\n",
       "      <th></th>\n",
       "      <th></th>\n",
       "    </tr>\n",
       "  </thead>\n",
       "  <tbody>\n",
       "    <tr>\n",
       "      <th>2015-07-06 01:19:04.506</th>\n",
       "      <td>852251</td>\n",
       "      <td>transaction</td>\n",
       "      <td>325772</td>\n",
       "      <td>2212.0</td>\n",
       "    </tr>\n",
       "    <tr>\n",
       "      <th>2015-07-06 01:21:59.771</th>\n",
       "      <td>852251</td>\n",
       "      <td>transaction</td>\n",
       "      <td>325772</td>\n",
       "      <td>2212.0</td>\n",
       "    </tr>\n",
       "    <tr>\n",
       "      <th>2015-07-06 01:22:39.353</th>\n",
       "      <td>852251</td>\n",
       "      <td>transaction</td>\n",
       "      <td>325772</td>\n",
       "      <td>2212.0</td>\n",
       "    </tr>\n",
       "    <tr>\n",
       "      <th>2015-07-06 01:36:56.639</th>\n",
       "      <td>852251</td>\n",
       "      <td>transaction</td>\n",
       "      <td>325772</td>\n",
       "      <td>2212.0</td>\n",
       "    </tr>\n",
       "  </tbody>\n",
       "</table>\n",
       "</div>"
      ],
      "text/plain": [
       "                         visitorid        event  itemid  transactionid\n",
       "timestamp                                                             \n",
       "2015-07-06 01:19:04.506     852251  transaction  325772         2212.0\n",
       "2015-07-06 01:21:59.771     852251  transaction  325772         2212.0\n",
       "2015-07-06 01:22:39.353     852251  transaction  325772         2212.0\n",
       "2015-07-06 01:36:56.639     852251  transaction  325772         2212.0"
      ]
     },
     "execution_count": 83,
     "metadata": {},
     "output_type": "execute_result"
    }
   ],
   "source": [
    "events[(events.transactionid==2212.0)&(events.itemid==325772)]"
   ]
  },
  {
   "cell_type": "code",
   "execution_count": 84,
   "id": "b7569a68",
   "metadata": {},
   "outputs": [],
   "source": [
    "\n",
    "items = list(transcationevents.itemid.unique())\n",
    "grouped = transcationevents.groupby('transactionid')\n",
    "transaction_level_df = grouped.aggregate(lambda x: tuple(x)).reset_index()[['transactionid','itemid']]"
   ]
  },
  {
   "cell_type": "code",
   "execution_count": 85,
   "id": "541ba45e",
   "metadata": {},
   "outputs": [
    {
     "data": {
      "text/html": [
       "<div>\n",
       "<style scoped>\n",
       "    .dataframe tbody tr th:only-of-type {\n",
       "        vertical-align: middle;\n",
       "    }\n",
       "\n",
       "    .dataframe tbody tr th {\n",
       "        vertical-align: top;\n",
       "    }\n",
       "\n",
       "    .dataframe thead th {\n",
       "        text-align: right;\n",
       "    }\n",
       "</style>\n",
       "<table border=\"1\" class=\"dataframe\">\n",
       "  <thead>\n",
       "    <tr style=\"text-align: right;\">\n",
       "      <th></th>\n",
       "      <th>transactionid</th>\n",
       "      <th>itemid</th>\n",
       "    </tr>\n",
       "  </thead>\n",
       "  <tbody>\n",
       "    <tr>\n",
       "      <th>0</th>\n",
       "      <td>0.0</td>\n",
       "      <td>(425758,)</td>\n",
       "    </tr>\n",
       "    <tr>\n",
       "      <th>1</th>\n",
       "      <td>1.0</td>\n",
       "      <td>(454430,)</td>\n",
       "    </tr>\n",
       "    <tr>\n",
       "      <th>2</th>\n",
       "      <td>2.0</td>\n",
       "      <td>(151855,)</td>\n",
       "    </tr>\n",
       "    <tr>\n",
       "      <th>3</th>\n",
       "      <td>3.0</td>\n",
       "      <td>(85842,)</td>\n",
       "    </tr>\n",
       "    <tr>\n",
       "      <th>4</th>\n",
       "      <td>4.0</td>\n",
       "      <td>(224184,)</td>\n",
       "    </tr>\n",
       "    <tr>\n",
       "      <th>...</th>\n",
       "      <td>...</td>\n",
       "      <td>...</td>\n",
       "    </tr>\n",
       "    <tr>\n",
       "      <th>17667</th>\n",
       "      <td>17667.0</td>\n",
       "      <td>(433567,)</td>\n",
       "    </tr>\n",
       "    <tr>\n",
       "      <th>17668</th>\n",
       "      <td>17668.0</td>\n",
       "      <td>(212289,)</td>\n",
       "    </tr>\n",
       "    <tr>\n",
       "      <th>17669</th>\n",
       "      <td>17669.0</td>\n",
       "      <td>(132418, 260256)</td>\n",
       "    </tr>\n",
       "    <tr>\n",
       "      <th>17670</th>\n",
       "      <td>17670.0</td>\n",
       "      <td>(461686,)</td>\n",
       "    </tr>\n",
       "    <tr>\n",
       "      <th>17671</th>\n",
       "      <td>17671.0</td>\n",
       "      <td>(5470,)</td>\n",
       "    </tr>\n",
       "  </tbody>\n",
       "</table>\n",
       "<p>17672 rows × 2 columns</p>\n",
       "</div>"
      ],
      "text/plain": [
       "       transactionid            itemid\n",
       "0                0.0         (425758,)\n",
       "1                1.0         (454430,)\n",
       "2                2.0         (151855,)\n",
       "3                3.0          (85842,)\n",
       "4                4.0         (224184,)\n",
       "...              ...               ...\n",
       "17667        17667.0         (433567,)\n",
       "17668        17668.0         (212289,)\n",
       "17669        17669.0  (132418, 260256)\n",
       "17670        17670.0         (461686,)\n",
       "17671        17671.0           (5470,)\n",
       "\n",
       "[17672 rows x 2 columns]"
      ]
     },
     "execution_count": 85,
     "metadata": {},
     "output_type": "execute_result"
    }
   ],
   "source": [
    "transaction_level_df"
   ]
  },
  {
   "cell_type": "code",
   "execution_count": 86,
   "id": "6f2d4b7d",
   "metadata": {},
   "outputs": [],
   "source": [
    "# transaction_dict = {item:0 for item in items}\n",
    "# output_dict = dict()\n",
    "# temp = dict()\n",
    "# for rec in transaction_level_df.to_dict('records'):\n",
    "#     transactionid = rec['transactionid']\n",
    "#     items_list = rec['itemid']\n",
    "#     transaction_dict = {item:0 for item in items}\n",
    "#     transaction_dict.update({item:1 for item in items if item in items_list})\n",
    "#     temp.update({transactionid:transaction_dict})\n",
    "\n",
    "# new = [v for k,v in temp.items()]\n",
    "# tranasction_df = pd.DataFrame(new)\n",
    "# del(tranasction_df[tranasction_df.columns[0]])"
   ]
  },
  {
   "cell_type": "code",
   "execution_count": 87,
   "id": "eed62aa9",
   "metadata": {},
   "outputs": [],
   "source": [
    "\n",
    "def create_transaction_item_df(df):\n",
    "    return df.reset_index().groupby(['transactionid','itemid']).agg({\"timestamp\": \"count\"}).rename(columns={'timestamp':'Quantity'}).sort_values('Quantity',ascending=False).unstack().fillna(0).applymap(lambda x: 1 if x > 0 else 0)"
   ]
  },
  {
   "cell_type": "code",
   "execution_count": 88,
   "id": "661a8fe8",
   "metadata": {},
   "outputs": [],
   "source": [
    "gr_tran_itm_df=create_transaction_item_df(transcationevents)"
   ]
  },
  {
   "cell_type": "code",
   "execution_count": 89,
   "id": "8d4977a1",
   "metadata": {},
   "outputs": [],
   "source": [
    "df=gr_tran_itm_df.copy()"
   ]
  },
  {
   "cell_type": "code",
   "execution_count": 90,
   "id": "d23279ab",
   "metadata": {},
   "outputs": [],
   "source": [
    "df.columns=[ col[1] for col in df.columns]"
   ]
  },
  {
   "cell_type": "code",
   "execution_count": 91,
   "id": "0256968c",
   "metadata": {},
   "outputs": [],
   "source": [
    "df=df[list(trasactions.itemid.value_counts().index[0:1000])]"
   ]
  },
  {
   "cell_type": "code",
   "execution_count": 92,
   "id": "3e6f9959",
   "metadata": {
    "scrolled": true
   },
   "outputs": [
    {
     "data": {
      "text/html": [
       "<div>\n",
       "<style scoped>\n",
       "    .dataframe tbody tr th:only-of-type {\n",
       "        vertical-align: middle;\n",
       "    }\n",
       "\n",
       "    .dataframe tbody tr th {\n",
       "        vertical-align: top;\n",
       "    }\n",
       "\n",
       "    .dataframe thead th {\n",
       "        text-align: right;\n",
       "    }\n",
       "</style>\n",
       "<table border=\"1\" class=\"dataframe\">\n",
       "  <thead>\n",
       "    <tr style=\"text-align: right;\">\n",
       "      <th></th>\n",
       "      <th>461686</th>\n",
       "      <th>119736</th>\n",
       "      <th>213834</th>\n",
       "      <th>7943</th>\n",
       "      <th>312728</th>\n",
       "      <th>445351</th>\n",
       "      <th>48030</th>\n",
       "      <th>248455</th>\n",
       "      <th>420960</th>\n",
       "      <th>17478</th>\n",
       "      <th>...</th>\n",
       "      <th>372941</th>\n",
       "      <th>254290</th>\n",
       "      <th>79956</th>\n",
       "      <th>416530</th>\n",
       "      <th>35278</th>\n",
       "      <th>242905</th>\n",
       "      <th>263385</th>\n",
       "      <th>29863</th>\n",
       "      <th>351397</th>\n",
       "      <th>187602</th>\n",
       "    </tr>\n",
       "    <tr>\n",
       "      <th>transactionid</th>\n",
       "      <th></th>\n",
       "      <th></th>\n",
       "      <th></th>\n",
       "      <th></th>\n",
       "      <th></th>\n",
       "      <th></th>\n",
       "      <th></th>\n",
       "      <th></th>\n",
       "      <th></th>\n",
       "      <th></th>\n",
       "      <th></th>\n",
       "      <th></th>\n",
       "      <th></th>\n",
       "      <th></th>\n",
       "      <th></th>\n",
       "      <th></th>\n",
       "      <th></th>\n",
       "      <th></th>\n",
       "      <th></th>\n",
       "      <th></th>\n",
       "      <th></th>\n",
       "    </tr>\n",
       "  </thead>\n",
       "  <tbody>\n",
       "    <tr>\n",
       "      <th>0.0</th>\n",
       "      <td>0</td>\n",
       "      <td>0</td>\n",
       "      <td>0</td>\n",
       "      <td>0</td>\n",
       "      <td>0</td>\n",
       "      <td>0</td>\n",
       "      <td>0</td>\n",
       "      <td>0</td>\n",
       "      <td>0</td>\n",
       "      <td>0</td>\n",
       "      <td>...</td>\n",
       "      <td>0</td>\n",
       "      <td>0</td>\n",
       "      <td>0</td>\n",
       "      <td>0</td>\n",
       "      <td>0</td>\n",
       "      <td>0</td>\n",
       "      <td>0</td>\n",
       "      <td>0</td>\n",
       "      <td>0</td>\n",
       "      <td>0</td>\n",
       "    </tr>\n",
       "    <tr>\n",
       "      <th>1.0</th>\n",
       "      <td>0</td>\n",
       "      <td>0</td>\n",
       "      <td>0</td>\n",
       "      <td>0</td>\n",
       "      <td>0</td>\n",
       "      <td>0</td>\n",
       "      <td>0</td>\n",
       "      <td>0</td>\n",
       "      <td>0</td>\n",
       "      <td>0</td>\n",
       "      <td>...</td>\n",
       "      <td>0</td>\n",
       "      <td>0</td>\n",
       "      <td>0</td>\n",
       "      <td>0</td>\n",
       "      <td>0</td>\n",
       "      <td>0</td>\n",
       "      <td>0</td>\n",
       "      <td>0</td>\n",
       "      <td>0</td>\n",
       "      <td>0</td>\n",
       "    </tr>\n",
       "    <tr>\n",
       "      <th>2.0</th>\n",
       "      <td>0</td>\n",
       "      <td>0</td>\n",
       "      <td>0</td>\n",
       "      <td>0</td>\n",
       "      <td>0</td>\n",
       "      <td>0</td>\n",
       "      <td>0</td>\n",
       "      <td>0</td>\n",
       "      <td>0</td>\n",
       "      <td>0</td>\n",
       "      <td>...</td>\n",
       "      <td>0</td>\n",
       "      <td>0</td>\n",
       "      <td>0</td>\n",
       "      <td>0</td>\n",
       "      <td>0</td>\n",
       "      <td>0</td>\n",
       "      <td>0</td>\n",
       "      <td>0</td>\n",
       "      <td>0</td>\n",
       "      <td>0</td>\n",
       "    </tr>\n",
       "    <tr>\n",
       "      <th>3.0</th>\n",
       "      <td>0</td>\n",
       "      <td>0</td>\n",
       "      <td>0</td>\n",
       "      <td>0</td>\n",
       "      <td>0</td>\n",
       "      <td>0</td>\n",
       "      <td>0</td>\n",
       "      <td>0</td>\n",
       "      <td>0</td>\n",
       "      <td>0</td>\n",
       "      <td>...</td>\n",
       "      <td>0</td>\n",
       "      <td>0</td>\n",
       "      <td>0</td>\n",
       "      <td>0</td>\n",
       "      <td>0</td>\n",
       "      <td>0</td>\n",
       "      <td>0</td>\n",
       "      <td>0</td>\n",
       "      <td>0</td>\n",
       "      <td>0</td>\n",
       "    </tr>\n",
       "    <tr>\n",
       "      <th>4.0</th>\n",
       "      <td>0</td>\n",
       "      <td>0</td>\n",
       "      <td>0</td>\n",
       "      <td>0</td>\n",
       "      <td>0</td>\n",
       "      <td>0</td>\n",
       "      <td>0</td>\n",
       "      <td>0</td>\n",
       "      <td>0</td>\n",
       "      <td>0</td>\n",
       "      <td>...</td>\n",
       "      <td>0</td>\n",
       "      <td>0</td>\n",
       "      <td>0</td>\n",
       "      <td>0</td>\n",
       "      <td>0</td>\n",
       "      <td>0</td>\n",
       "      <td>0</td>\n",
       "      <td>0</td>\n",
       "      <td>0</td>\n",
       "      <td>0</td>\n",
       "    </tr>\n",
       "  </tbody>\n",
       "</table>\n",
       "<p>5 rows × 1000 columns</p>\n",
       "</div>"
      ],
      "text/plain": [
       "               461686  119736  213834  7943    312728  445351  48030   248455  \\\n",
       "transactionid                                                                   \n",
       "0.0                 0       0       0       0       0       0       0       0   \n",
       "1.0                 0       0       0       0       0       0       0       0   \n",
       "2.0                 0       0       0       0       0       0       0       0   \n",
       "3.0                 0       0       0       0       0       0       0       0   \n",
       "4.0                 0       0       0       0       0       0       0       0   \n",
       "\n",
       "               420960  17478   ...  372941  254290  79956   416530  35278   \\\n",
       "transactionid                  ...                                           \n",
       "0.0                 0       0  ...       0       0       0       0       0   \n",
       "1.0                 0       0  ...       0       0       0       0       0   \n",
       "2.0                 0       0  ...       0       0       0       0       0   \n",
       "3.0                 0       0  ...       0       0       0       0       0   \n",
       "4.0                 0       0  ...       0       0       0       0       0   \n",
       "\n",
       "               242905  263385  29863   351397  187602  \n",
       "transactionid                                          \n",
       "0.0                 0       0       0       0       0  \n",
       "1.0                 0       0       0       0       0  \n",
       "2.0                 0       0       0       0       0  \n",
       "3.0                 0       0       0       0       0  \n",
       "4.0                 0       0       0       0       0  \n",
       "\n",
       "[5 rows x 1000 columns]"
      ]
     },
     "execution_count": 92,
     "metadata": {},
     "output_type": "execute_result"
    }
   ],
   "source": [
    "df.head()"
   ]
  },
  {
   "cell_type": "code",
   "execution_count": 93,
   "id": "2ed095dc",
   "metadata": {},
   "outputs": [
    {
     "data": {
      "text/plain": [
       "(17672, 12025)"
      ]
     },
     "execution_count": 93,
     "metadata": {},
     "output_type": "execute_result"
    }
   ],
   "source": [
    "gr_tran_itm_df.shape"
   ]
  },
  {
   "cell_type": "code",
   "execution_count": 94,
   "id": "63c74f9d",
   "metadata": {},
   "outputs": [],
   "source": [
    "# 3. Possibilities of All Possible Item Combinations\n",
    "\n",
    "# Support(X, Y) = Freq(X, Y) / N\n",
    "# There are 3 very simple formulas. The 1st is the Support value. It expresses the probability of\n",
    "# X and Y occurring together. It is the frequency of X and Y appearing together divided by N.\n",
    "\n",
    "# Confidence(X, Y) = Freq(X, Y) / Freq(X)\n",
    "# It expresses the probability of purchasing item Y when item X is purchased.\n",
    "# The frequency at which X and Y appear together divided by the frequency at which X appears.\n",
    "\n",
    "# Lift = Support(X, Y) / (Support(x) * Support (Y))\n",
    "# When X is purchased, the probability of buying Y increases by a multiple of lift.\n",
    "# The probability of X and Y appearing together is the item of the probabilities\n",
    "# of X and Y appearing separately.\n",
    "# It states an expression such as how many times the probability of buying another item\n",
    "# increases when we buy a item."
   ]
  },
  {
   "cell_type": "code",
   "execution_count": 95,
   "id": "7726623f",
   "metadata": {},
   "outputs": [
    {
     "data": {
      "text/html": [
       "<div>\n",
       "<style scoped>\n",
       "    .dataframe tbody tr th:only-of-type {\n",
       "        vertical-align: middle;\n",
       "    }\n",
       "\n",
       "    .dataframe tbody tr th {\n",
       "        vertical-align: top;\n",
       "    }\n",
       "\n",
       "    .dataframe thead th {\n",
       "        text-align: right;\n",
       "    }\n",
       "</style>\n",
       "<table border=\"1\" class=\"dataframe\">\n",
       "  <thead>\n",
       "    <tr style=\"text-align: right;\">\n",
       "      <th></th>\n",
       "      <th>support</th>\n",
       "      <th>itemsets</th>\n",
       "    </tr>\n",
       "  </thead>\n",
       "  <tbody>\n",
       "    <tr>\n",
       "      <th>0</th>\n",
       "      <td>0.007526</td>\n",
       "      <td>(461686)</td>\n",
       "    </tr>\n",
       "    <tr>\n",
       "      <th>1</th>\n",
       "      <td>0.005432</td>\n",
       "      <td>(119736)</td>\n",
       "    </tr>\n",
       "    <tr>\n",
       "      <th>2</th>\n",
       "      <td>0.005206</td>\n",
       "      <td>(213834)</td>\n",
       "    </tr>\n",
       "    <tr>\n",
       "      <th>3</th>\n",
       "      <td>0.002603</td>\n",
       "      <td>(7943)</td>\n",
       "    </tr>\n",
       "    <tr>\n",
       "      <th>4</th>\n",
       "      <td>0.002603</td>\n",
       "      <td>(312728)</td>\n",
       "    </tr>\n",
       "  </tbody>\n",
       "</table>\n",
       "</div>"
      ],
      "text/plain": [
       "    support  itemsets\n",
       "0  0.007526  (461686)\n",
       "1  0.005432  (119736)\n",
       "2  0.005206  (213834)\n",
       "3  0.002603    (7943)\n",
       "4  0.002603  (312728)"
      ]
     },
     "execution_count": 95,
     "metadata": {},
     "output_type": "execute_result"
    }
   ],
   "source": [
    "\n",
    "frequent_itemsets = apriori(df, min_support=0.001, use_colnames=True)\n",
    "\n",
    "frequent_itemsets.sort_values(\"support\", ascending=False).head()"
   ]
  },
  {
   "cell_type": "code",
   "execution_count": 96,
   "id": "60062083",
   "metadata": {},
   "outputs": [
    {
     "data": {
      "text/html": [
       "<div>\n",
       "<style scoped>\n",
       "    .dataframe tbody tr th:only-of-type {\n",
       "        vertical-align: middle;\n",
       "    }\n",
       "\n",
       "    .dataframe tbody tr th {\n",
       "        vertical-align: top;\n",
       "    }\n",
       "\n",
       "    .dataframe thead th {\n",
       "        text-align: right;\n",
       "    }\n",
       "</style>\n",
       "<table border=\"1\" class=\"dataframe\">\n",
       "  <thead>\n",
       "    <tr style=\"text-align: right;\">\n",
       "      <th></th>\n",
       "      <th>antecedents</th>\n",
       "      <th>consequents</th>\n",
       "      <th>antecedent support</th>\n",
       "      <th>consequent support</th>\n",
       "      <th>support</th>\n",
       "      <th>confidence</th>\n",
       "      <th>lift</th>\n",
       "      <th>leverage</th>\n",
       "      <th>conviction</th>\n",
       "    </tr>\n",
       "  </thead>\n",
       "  <tbody>\n",
       "    <tr>\n",
       "      <th>0</th>\n",
       "      <td>(213834)</td>\n",
       "      <td>(445351)</td>\n",
       "      <td>0.005206</td>\n",
       "      <td>0.002546</td>\n",
       "      <td>0.002207</td>\n",
       "      <td>0.423913</td>\n",
       "      <td>166.475362</td>\n",
       "      <td>0.002194</td>\n",
       "      <td>1.731429</td>\n",
       "    </tr>\n",
       "    <tr>\n",
       "      <th>1</th>\n",
       "      <td>(445351)</td>\n",
       "      <td>(213834)</td>\n",
       "      <td>0.002546</td>\n",
       "      <td>0.005206</td>\n",
       "      <td>0.002207</td>\n",
       "      <td>0.866667</td>\n",
       "      <td>166.475362</td>\n",
       "      <td>0.002194</td>\n",
       "      <td>7.460955</td>\n",
       "    </tr>\n",
       "  </tbody>\n",
       "</table>\n",
       "</div>"
      ],
      "text/plain": [
       "  antecedents consequents  antecedent support  consequent support   support  \\\n",
       "0    (213834)    (445351)            0.005206            0.002546  0.002207   \n",
       "1    (445351)    (213834)            0.002546            0.005206  0.002207   \n",
       "\n",
       "   confidence        lift  leverage  conviction  \n",
       "0    0.423913  166.475362  0.002194    1.731429  \n",
       "1    0.866667  166.475362  0.002194    7.460955  "
      ]
     },
     "execution_count": 96,
     "metadata": {},
     "output_type": "execute_result"
    }
   ],
   "source": [
    "# By inserting the support values we found with Apriori into the association_rules function,\n",
    "# we find some other statistical data such as cofidance and lift.\n",
    "rules = association_rules(frequent_itemsets, metric=\"support\", min_threshold=0.001)\n",
    "\n",
    "rules.sort_values(\"support\", ascending=False).head()"
   ]
  },
  {
   "cell_type": "markdown",
   "id": "6943a134",
   "metadata": {},
   "source": [
    " According to this table, the probability of 213834 item and product numbered 445351\n",
    "appearing together is 0.002207. The probability of being bought together is 0.423913.\n",
    "The increase in the probability of buying these two products together is 166.475362"
   ]
  },
  {
   "cell_type": "markdown",
   "id": "47a002f1",
   "metadata": {},
   "source": [
    "# Forcasting weekly sales "
   ]
  },
  {
   "cell_type": "code",
   "execution_count": 97,
   "id": "f59eb97e",
   "metadata": {},
   "outputs": [
    {
     "name": "stderr",
     "output_type": "stream",
     "text": [
      "D:\\Anaconda3\\lib\\site-packages\\ipykernel_launcher.py:1: SettingWithCopyWarning: \n",
      "A value is trying to be set on a copy of a slice from a DataFrame.\n",
      "Try using .loc[row_indexer,col_indexer] = value instead\n",
      "\n",
      "See the caveats in the documentation: https://pandas.pydata.org/pandas-docs/stable/user_guide/indexing.html#returning-a-view-versus-a-copy\n",
      "  \"\"\"Entry point for launching an IPython kernel.\n",
      "D:\\Anaconda3\\lib\\site-packages\\ipykernel_launcher.py:2: SettingWithCopyWarning: \n",
      "A value is trying to be set on a copy of a slice from a DataFrame.\n",
      "Try using .loc[row_indexer,col_indexer] = value instead\n",
      "\n",
      "See the caveats in the documentation: https://pandas.pydata.org/pandas-docs/stable/user_guide/indexing.html#returning-a-view-versus-a-copy\n",
      "  \n"
     ]
    }
   ],
   "source": [
    "transcationevents[\"Week\"]=transcationevents.index.isocalendar().week\n",
    "transcationevents[\"Month\"]=transcationevents.index.month"
   ]
  },
  {
   "cell_type": "code",
   "execution_count": 98,
   "id": "b56448e6",
   "metadata": {},
   "outputs": [],
   "source": [
    "# weekly_transcations=transcationevents.groupby(['Week','Month'],as_index=False).agg({\"transactionid\":'count'})"
   ]
  },
  {
   "cell_type": "code",
   "execution_count": 99,
   "id": "a590c878",
   "metadata": {},
   "outputs": [],
   "source": [
    "weekly_transcations=transcationevents.reset_index().groupby(['Week','Month'],as_index=False).agg({\"transactionid\":'count','timestamp':lambda x:x.max()})"
   ]
  },
  {
   "cell_type": "code",
   "execution_count": 100,
   "id": "0a86b15b",
   "metadata": {},
   "outputs": [],
   "source": [
    "# transcationevents.resample('W').mean()."
   ]
  },
  {
   "cell_type": "code",
   "execution_count": 101,
   "id": "278eb46d",
   "metadata": {},
   "outputs": [
    {
     "data": {
      "text/html": [
       "<div>\n",
       "<style scoped>\n",
       "    .dataframe tbody tr th:only-of-type {\n",
       "        vertical-align: middle;\n",
       "    }\n",
       "\n",
       "    .dataframe tbody tr th {\n",
       "        vertical-align: top;\n",
       "    }\n",
       "\n",
       "    .dataframe thead th {\n",
       "        text-align: right;\n",
       "    }\n",
       "</style>\n",
       "<table border=\"1\" class=\"dataframe\">\n",
       "  <thead>\n",
       "    <tr style=\"text-align: right;\">\n",
       "      <th></th>\n",
       "      <th>Week</th>\n",
       "      <th>Month</th>\n",
       "      <th>Num_trans</th>\n",
       "      <th>timestamp</th>\n",
       "    </tr>\n",
       "  </thead>\n",
       "  <tbody>\n",
       "    <tr>\n",
       "      <th>0</th>\n",
       "      <td>18</td>\n",
       "      <td>5</td>\n",
       "      <td>68</td>\n",
       "      <td>2015-05-03 23:54:04.483</td>\n",
       "    </tr>\n",
       "    <tr>\n",
       "      <th>1</th>\n",
       "      <td>19</td>\n",
       "      <td>5</td>\n",
       "      <td>1111</td>\n",
       "      <td>2015-05-10 23:36:29.779</td>\n",
       "    </tr>\n",
       "    <tr>\n",
       "      <th>2</th>\n",
       "      <td>20</td>\n",
       "      <td>5</td>\n",
       "      <td>1208</td>\n",
       "      <td>2015-05-17 23:59:19.929</td>\n",
       "    </tr>\n",
       "    <tr>\n",
       "      <th>3</th>\n",
       "      <td>21</td>\n",
       "      <td>5</td>\n",
       "      <td>1067</td>\n",
       "      <td>2015-05-24 23:45:36.022</td>\n",
       "    </tr>\n",
       "    <tr>\n",
       "      <th>4</th>\n",
       "      <td>22</td>\n",
       "      <td>5</td>\n",
       "      <td>1140</td>\n",
       "      <td>2015-05-31 23:39:50.544</td>\n",
       "    </tr>\n",
       "    <tr>\n",
       "      <th>5</th>\n",
       "      <td>23</td>\n",
       "      <td>6</td>\n",
       "      <td>1178</td>\n",
       "      <td>2015-06-07 23:57:48.138</td>\n",
       "    </tr>\n",
       "    <tr>\n",
       "      <th>6</th>\n",
       "      <td>24</td>\n",
       "      <td>6</td>\n",
       "      <td>969</td>\n",
       "      <td>2015-06-14 23:45:02.327</td>\n",
       "    </tr>\n",
       "    <tr>\n",
       "      <th>7</th>\n",
       "      <td>25</td>\n",
       "      <td>6</td>\n",
       "      <td>1316</td>\n",
       "      <td>2015-06-21 23:49:10.247</td>\n",
       "    </tr>\n",
       "    <tr>\n",
       "      <th>8</th>\n",
       "      <td>26</td>\n",
       "      <td>6</td>\n",
       "      <td>1218</td>\n",
       "      <td>2015-06-28 23:48:26.851</td>\n",
       "    </tr>\n",
       "    <tr>\n",
       "      <th>9</th>\n",
       "      <td>27</td>\n",
       "      <td>6</td>\n",
       "      <td>357</td>\n",
       "      <td>2015-06-30 23:59:35.698</td>\n",
       "    </tr>\n",
       "    <tr>\n",
       "      <th>10</th>\n",
       "      <td>27</td>\n",
       "      <td>7</td>\n",
       "      <td>719</td>\n",
       "      <td>2015-07-05 23:58:29.938</td>\n",
       "    </tr>\n",
       "    <tr>\n",
       "      <th>11</th>\n",
       "      <td>28</td>\n",
       "      <td>7</td>\n",
       "      <td>1313</td>\n",
       "      <td>2015-07-12 23:58:06.851</td>\n",
       "    </tr>\n",
       "    <tr>\n",
       "      <th>12</th>\n",
       "      <td>29</td>\n",
       "      <td>7</td>\n",
       "      <td>1264</td>\n",
       "      <td>2015-07-19 23:57:42.354</td>\n",
       "    </tr>\n",
       "    <tr>\n",
       "      <th>13</th>\n",
       "      <td>30</td>\n",
       "      <td>7</td>\n",
       "      <td>1351</td>\n",
       "      <td>2015-07-26 23:54:07.386</td>\n",
       "    </tr>\n",
       "    <tr>\n",
       "      <th>14</th>\n",
       "      <td>31</td>\n",
       "      <td>7</td>\n",
       "      <td>1160</td>\n",
       "      <td>2015-07-31 23:57:59.529</td>\n",
       "    </tr>\n",
       "    <tr>\n",
       "      <th>15</th>\n",
       "      <td>31</td>\n",
       "      <td>8</td>\n",
       "      <td>182</td>\n",
       "      <td>2015-08-02 23:36:27.528</td>\n",
       "    </tr>\n",
       "    <tr>\n",
       "      <th>16</th>\n",
       "      <td>32</td>\n",
       "      <td>8</td>\n",
       "      <td>1083</td>\n",
       "      <td>2015-08-09 23:59:52.106</td>\n",
       "    </tr>\n",
       "    <tr>\n",
       "      <th>17</th>\n",
       "      <td>33</td>\n",
       "      <td>8</td>\n",
       "      <td>912</td>\n",
       "      <td>2015-08-16 23:50:29.168</td>\n",
       "    </tr>\n",
       "    <tr>\n",
       "      <th>18</th>\n",
       "      <td>34</td>\n",
       "      <td>8</td>\n",
       "      <td>1158</td>\n",
       "      <td>2015-08-23 23:53:08.737</td>\n",
       "    </tr>\n",
       "    <tr>\n",
       "      <th>19</th>\n",
       "      <td>35</td>\n",
       "      <td>8</td>\n",
       "      <td>1114</td>\n",
       "      <td>2015-08-30 23:25:06.702</td>\n",
       "    </tr>\n",
       "    <tr>\n",
       "      <th>20</th>\n",
       "      <td>36</td>\n",
       "      <td>8</td>\n",
       "      <td>172</td>\n",
       "      <td>2015-08-31 23:58:13.909</td>\n",
       "    </tr>\n",
       "    <tr>\n",
       "      <th>21</th>\n",
       "      <td>36</td>\n",
       "      <td>9</td>\n",
       "      <td>763</td>\n",
       "      <td>2015-09-06 23:49:45.572</td>\n",
       "    </tr>\n",
       "    <tr>\n",
       "      <th>22</th>\n",
       "      <td>37</td>\n",
       "      <td>9</td>\n",
       "      <td>1112</td>\n",
       "      <td>2015-09-13 23:25:35.302</td>\n",
       "    </tr>\n",
       "    <tr>\n",
       "      <th>23</th>\n",
       "      <td>38</td>\n",
       "      <td>9</td>\n",
       "      <td>522</td>\n",
       "      <td>2015-09-18 04:43:12.017</td>\n",
       "    </tr>\n",
       "  </tbody>\n",
       "</table>\n",
       "</div>"
      ],
      "text/plain": [
       "    Week  Month  Num_trans               timestamp\n",
       "0     18      5         68 2015-05-03 23:54:04.483\n",
       "1     19      5       1111 2015-05-10 23:36:29.779\n",
       "2     20      5       1208 2015-05-17 23:59:19.929\n",
       "3     21      5       1067 2015-05-24 23:45:36.022\n",
       "4     22      5       1140 2015-05-31 23:39:50.544\n",
       "5     23      6       1178 2015-06-07 23:57:48.138\n",
       "6     24      6        969 2015-06-14 23:45:02.327\n",
       "7     25      6       1316 2015-06-21 23:49:10.247\n",
       "8     26      6       1218 2015-06-28 23:48:26.851\n",
       "9     27      6        357 2015-06-30 23:59:35.698\n",
       "10    27      7        719 2015-07-05 23:58:29.938\n",
       "11    28      7       1313 2015-07-12 23:58:06.851\n",
       "12    29      7       1264 2015-07-19 23:57:42.354\n",
       "13    30      7       1351 2015-07-26 23:54:07.386\n",
       "14    31      7       1160 2015-07-31 23:57:59.529\n",
       "15    31      8        182 2015-08-02 23:36:27.528\n",
       "16    32      8       1083 2015-08-09 23:59:52.106\n",
       "17    33      8        912 2015-08-16 23:50:29.168\n",
       "18    34      8       1158 2015-08-23 23:53:08.737\n",
       "19    35      8       1114 2015-08-30 23:25:06.702\n",
       "20    36      8        172 2015-08-31 23:58:13.909\n",
       "21    36      9        763 2015-09-06 23:49:45.572\n",
       "22    37      9       1112 2015-09-13 23:25:35.302\n",
       "23    38      9        522 2015-09-18 04:43:12.017"
      ]
     },
     "execution_count": 101,
     "metadata": {},
     "output_type": "execute_result"
    }
   ],
   "source": [
    "weekly_transcations.columns=['Week','Month','Num_trans','timestamp']\n",
    "\n",
    "weekly_transcations"
   ]
  },
  {
   "cell_type": "code",
   "execution_count": 102,
   "id": "f56eb484",
   "metadata": {},
   "outputs": [],
   "source": [
    "weekly_transcations=weekly_transcations.set_index('timestamp').resample('W').mean()"
   ]
  },
  {
   "cell_type": "code",
   "execution_count": 103,
   "id": "b6b8de51",
   "metadata": {},
   "outputs": [
    {
     "data": {
      "text/html": [
       "<div>\n",
       "<style scoped>\n",
       "    .dataframe tbody tr th:only-of-type {\n",
       "        vertical-align: middle;\n",
       "    }\n",
       "\n",
       "    .dataframe tbody tr th {\n",
       "        vertical-align: top;\n",
       "    }\n",
       "\n",
       "    .dataframe thead th {\n",
       "        text-align: right;\n",
       "    }\n",
       "</style>\n",
       "<table border=\"1\" class=\"dataframe\">\n",
       "  <thead>\n",
       "    <tr style=\"text-align: right;\">\n",
       "      <th></th>\n",
       "      <th>Week</th>\n",
       "      <th>Month</th>\n",
       "      <th>Num_trans</th>\n",
       "    </tr>\n",
       "    <tr>\n",
       "      <th>timestamp</th>\n",
       "      <th></th>\n",
       "      <th></th>\n",
       "      <th></th>\n",
       "    </tr>\n",
       "  </thead>\n",
       "  <tbody>\n",
       "    <tr>\n",
       "      <th>2015-05-03</th>\n",
       "      <td>18.0</td>\n",
       "      <td>5.0</td>\n",
       "      <td>68.0</td>\n",
       "    </tr>\n",
       "    <tr>\n",
       "      <th>2015-05-10</th>\n",
       "      <td>19.0</td>\n",
       "      <td>5.0</td>\n",
       "      <td>1111.0</td>\n",
       "    </tr>\n",
       "    <tr>\n",
       "      <th>2015-05-17</th>\n",
       "      <td>20.0</td>\n",
       "      <td>5.0</td>\n",
       "      <td>1208.0</td>\n",
       "    </tr>\n",
       "    <tr>\n",
       "      <th>2015-05-24</th>\n",
       "      <td>21.0</td>\n",
       "      <td>5.0</td>\n",
       "      <td>1067.0</td>\n",
       "    </tr>\n",
       "    <tr>\n",
       "      <th>2015-05-31</th>\n",
       "      <td>22.0</td>\n",
       "      <td>5.0</td>\n",
       "      <td>1140.0</td>\n",
       "    </tr>\n",
       "    <tr>\n",
       "      <th>2015-06-07</th>\n",
       "      <td>23.0</td>\n",
       "      <td>6.0</td>\n",
       "      <td>1178.0</td>\n",
       "    </tr>\n",
       "    <tr>\n",
       "      <th>2015-06-14</th>\n",
       "      <td>24.0</td>\n",
       "      <td>6.0</td>\n",
       "      <td>969.0</td>\n",
       "    </tr>\n",
       "    <tr>\n",
       "      <th>2015-06-21</th>\n",
       "      <td>25.0</td>\n",
       "      <td>6.0</td>\n",
       "      <td>1316.0</td>\n",
       "    </tr>\n",
       "    <tr>\n",
       "      <th>2015-06-28</th>\n",
       "      <td>26.0</td>\n",
       "      <td>6.0</td>\n",
       "      <td>1218.0</td>\n",
       "    </tr>\n",
       "    <tr>\n",
       "      <th>2015-07-05</th>\n",
       "      <td>27.0</td>\n",
       "      <td>6.5</td>\n",
       "      <td>538.0</td>\n",
       "    </tr>\n",
       "    <tr>\n",
       "      <th>2015-07-12</th>\n",
       "      <td>28.0</td>\n",
       "      <td>7.0</td>\n",
       "      <td>1313.0</td>\n",
       "    </tr>\n",
       "    <tr>\n",
       "      <th>2015-07-19</th>\n",
       "      <td>29.0</td>\n",
       "      <td>7.0</td>\n",
       "      <td>1264.0</td>\n",
       "    </tr>\n",
       "    <tr>\n",
       "      <th>2015-07-26</th>\n",
       "      <td>30.0</td>\n",
       "      <td>7.0</td>\n",
       "      <td>1351.0</td>\n",
       "    </tr>\n",
       "    <tr>\n",
       "      <th>2015-08-02</th>\n",
       "      <td>31.0</td>\n",
       "      <td>7.5</td>\n",
       "      <td>671.0</td>\n",
       "    </tr>\n",
       "    <tr>\n",
       "      <th>2015-08-09</th>\n",
       "      <td>32.0</td>\n",
       "      <td>8.0</td>\n",
       "      <td>1083.0</td>\n",
       "    </tr>\n",
       "    <tr>\n",
       "      <th>2015-08-16</th>\n",
       "      <td>33.0</td>\n",
       "      <td>8.0</td>\n",
       "      <td>912.0</td>\n",
       "    </tr>\n",
       "    <tr>\n",
       "      <th>2015-08-23</th>\n",
       "      <td>34.0</td>\n",
       "      <td>8.0</td>\n",
       "      <td>1158.0</td>\n",
       "    </tr>\n",
       "    <tr>\n",
       "      <th>2015-08-30</th>\n",
       "      <td>35.0</td>\n",
       "      <td>8.0</td>\n",
       "      <td>1114.0</td>\n",
       "    </tr>\n",
       "    <tr>\n",
       "      <th>2015-09-06</th>\n",
       "      <td>36.0</td>\n",
       "      <td>8.5</td>\n",
       "      <td>467.5</td>\n",
       "    </tr>\n",
       "    <tr>\n",
       "      <th>2015-09-13</th>\n",
       "      <td>37.0</td>\n",
       "      <td>9.0</td>\n",
       "      <td>1112.0</td>\n",
       "    </tr>\n",
       "    <tr>\n",
       "      <th>2015-09-20</th>\n",
       "      <td>38.0</td>\n",
       "      <td>9.0</td>\n",
       "      <td>522.0</td>\n",
       "    </tr>\n",
       "  </tbody>\n",
       "</table>\n",
       "</div>"
      ],
      "text/plain": [
       "            Week  Month  Num_trans\n",
       "timestamp                         \n",
       "2015-05-03  18.0    5.0       68.0\n",
       "2015-05-10  19.0    5.0     1111.0\n",
       "2015-05-17  20.0    5.0     1208.0\n",
       "2015-05-24  21.0    5.0     1067.0\n",
       "2015-05-31  22.0    5.0     1140.0\n",
       "2015-06-07  23.0    6.0     1178.0\n",
       "2015-06-14  24.0    6.0      969.0\n",
       "2015-06-21  25.0    6.0     1316.0\n",
       "2015-06-28  26.0    6.0     1218.0\n",
       "2015-07-05  27.0    6.5      538.0\n",
       "2015-07-12  28.0    7.0     1313.0\n",
       "2015-07-19  29.0    7.0     1264.0\n",
       "2015-07-26  30.0    7.0     1351.0\n",
       "2015-08-02  31.0    7.5      671.0\n",
       "2015-08-09  32.0    8.0     1083.0\n",
       "2015-08-16  33.0    8.0      912.0\n",
       "2015-08-23  34.0    8.0     1158.0\n",
       "2015-08-30  35.0    8.0     1114.0\n",
       "2015-09-06  36.0    8.5      467.5\n",
       "2015-09-13  37.0    9.0     1112.0\n",
       "2015-09-20  38.0    9.0      522.0"
      ]
     },
     "execution_count": 103,
     "metadata": {},
     "output_type": "execute_result"
    }
   ],
   "source": [
    "weekly_transcations"
   ]
  },
  {
   "cell_type": "markdown",
   "id": "b7bffd8a",
   "metadata": {},
   "source": [
    "# Visual  weekly Sales time series"
   ]
  },
  {
   "cell_type": "code",
   "execution_count": 104,
   "id": "e99bb594",
   "metadata": {},
   "outputs": [
    {
     "data": {
      "text/plain": [
       "<AxesSubplot:xlabel='Week'>"
      ]
     },
     "execution_count": 104,
     "metadata": {},
     "output_type": "execute_result"
    },
    {
     "data": {
      "image/png": "[encoded data removed]",
      "text/plain": [
       "<Figure size 792x288 with 1 Axes>"
      ]
     },
     "metadata": {},
     "output_type": "display_data"
    }
   ],
   "source": [
    "weekly_transcations.groupby('Week').agg({'Num_trans':'sum'}).plot()"
   ]
  },
  {
   "cell_type": "code",
   "execution_count": 105,
   "id": "6fbae437",
   "metadata": {},
   "outputs": [
    {
     "data": {
      "text/plain": [
       "<AxesSubplot:xlabel='Week', ylabel='Num_trans'>"
      ]
     },
     "execution_count": 105,
     "metadata": {},
     "output_type": "execute_result"
    },
    {
     "data": {
      "image/png": "[encoded data removed]",
      "text/plain": [
       "<Figure size 792x288 with 1 Axes>"
      ]
     },
     "metadata": {},
     "output_type": "display_data"
    }
   ],
   "source": [
    "sn.barplot(x=weekly_transcations['Week'], y=weekly_transcations['Num_trans'] )"
   ]
  },
  {
   "cell_type": "markdown",
   "id": "d65729b3",
   "metadata": {},
   "source": [
    "# Decomposing"
   ]
  },
  {
   "cell_type": "markdown",
   "id": "3700204a",
   "metadata": {},
   "source": [
    "Seasonal Decompose gives the decomposition of the time series into its estimated trend component, estimated seasonal component, and estimated residual. We can also plot the original data to look at what components of the data influence its true value the most."
   ]
  },
  {
   "cell_type": "code",
   "execution_count": 106,
   "id": "a9610b36",
   "metadata": {},
   "outputs": [],
   "source": [
    "from statsmodels.tsa.seasonal import seasonal_decompose"
   ]
  },
  {
   "cell_type": "code",
   "execution_count": 107,
   "id": "c87f15f1",
   "metadata": {},
   "outputs": [],
   "source": [
    "# weekly_transcations.sort_index(inplace=True)"
   ]
  },
  {
   "cell_type": "code",
   "execution_count": 108,
   "id": "0284ec45",
   "metadata": {},
   "outputs": [
    {
     "data": {
      "image/png": "[encoded data removed]",
      "text/plain": [
       "<Figure size 1440x360 with 1 Axes>"
      ]
     },
     "metadata": {},
     "output_type": "display_data"
    },
    {
     "data": {
      "image/png": "[encoded data removed]",
      "text/plain": [
       "<Figure size 1440x360 with 1 Axes>"
      ]
     },
     "metadata": {},
     "output_type": "display_data"
    },
    {
     "data": {
      "image/png": "[encoded data removed]",
      "text/plain": [
       "<Figure size 1440x360 with 1 Axes>"
      ]
     },
     "metadata": {},
     "output_type": "display_data"
    },
    {
     "data": {
      "image/png": "[encoded data removed]",
      "text/plain": [
       "<Figure size 1440x360 with 1 Axes>"
      ]
     },
     "metadata": {},
     "output_type": "display_data"
    }
   ],
   "source": [
    "multi_plot = seasonal_decompose(weekly_transcations['Num_trans'], model = 'add', extrapolate_trend='freq', period=4)\n",
    "\n",
    "plt.figure(figsize=(20,5))\n",
    "multi_plot.observed.plot(title = 'weekly sales')\n",
    "\n",
    "plt.figure(figsize=(20,5))\n",
    "multi_plot.trend.plot(title = 'trend')\n",
    "\n",
    "plt.figure(figsize=(20,5))\n",
    "multi_plot.seasonal.plot(title = 'seasonal')\n",
    "\n",
    "plt.figure(figsize=(20,5))\n",
    "multi_plot.resid.plot(title = 'residual');"
   ]
  },
  {
   "cell_type": "markdown",
   "id": "b3530968",
   "metadata": {},
   "source": [
    "# Forecasting using ARIMA Model\n"
   ]
  },
  {
   "cell_type": "code",
   "execution_count": 109,
   "id": "e08bb41d",
   "metadata": {},
   "outputs": [],
   "source": [
    "import statsmodels.api as sm\n",
    "from math import sqrt\n"
   ]
  },
  {
   "cell_type": "code",
   "execution_count": 110,
   "id": "3786389b",
   "metadata": {},
   "outputs": [
    {
     "data": {
      "text/html": [
       "<div>\n",
       "<style scoped>\n",
       "    .dataframe tbody tr th:only-of-type {\n",
       "        vertical-align: middle;\n",
       "    }\n",
       "\n",
       "    .dataframe tbody tr th {\n",
       "        vertical-align: top;\n",
       "    }\n",
       "\n",
       "    .dataframe thead th {\n",
       "        text-align: right;\n",
       "    }\n",
       "</style>\n",
       "<table border=\"1\" class=\"dataframe\">\n",
       "  <thead>\n",
       "    <tr style=\"text-align: right;\">\n",
       "      <th></th>\n",
       "      <th>Week</th>\n",
       "      <th>Month</th>\n",
       "      <th>Num_trans</th>\n",
       "    </tr>\n",
       "    <tr>\n",
       "      <th>timestamp</th>\n",
       "      <th></th>\n",
       "      <th></th>\n",
       "      <th></th>\n",
       "    </tr>\n",
       "  </thead>\n",
       "  <tbody>\n",
       "    <tr>\n",
       "      <th>2015-05-03</th>\n",
       "      <td>18.0</td>\n",
       "      <td>5.0</td>\n",
       "      <td>68.0</td>\n",
       "    </tr>\n",
       "    <tr>\n",
       "      <th>2015-05-10</th>\n",
       "      <td>19.0</td>\n",
       "      <td>5.0</td>\n",
       "      <td>1111.0</td>\n",
       "    </tr>\n",
       "    <tr>\n",
       "      <th>2015-05-17</th>\n",
       "      <td>20.0</td>\n",
       "      <td>5.0</td>\n",
       "      <td>1208.0</td>\n",
       "    </tr>\n",
       "    <tr>\n",
       "      <th>2015-05-24</th>\n",
       "      <td>21.0</td>\n",
       "      <td>5.0</td>\n",
       "      <td>1067.0</td>\n",
       "    </tr>\n",
       "    <tr>\n",
       "      <th>2015-05-31</th>\n",
       "      <td>22.0</td>\n",
       "      <td>5.0</td>\n",
       "      <td>1140.0</td>\n",
       "    </tr>\n",
       "    <tr>\n",
       "      <th>2015-06-07</th>\n",
       "      <td>23.0</td>\n",
       "      <td>6.0</td>\n",
       "      <td>1178.0</td>\n",
       "    </tr>\n",
       "    <tr>\n",
       "      <th>2015-06-14</th>\n",
       "      <td>24.0</td>\n",
       "      <td>6.0</td>\n",
       "      <td>969.0</td>\n",
       "    </tr>\n",
       "    <tr>\n",
       "      <th>2015-06-21</th>\n",
       "      <td>25.0</td>\n",
       "      <td>6.0</td>\n",
       "      <td>1316.0</td>\n",
       "    </tr>\n",
       "    <tr>\n",
       "      <th>2015-06-28</th>\n",
       "      <td>26.0</td>\n",
       "      <td>6.0</td>\n",
       "      <td>1218.0</td>\n",
       "    </tr>\n",
       "    <tr>\n",
       "      <th>2015-07-05</th>\n",
       "      <td>27.0</td>\n",
       "      <td>6.5</td>\n",
       "      <td>538.0</td>\n",
       "    </tr>\n",
       "    <tr>\n",
       "      <th>2015-07-12</th>\n",
       "      <td>28.0</td>\n",
       "      <td>7.0</td>\n",
       "      <td>1313.0</td>\n",
       "    </tr>\n",
       "    <tr>\n",
       "      <th>2015-07-19</th>\n",
       "      <td>29.0</td>\n",
       "      <td>7.0</td>\n",
       "      <td>1264.0</td>\n",
       "    </tr>\n",
       "    <tr>\n",
       "      <th>2015-07-26</th>\n",
       "      <td>30.0</td>\n",
       "      <td>7.0</td>\n",
       "      <td>1351.0</td>\n",
       "    </tr>\n",
       "    <tr>\n",
       "      <th>2015-08-02</th>\n",
       "      <td>31.0</td>\n",
       "      <td>7.5</td>\n",
       "      <td>671.0</td>\n",
       "    </tr>\n",
       "    <tr>\n",
       "      <th>2015-08-09</th>\n",
       "      <td>32.0</td>\n",
       "      <td>8.0</td>\n",
       "      <td>1083.0</td>\n",
       "    </tr>\n",
       "    <tr>\n",
       "      <th>2015-08-16</th>\n",
       "      <td>33.0</td>\n",
       "      <td>8.0</td>\n",
       "      <td>912.0</td>\n",
       "    </tr>\n",
       "    <tr>\n",
       "      <th>2015-08-23</th>\n",
       "      <td>34.0</td>\n",
       "      <td>8.0</td>\n",
       "      <td>1158.0</td>\n",
       "    </tr>\n",
       "    <tr>\n",
       "      <th>2015-08-30</th>\n",
       "      <td>35.0</td>\n",
       "      <td>8.0</td>\n",
       "      <td>1114.0</td>\n",
       "    </tr>\n",
       "    <tr>\n",
       "      <th>2015-09-06</th>\n",
       "      <td>36.0</td>\n",
       "      <td>8.5</td>\n",
       "      <td>467.5</td>\n",
       "    </tr>\n",
       "    <tr>\n",
       "      <th>2015-09-13</th>\n",
       "      <td>37.0</td>\n",
       "      <td>9.0</td>\n",
       "      <td>1112.0</td>\n",
       "    </tr>\n",
       "    <tr>\n",
       "      <th>2015-09-20</th>\n",
       "      <td>38.0</td>\n",
       "      <td>9.0</td>\n",
       "      <td>522.0</td>\n",
       "    </tr>\n",
       "  </tbody>\n",
       "</table>\n",
       "</div>"
      ],
      "text/plain": [
       "            Week  Month  Num_trans\n",
       "timestamp                         \n",
       "2015-05-03  18.0    5.0       68.0\n",
       "2015-05-10  19.0    5.0     1111.0\n",
       "2015-05-17  20.0    5.0     1208.0\n",
       "2015-05-24  21.0    5.0     1067.0\n",
       "2015-05-31  22.0    5.0     1140.0\n",
       "2015-06-07  23.0    6.0     1178.0\n",
       "2015-06-14  24.0    6.0      969.0\n",
       "2015-06-21  25.0    6.0     1316.0\n",
       "2015-06-28  26.0    6.0     1218.0\n",
       "2015-07-05  27.0    6.5      538.0\n",
       "2015-07-12  28.0    7.0     1313.0\n",
       "2015-07-19  29.0    7.0     1264.0\n",
       "2015-07-26  30.0    7.0     1351.0\n",
       "2015-08-02  31.0    7.5      671.0\n",
       "2015-08-09  32.0    8.0     1083.0\n",
       "2015-08-16  33.0    8.0      912.0\n",
       "2015-08-23  34.0    8.0     1158.0\n",
       "2015-08-30  35.0    8.0     1114.0\n",
       "2015-09-06  36.0    8.5      467.5\n",
       "2015-09-13  37.0    9.0     1112.0\n",
       "2015-09-20  38.0    9.0      522.0"
      ]
     },
     "execution_count": 110,
     "metadata": {},
     "output_type": "execute_result"
    }
   ],
   "source": [
    "weekly_transcations"
   ]
  },
  {
   "cell_type": "markdown",
   "id": "3e222ce7",
   "metadata": {},
   "source": [
    " We will fit an ARIMA model to the entire weekly_transcations dataset and review the residual errors.\n",
    "First, we fit an ARIMA(1,1,0) model. This sets the lag value to 1 for autoregression, uses a difference order of 1 to make the time series stationary, and uses a moving average model of 0."
   ]
  },
  {
   "cell_type": "code",
   "execution_count": 111,
   "id": "e26e0cfd",
   "metadata": {},
   "outputs": [
    {
     "name": "stdout",
     "output_type": "stream",
     "text": [
      "                               SARIMAX Results                                \n",
      "==============================================================================\n",
      "Dep. Variable:              Num_trans   No. Observations:                   21\n",
      "Model:                 ARIMA(1, 1, 0)   Log Likelihood                -148.503\n",
      "Date:                Fri, 31 Dec 2021   AIC                            301.006\n",
      "Time:                        18:35:35   BIC                            302.998\n",
      "Sample:                    05-03-2015   HQIC                           301.395\n",
      "                         - 09-20-2015                                         \n",
      "Covariance Type:                  opg                                         \n",
      "==============================================================================\n",
      "                 coef    std err          z      P>|z|      [0.025      0.975]\n",
      "------------------------------------------------------------------------------\n",
      "ar.L1         -0.5533      0.170     -3.259      0.001      -0.886      -0.221\n",
      "sigma2      1.602e+05   5.13e+04      3.121      0.002    5.96e+04    2.61e+05\n",
      "===================================================================================\n",
      "Ljung-Box (L1) (Q):                   0.00   Jarque-Bera (JB):                 0.09\n",
      "Prob(Q):                              0.95   Prob(JB):                         0.96\n",
      "Heteroskedasticity (H):               0.45   Skew:                            -0.16\n",
      "Prob(H) (two-sided):                  0.32   Kurtosis:                         3.07\n",
      "===================================================================================\n",
      "\n",
      "Warnings:\n",
      "[1] Covariance matrix calculated using the outer product of gradients (complex-step).\n"
     ]
    },
    {
     "data": {
      "image/png": "[encoded data removed]",
      "text/plain": [
       "<Figure size 792x288 with 1 Axes>"
      ]
     },
     "metadata": {},
     "output_type": "display_data"
    }
   ],
   "source": [
    "# fit model\n",
    "model =sm.tsa.ARIMA(weekly_transcations['Num_trans'], order=(1,1,0))\n",
    "model_fit = model.fit()\n",
    "# summary of fit model\n",
    "print(model_fit.summary())\n",
    "# line plot of residuals\n",
    "residuals = pd.DataFrame(model_fit.resid)\n",
    "residuals.plot()\n",
    "plt.show()\n",
    "# # density plot of residuals\n",
    "# residuals.plot(kind='kde')\n",
    "# plt.show()\n",
    "# # summary stats of residuals\n",
    "# print(residuals.describe())"
   ]
  },
  {
   "cell_type": "markdown",
   "id": "63cb4727",
   "metadata": {},
   "source": [
    "# Split data to train and  test and  get  RMSE"
   ]
  },
  {
   "cell_type": "markdown",
   "id": "97412be5",
   "metadata": {},
   "source": [
    "Running the example prints the prediction and expected value each iteration.\n",
    "\n",
    "We can also calculate a final root mean squared error score (RMSE) for the predictions\n",
    "\n",
    "A line plot is created showing the expected values (blue) compared to the rolling forecast predictions (red). We can see the values show some trend and are in the correct scale.\n",
    "\n"
   ]
  },
  {
   "cell_type": "code",
   "execution_count": 112,
   "id": "7bd5c5a5",
   "metadata": {},
   "outputs": [
    {
     "name": "stdout",
     "output_type": "stream",
     "text": [
      "predicted=1322.549499, expected=671.000000\n",
      "predicted=912.161919, expected=1083.000000\n",
      "predicted=912.998484, expected=912.000000\n",
      "predicted=983.248073, expected=1158.000000\n",
      "predicted=1051.624078, expected=1114.000000\n",
      "predicted=1132.876437, expected=467.500000\n",
      "predicted=733.593378, expected=1112.000000\n",
      "predicted=790.378490, expected=522.000000\n",
      "Test RMSE: 378.496\n"
     ]
    },
    {
     "data": {
      "image/png": "[encoded data removed]",
      "text/plain": [
       "<Figure size 792x288 with 1 Axes>"
      ]
     },
     "metadata": {},
     "output_type": "display_data"
    }
   ],
   "source": [
    "from sklearn.metrics import mean_squared_error\n",
    "# split into train and test sets\n",
    "X = weekly_transcations.Num_trans.values\n",
    "size = int(len(X) * 0.66)\n",
    "train, test = X[0:size], X[size:len(X)]\n",
    "history = [x for x in train]\n",
    "predictions = list()\n",
    "# walk-forward validation\n",
    "for t in range(len(test)):\n",
    "\tmodel = sm.tsa.ARIMA(history, order=(1,1,0))\n",
    "\tmodel_fit = model.fit()\n",
    "\toutput = model_fit.forecast()\n",
    "\tyhat = output[0]\n",
    "\tpredictions.append(yhat)\n",
    "\tobs = test[t]\n",
    "\thistory.append(obs)\n",
    "\tprint('predicted=%f, expected=%f' % (yhat, obs))\n",
    "# evaluate forecasts\n",
    "rmse = sqrt(mean_squared_error(test, predictions))\n",
    "print('Test RMSE: %.3f' % rmse)\n",
    "# plot forecasts against actual outcomes\n",
    "plt.plot(test)\n",
    "plt.plot(predictions, color='red')\n",
    "plt.show()"
   ]
  },
  {
   "cell_type": "code",
   "execution_count": 113,
   "id": "c2d5457c",
   "metadata": {},
   "outputs": [],
   "source": [
    "!nbmerge \"revision-Task.ipynb\" \"Customer segmentation.ipynb\"  >all_.ipynb"
   ]
  },
  {
   "cell_type": "markdown",
   "id": "d1c2e9df",
   "metadata": {},
   "source": [
    "# Customer Segmentation with RFM & K-Means"
   ]
  },
  {
   "cell_type": "code",
   "execution_count": 114,
   "id": "0079fa85",
   "metadata": {},
   "outputs": [],
   "source": [
    "import pandas as pd\n",
    "\n",
    "from datetime import datetime\n",
    "\n",
    "# Display figures inline in Jupyter notebook\n",
    "import matplotlib.pyplot as plt\n",
    "import seaborn as sn\n",
    "# Use seaborn style defaults and set the default figure size\n",
    "sn.set(rc={'figure.figsize':(11, 4)})\n",
    "import warnings\n",
    "warnings.filterwarnings('ignore')"
   ]
  },
  {
   "cell_type": "code",
   "execution_count": 115,
   "id": "d40e3444",
   "metadata": {},
   "outputs": [],
   "source": [
    "events=pd.read_csv('events.csv')"
   ]
  },
  {
   "cell_type": "markdown",
   "id": "bfd0fec5",
   "metadata": {},
   "source": [
    "# Data Perpartion"
   ]
  },
  {
   "cell_type": "code",
   "execution_count": 116,
   "id": "f921dce3",
   "metadata": {},
   "outputs": [],
   "source": [
    "events['timestamp']=events['timestamp'].apply( lambda x: datetime.fromtimestamp(x/1000))"
   ]
  },
  {
   "cell_type": "code",
   "execution_count": 117,
   "id": "b82f5816",
   "metadata": {},
   "outputs": [
    {
     "data": {
      "text/html": [
       "<div>\n",
       "<style scoped>\n",
       "    .dataframe tbody tr th:only-of-type {\n",
       "        vertical-align: middle;\n",
       "    }\n",
       "\n",
       "    .dataframe tbody tr th {\n",
       "        vertical-align: top;\n",
       "    }\n",
       "\n",
       "    .dataframe thead th {\n",
       "        text-align: right;\n",
       "    }\n",
       "</style>\n",
       "<table border=\"1\" class=\"dataframe\">\n",
       "  <thead>\n",
       "    <tr style=\"text-align: right;\">\n",
       "      <th></th>\n",
       "      <th>timestamp</th>\n",
       "      <th>visitorid</th>\n",
       "      <th>event</th>\n",
       "      <th>itemid</th>\n",
       "      <th>transactionid</th>\n",
       "    </tr>\n",
       "  </thead>\n",
       "  <tbody>\n",
       "    <tr>\n",
       "      <th>0</th>\n",
       "      <td>2015-06-02 07:02:12.117</td>\n",
       "      <td>257597</td>\n",
       "      <td>view</td>\n",
       "      <td>355908</td>\n",
       "      <td>NaN</td>\n",
       "    </tr>\n",
       "    <tr>\n",
       "      <th>1</th>\n",
       "      <td>2015-06-02 07:50:14.164</td>\n",
       "      <td>992329</td>\n",
       "      <td>view</td>\n",
       "      <td>248676</td>\n",
       "      <td>NaN</td>\n",
       "    </tr>\n",
       "    <tr>\n",
       "      <th>2</th>\n",
       "      <td>2015-06-02 07:13:19.827</td>\n",
       "      <td>111016</td>\n",
       "      <td>view</td>\n",
       "      <td>318965</td>\n",
       "      <td>NaN</td>\n",
       "    </tr>\n",
       "    <tr>\n",
       "      <th>3</th>\n",
       "      <td>2015-06-02 07:12:35.914</td>\n",
       "      <td>483717</td>\n",
       "      <td>view</td>\n",
       "      <td>253185</td>\n",
       "      <td>NaN</td>\n",
       "    </tr>\n",
       "    <tr>\n",
       "      <th>4</th>\n",
       "      <td>2015-06-02 07:02:17.106</td>\n",
       "      <td>951259</td>\n",
       "      <td>view</td>\n",
       "      <td>367447</td>\n",
       "      <td>NaN</td>\n",
       "    </tr>\n",
       "    <tr>\n",
       "      <th>...</th>\n",
       "      <td>...</td>\n",
       "      <td>...</td>\n",
       "      <td>...</td>\n",
       "      <td>...</td>\n",
       "      <td>...</td>\n",
       "    </tr>\n",
       "    <tr>\n",
       "      <th>2756096</th>\n",
       "      <td>2015-08-01 05:13:05.939</td>\n",
       "      <td>591435</td>\n",
       "      <td>view</td>\n",
       "      <td>261427</td>\n",
       "      <td>NaN</td>\n",
       "    </tr>\n",
       "    <tr>\n",
       "      <th>2756097</th>\n",
       "      <td>2015-08-01 05:30:13.142</td>\n",
       "      <td>762376</td>\n",
       "      <td>view</td>\n",
       "      <td>115946</td>\n",
       "      <td>NaN</td>\n",
       "    </tr>\n",
       "    <tr>\n",
       "      <th>2756098</th>\n",
       "      <td>2015-08-01 04:57:00.527</td>\n",
       "      <td>1251746</td>\n",
       "      <td>view</td>\n",
       "      <td>78144</td>\n",
       "      <td>NaN</td>\n",
       "    </tr>\n",
       "    <tr>\n",
       "      <th>2756099</th>\n",
       "      <td>2015-08-01 05:08:50.703</td>\n",
       "      <td>1184451</td>\n",
       "      <td>view</td>\n",
       "      <td>283392</td>\n",
       "      <td>NaN</td>\n",
       "    </tr>\n",
       "    <tr>\n",
       "      <th>2756100</th>\n",
       "      <td>2015-08-01 05:36:03.914</td>\n",
       "      <td>199536</td>\n",
       "      <td>view</td>\n",
       "      <td>152913</td>\n",
       "      <td>NaN</td>\n",
       "    </tr>\n",
       "  </tbody>\n",
       "</table>\n",
       "<p>2756101 rows × 5 columns</p>\n",
       "</div>"
      ],
      "text/plain": [
       "                      timestamp  visitorid event  itemid  transactionid\n",
       "0       2015-06-02 07:02:12.117     257597  view  355908            NaN\n",
       "1       2015-06-02 07:50:14.164     992329  view  248676            NaN\n",
       "2       2015-06-02 07:13:19.827     111016  view  318965            NaN\n",
       "3       2015-06-02 07:12:35.914     483717  view  253185            NaN\n",
       "4       2015-06-02 07:02:17.106     951259  view  367447            NaN\n",
       "...                         ...        ...   ...     ...            ...\n",
       "2756096 2015-08-01 05:13:05.939     591435  view  261427            NaN\n",
       "2756097 2015-08-01 05:30:13.142     762376  view  115946            NaN\n",
       "2756098 2015-08-01 04:57:00.527    1251746  view   78144            NaN\n",
       "2756099 2015-08-01 05:08:50.703    1184451  view  283392            NaN\n",
       "2756100 2015-08-01 05:36:03.914     199536  view  152913            NaN\n",
       "\n",
       "[2756101 rows x 5 columns]"
      ]
     },
     "execution_count": 117,
     "metadata": {},
     "output_type": "execute_result"
    }
   ],
   "source": [
    "events"
   ]
  },
  {
   "cell_type": "code",
   "execution_count": 118,
   "id": "55e560cd",
   "metadata": {},
   "outputs": [
    {
     "data": {
      "text/plain": [
       "timestamp        datetime64[ns]\n",
       "visitorid                 int64\n",
       "event                    object\n",
       "itemid                    int64\n",
       "transactionid           float64\n",
       "dtype: object"
      ]
     },
     "execution_count": 118,
     "metadata": {},
     "output_type": "execute_result"
    }
   ],
   "source": [
    "events.dtypes"
   ]
  },
  {
   "cell_type": "code",
   "execution_count": 119,
   "id": "a28a584b",
   "metadata": {},
   "outputs": [],
   "source": [
    "df=events.copy()"
   ]
  },
  {
   "cell_type": "code",
   "execution_count": 120,
   "id": "740a589c",
   "metadata": {},
   "outputs": [
    {
     "data": {
      "text/plain": [
       "timestamp              0\n",
       "visitorid              0\n",
       "event                  0\n",
       "itemid                 0\n",
       "transactionid    2733644\n",
       "dtype: int64"
      ]
     },
     "execution_count": 120,
     "metadata": {},
     "output_type": "execute_result"
    }
   ],
   "source": [
    "df.isnull().sum()"
   ]
  },
  {
   "cell_type": "code",
   "execution_count": 121,
   "id": "3e92d836",
   "metadata": {},
   "outputs": [
    {
     "data": {
      "text/plain": [
       "timestamp        0\n",
       "visitorid        0\n",
       "event            0\n",
       "itemid           0\n",
       "transactionid    0\n",
       "dtype: int64"
      ]
     },
     "execution_count": 121,
     "metadata": {},
     "output_type": "execute_result"
    }
   ],
   "source": [
    "df.dropna(inplace = True)\n",
    "df.isnull().sum()"
   ]
  },
  {
   "cell_type": "code",
   "execution_count": 122,
   "id": "ecda8661",
   "metadata": {},
   "outputs": [
    {
     "data": {
      "text/plain": [
       "(22457, 5)"
      ]
     },
     "execution_count": 122,
     "metadata": {},
     "output_type": "execute_result"
    }
   ],
   "source": [
    "df.shape"
   ]
  },
  {
   "cell_type": "code",
   "execution_count": 123,
   "id": "c99b4870",
   "metadata": {},
   "outputs": [
    {
     "data": {
      "text/html": [
       "<div>\n",
       "<style scoped>\n",
       "    .dataframe tbody tr th:only-of-type {\n",
       "        vertical-align: middle;\n",
       "    }\n",
       "\n",
       "    .dataframe tbody tr th {\n",
       "        vertical-align: top;\n",
       "    }\n",
       "\n",
       "    .dataframe thead th {\n",
       "        text-align: right;\n",
       "    }\n",
       "</style>\n",
       "<table border=\"1\" class=\"dataframe\">\n",
       "  <thead>\n",
       "    <tr style=\"text-align: right;\">\n",
       "      <th></th>\n",
       "      <th>count</th>\n",
       "      <th>mean</th>\n",
       "      <th>std</th>\n",
       "      <th>min</th>\n",
       "      <th>1%</th>\n",
       "      <th>5%</th>\n",
       "      <th>25%</th>\n",
       "      <th>50%</th>\n",
       "      <th>75%</th>\n",
       "      <th>80%</th>\n",
       "      <th>90%</th>\n",
       "      <th>95%</th>\n",
       "      <th>99%</th>\n",
       "      <th>max</th>\n",
       "    </tr>\n",
       "  </thead>\n",
       "  <tbody>\n",
       "    <tr>\n",
       "      <th>visitorid</th>\n",
       "      <td>22457.0</td>\n",
       "      <td>700481.127488</td>\n",
       "      <td>403657.194682</td>\n",
       "      <td>172.0</td>\n",
       "      <td>17676.00</td>\n",
       "      <td>76757.0</td>\n",
       "      <td>346597.0</td>\n",
       "      <td>712121.0</td>\n",
       "      <td>1062424.0</td>\n",
       "      <td>1133097.0</td>\n",
       "      <td>1245921.4</td>\n",
       "      <td>1322803.4</td>\n",
       "      <td>1385073.0</td>\n",
       "      <td>1407398.0</td>\n",
       "    </tr>\n",
       "    <tr>\n",
       "      <th>itemid</th>\n",
       "      <td>22457.0</td>\n",
       "      <td>236566.088614</td>\n",
       "      <td>134810.094990</td>\n",
       "      <td>15.0</td>\n",
       "      <td>4582.68</td>\n",
       "      <td>23221.8</td>\n",
       "      <td>120114.0</td>\n",
       "      <td>238804.0</td>\n",
       "      <td>352115.0</td>\n",
       "      <td>374962.0</td>\n",
       "      <td>422905.0</td>\n",
       "      <td>445776.8</td>\n",
       "      <td>461710.0</td>\n",
       "      <td>466861.0</td>\n",
       "    </tr>\n",
       "    <tr>\n",
       "      <th>transactionid</th>\n",
       "      <td>22457.0</td>\n",
       "      <td>8826.497796</td>\n",
       "      <td>5098.996290</td>\n",
       "      <td>0.0</td>\n",
       "      <td>181.56</td>\n",
       "      <td>887.8</td>\n",
       "      <td>4411.0</td>\n",
       "      <td>8813.0</td>\n",
       "      <td>13224.0</td>\n",
       "      <td>14104.8</td>\n",
       "      <td>15880.4</td>\n",
       "      <td>16819.0</td>\n",
       "      <td>17496.0</td>\n",
       "      <td>17671.0</td>\n",
       "    </tr>\n",
       "  </tbody>\n",
       "</table>\n",
       "</div>"
      ],
      "text/plain": [
       "                 count           mean            std    min        1%  \\\n",
       "visitorid      22457.0  700481.127488  403657.194682  172.0  17676.00   \n",
       "itemid         22457.0  236566.088614  134810.094990   15.0   4582.68   \n",
       "transactionid  22457.0    8826.497796    5098.996290    0.0    181.56   \n",
       "\n",
       "                    5%       25%       50%        75%        80%        90%  \\\n",
       "visitorid      76757.0  346597.0  712121.0  1062424.0  1133097.0  1245921.4   \n",
       "itemid         23221.8  120114.0  238804.0   352115.0   374962.0   422905.0   \n",
       "transactionid    887.8    4411.0    8813.0    13224.0    14104.8    15880.4   \n",
       "\n",
       "                     95%        99%        max  \n",
       "visitorid      1322803.4  1385073.0  1407398.0  \n",
       "itemid          445776.8   461710.0   466861.0  \n",
       "transactionid    16819.0    17496.0    17671.0  "
      ]
     },
     "execution_count": 123,
     "metadata": {},
     "output_type": "execute_result"
    }
   ],
   "source": [
    "df.describe([0.05,0.01,0.25,0.50,0.75,0.80,0.90,0.95,0.99]).T"
   ]
  },
  {
   "cell_type": "code",
   "execution_count": 124,
   "id": "71fc6a11",
   "metadata": {},
   "outputs": [
    {
     "data": {
      "text/plain": [
       "Timestamp('2015-09-18 04:43:12.017000')"
      ]
     },
     "execution_count": 124,
     "metadata": {},
     "output_type": "execute_result"
    }
   ],
   "source": [
    "max(df.timestamp)"
   ]
  },
  {
   "cell_type": "markdown",
   "id": "918851fc",
   "metadata": {},
   "source": [
    "# Recency, Frequency & Monetary value calculation\n"
   ]
  },
  {
   "cell_type": "markdown",
   "id": "91cfc1f7",
   "metadata": {},
   "source": [
    "we’ll calculate is the three key factors of RFM Analysis (recency, frequency, and monetary).\n",
    "<br>\n",
    "<b>Recency</b>: How recently customers made their purchase.<br>\n",
    "<b>Frequency</b>: For simplicity, we’ll count the number of times each customer made a purchase.\n",
    "<br>\n",
    "<b>Monetary</b>: How much money they spent in total.\n",
    "<br>\n",
    "We are going to calculate these three key factors by grouping them by customers and taking <b>“2015/09/18”</b> as our reference end date since this is the last transaction date listed in our dataset."
   ]
  },
  {
   "cell_type": "code",
   "execution_count": 125,
   "id": "07784736",
   "metadata": {},
   "outputs": [],
   "source": [
    "# Recency   = Overall latest invoice date - individual customer's last invoice date\n",
    "# Frequency = count of invoice no. of transaction(s)\n",
    "# Monetary = Sum of Total amount for each cutomer\n",
    "\n",
    "# Set 2015/09/18 as the overall last transcation date. This is to calculate recency in days.\n"
   ]
  },
  {
   "cell_type": "code",
   "execution_count": 126,
   "id": "987d9299",
   "metadata": {},
   "outputs": [
    {
     "data": {
      "text/html": [
       "<div>\n",
       "<style scoped>\n",
       "    .dataframe tbody tr th:only-of-type {\n",
       "        vertical-align: middle;\n",
       "    }\n",
       "\n",
       "    .dataframe tbody tr th {\n",
       "        vertical-align: top;\n",
       "    }\n",
       "\n",
       "    .dataframe thead th {\n",
       "        text-align: right;\n",
       "    }\n",
       "</style>\n",
       "<table border=\"1\" class=\"dataframe\">\n",
       "  <thead>\n",
       "    <tr style=\"text-align: right;\">\n",
       "      <th></th>\n",
       "      <th>timestamp</th>\n",
       "      <th>visitorid</th>\n",
       "      <th>event</th>\n",
       "      <th>itemid</th>\n",
       "      <th>transactionid</th>\n",
       "    </tr>\n",
       "  </thead>\n",
       "  <tbody>\n",
       "    <tr>\n",
       "      <th>130</th>\n",
       "      <td>2015-06-02 07:17:56.276</td>\n",
       "      <td>599528</td>\n",
       "      <td>transaction</td>\n",
       "      <td>356475</td>\n",
       "      <td>4000.0</td>\n",
       "    </tr>\n",
       "    <tr>\n",
       "      <th>304</th>\n",
       "      <td>2015-06-01 23:18:20.981</td>\n",
       "      <td>121688</td>\n",
       "      <td>transaction</td>\n",
       "      <td>15335</td>\n",
       "      <td>11117.0</td>\n",
       "    </tr>\n",
       "    <tr>\n",
       "      <th>418</th>\n",
       "      <td>2015-06-01 23:25:15.008</td>\n",
       "      <td>552148</td>\n",
       "      <td>transaction</td>\n",
       "      <td>81345</td>\n",
       "      <td>5444.0</td>\n",
       "    </tr>\n",
       "    <tr>\n",
       "      <th>814</th>\n",
       "      <td>2015-06-01 18:38:56.375</td>\n",
       "      <td>102019</td>\n",
       "      <td>transaction</td>\n",
       "      <td>150318</td>\n",
       "      <td>13556.0</td>\n",
       "    </tr>\n",
       "    <tr>\n",
       "      <th>843</th>\n",
       "      <td>2015-06-01 18:01:58.180</td>\n",
       "      <td>189384</td>\n",
       "      <td>transaction</td>\n",
       "      <td>310791</td>\n",
       "      <td>7244.0</td>\n",
       "    </tr>\n",
       "    <tr>\n",
       "      <th>...</th>\n",
       "      <td>...</td>\n",
       "      <td>...</td>\n",
       "      <td>...</td>\n",
       "      <td>...</td>\n",
       "      <td>...</td>\n",
       "    </tr>\n",
       "    <tr>\n",
       "      <th>2755294</th>\n",
       "      <td>2015-07-31 23:12:56.570</td>\n",
       "      <td>1050575</td>\n",
       "      <td>transaction</td>\n",
       "      <td>31640</td>\n",
       "      <td>8354.0</td>\n",
       "    </tr>\n",
       "    <tr>\n",
       "      <th>2755349</th>\n",
       "      <td>2015-07-31 23:57:58.779</td>\n",
       "      <td>861299</td>\n",
       "      <td>transaction</td>\n",
       "      <td>456602</td>\n",
       "      <td>3643.0</td>\n",
       "    </tr>\n",
       "    <tr>\n",
       "      <th>2755508</th>\n",
       "      <td>2015-07-31 17:48:50.123</td>\n",
       "      <td>855941</td>\n",
       "      <td>transaction</td>\n",
       "      <td>235771</td>\n",
       "      <td>4385.0</td>\n",
       "    </tr>\n",
       "    <tr>\n",
       "      <th>2755603</th>\n",
       "      <td>2015-07-31 17:12:40.300</td>\n",
       "      <td>548772</td>\n",
       "      <td>transaction</td>\n",
       "      <td>29167</td>\n",
       "      <td>13872.0</td>\n",
       "    </tr>\n",
       "    <tr>\n",
       "      <th>2755607</th>\n",
       "      <td>2015-07-31 18:09:49.163</td>\n",
       "      <td>1051054</td>\n",
       "      <td>transaction</td>\n",
       "      <td>312728</td>\n",
       "      <td>17579.0</td>\n",
       "    </tr>\n",
       "  </tbody>\n",
       "</table>\n",
       "<p>22457 rows × 5 columns</p>\n",
       "</div>"
      ],
      "text/plain": [
       "                      timestamp  visitorid        event  itemid  transactionid\n",
       "130     2015-06-02 07:17:56.276     599528  transaction  356475         4000.0\n",
       "304     2015-06-01 23:18:20.981     121688  transaction   15335        11117.0\n",
       "418     2015-06-01 23:25:15.008     552148  transaction   81345         5444.0\n",
       "814     2015-06-01 18:38:56.375     102019  transaction  150318        13556.0\n",
       "843     2015-06-01 18:01:58.180     189384  transaction  310791         7244.0\n",
       "...                         ...        ...          ...     ...            ...\n",
       "2755294 2015-07-31 23:12:56.570    1050575  transaction   31640         8354.0\n",
       "2755349 2015-07-31 23:57:58.779     861299  transaction  456602         3643.0\n",
       "2755508 2015-07-31 17:48:50.123     855941  transaction  235771         4385.0\n",
       "2755603 2015-07-31 17:12:40.300     548772  transaction   29167        13872.0\n",
       "2755607 2015-07-31 18:09:49.163    1051054  transaction  312728        17579.0\n",
       "\n",
       "[22457 rows x 5 columns]"
      ]
     },
     "execution_count": 126,
     "metadata": {},
     "output_type": "execute_result"
    }
   ],
   "source": [
    "df"
   ]
  },
  {
   "cell_type": "code",
   "execution_count": 127,
   "id": "7a067088",
   "metadata": {},
   "outputs": [],
   "source": [
    "#Recency Metric\n",
    "import datetime as dt\n",
    "today_date = dt.datetime(2021,12,30)\n",
    "temp_df = (today_date - df.groupby(\"visitorid\").agg({\"timestamp\":\"max\"}))\n",
    "temp_df.rename(columns={\"timestamp\": \"Recency\"}, inplace = True)\n",
    "recency_df = temp_df[\"Recency\"].apply(lambda x: x.days)\n",
    "# Frequency Metric\n",
    "temp_df = df.groupby([\"visitorid\",\"transactionid\"]).agg({\"transactionid\":\"count\"})\n",
    "freq_df = temp_df.groupby(\"visitorid\").agg({\"transactionid\":\"count\"})\n",
    "freq_df.rename(columns={\"transactionid\": \"Frequency\"}, inplace = True)\n",
    "\n",
    "# Monetary Metric\n",
    "## it should be  item price but i dont have this  feild on data\n",
    "\n",
    "monetary_df = df.groupby(\"visitorid\").agg({\"itemid\":\"sum\"})\n",
    "monetary_df.rename(columns = {\"itemid\": \"Monetary\"}, inplace = True)\n",
    "rfm = pd.concat([recency_df, freq_df, monetary_df],  axis=1)\n"
   ]
  },
  {
   "cell_type": "code",
   "execution_count": 128,
   "id": "dae54f3d",
   "metadata": {},
   "outputs": [
    {
     "data": {
      "text/html": [
       "<div>\n",
       "<style scoped>\n",
       "    .dataframe tbody tr th:only-of-type {\n",
       "        vertical-align: middle;\n",
       "    }\n",
       "\n",
       "    .dataframe tbody tr th {\n",
       "        vertical-align: top;\n",
       "    }\n",
       "\n",
       "    .dataframe thead th {\n",
       "        text-align: right;\n",
       "    }\n",
       "</style>\n",
       "<table border=\"1\" class=\"dataframe\">\n",
       "  <thead>\n",
       "    <tr style=\"text-align: right;\">\n",
       "      <th></th>\n",
       "      <th>Recency</th>\n",
       "      <th>Frequency</th>\n",
       "      <th>Monetary</th>\n",
       "      <th>RecencyScore</th>\n",
       "      <th>FrequencyScore</th>\n",
       "      <th>MonetaryScore</th>\n",
       "      <th>RFM_SCORE</th>\n",
       "      <th>Segment</th>\n",
       "    </tr>\n",
       "    <tr>\n",
       "      <th>visitorid</th>\n",
       "      <th></th>\n",
       "      <th></th>\n",
       "      <th></th>\n",
       "      <th></th>\n",
       "      <th></th>\n",
       "      <th></th>\n",
       "      <th></th>\n",
       "      <th></th>\n",
       "    </tr>\n",
       "  </thead>\n",
       "  <tbody>\n",
       "    <tr>\n",
       "      <th>172</th>\n",
       "      <td>2328</td>\n",
       "      <td>1</td>\n",
       "      <td>475556</td>\n",
       "      <td>4</td>\n",
       "      <td>1</td>\n",
       "      <td>5</td>\n",
       "      <td>415</td>\n",
       "      <td>Promising</td>\n",
       "    </tr>\n",
       "    <tr>\n",
       "      <th>186</th>\n",
       "      <td>2331</td>\n",
       "      <td>1</td>\n",
       "      <td>49029</td>\n",
       "      <td>4</td>\n",
       "      <td>1</td>\n",
       "      <td>1</td>\n",
       "      <td>411</td>\n",
       "      <td>Promising</td>\n",
       "    </tr>\n",
       "    <tr>\n",
       "      <th>264</th>\n",
       "      <td>2305</td>\n",
       "      <td>1</td>\n",
       "      <td>621784</td>\n",
       "      <td>5</td>\n",
       "      <td>1</td>\n",
       "      <td>5</td>\n",
       "      <td>515</td>\n",
       "      <td>New Customers</td>\n",
       "    </tr>\n",
       "    <tr>\n",
       "      <th>419</th>\n",
       "      <td>2345</td>\n",
       "      <td>1</td>\n",
       "      <td>19278</td>\n",
       "      <td>4</td>\n",
       "      <td>1</td>\n",
       "      <td>1</td>\n",
       "      <td>411</td>\n",
       "      <td>Promising</td>\n",
       "    </tr>\n",
       "    <tr>\n",
       "      <th>539</th>\n",
       "      <td>2388</td>\n",
       "      <td>1</td>\n",
       "      <td>94371</td>\n",
       "      <td>2</td>\n",
       "      <td>1</td>\n",
       "      <td>1</td>\n",
       "      <td>211</td>\n",
       "      <td>Hibernating</td>\n",
       "    </tr>\n",
       "  </tbody>\n",
       "</table>\n",
       "</div>"
      ],
      "text/plain": [
       "           Recency  Frequency  Monetary RecencyScore FrequencyScore  \\\n",
       "visitorid                                                             \n",
       "172           2328          1    475556            4              1   \n",
       "186           2331          1     49029            4              1   \n",
       "264           2305          1    621784            5              1   \n",
       "419           2345          1     19278            4              1   \n",
       "539           2388          1     94371            2              1   \n",
       "\n",
       "          MonetaryScore RFM_SCORE        Segment  \n",
       "visitorid                                         \n",
       "172                   5       415      Promising  \n",
       "186                   1       411      Promising  \n",
       "264                   5       515  New Customers  \n",
       "419                   1       411      Promising  \n",
       "539                   1       211    Hibernating  "
      ]
     },
     "execution_count": 128,
     "metadata": {},
     "output_type": "execute_result"
    }
   ],
   "source": [
    "df = rfm\n",
    "df[\"RecencyScore\"] = pd.qcut(df['Recency'], 5, labels = [5, 4, 3, 2, 1])\n",
    "df[\"FrequencyScore\"] = pd.qcut(df['Frequency'].rank(method = \"first\"), 5, labels = [1,2,3,4,5])\n",
    "df[\"MonetaryScore\"] = pd.qcut(df['Monetary'], 5, labels = [1,2,3,4,5])\n",
    "df[\"RFM_SCORE\"] = df['RecencyScore'].astype(str) + df['FrequencyScore'].astype(str) + df['MonetaryScore'].astype(str)\n",
    "seg_map = {\n",
    "        r'[1-2][1-2]': 'Hibernating',\n",
    "        r'[1-2][3-4]': 'At Risk',\n",
    "        r'[1-2]5': 'Can\\'t Loose',\n",
    "        r'3[1-2]': 'About to Sleep',\n",
    "        r'33': 'Need Attention',\n",
    "        r'[3-4][4-5]': 'Loyal Customers',\n",
    "        r'41': 'Promising',\n",
    "        r'51': 'New Customers',\n",
    "        r'[4-5][2-3]': 'Potential Loyalists',\n",
    "        r'5[4-5]': 'Champions'\n",
    "}\n",
    "\n",
    "df['Segment'] = df['RecencyScore'].astype(str) + rfm['FrequencyScore'].astype(str)\n",
    "df['Segment'] = df['Segment'].replace(seg_map, regex=True)\n",
    "df.head()\n",
    "\n"
   ]
  },
  {
   "cell_type": "code",
   "execution_count": 129,
   "id": "6cec072c",
   "metadata": {},
   "outputs": [],
   "source": [
    "rfm = df.loc[:,\"Recency\":\"Monetary\"]"
   ]
  },
  {
   "cell_type": "code",
   "execution_count": 130,
   "id": "45eb0bf3",
   "metadata": {},
   "outputs": [
    {
     "data": {
      "text/html": [
       "<div>\n",
       "<style scoped>\n",
       "    .dataframe tbody tr th:only-of-type {\n",
       "        vertical-align: middle;\n",
       "    }\n",
       "\n",
       "    .dataframe tbody tr th {\n",
       "        vertical-align: top;\n",
       "    }\n",
       "\n",
       "    .dataframe thead th {\n",
       "        text-align: right;\n",
       "    }\n",
       "</style>\n",
       "<table border=\"1\" class=\"dataframe\">\n",
       "  <thead>\n",
       "    <tr style=\"text-align: right;\">\n",
       "      <th></th>\n",
       "      <th>Segment</th>\n",
       "    </tr>\n",
       "    <tr>\n",
       "      <th>visitorid</th>\n",
       "      <th></th>\n",
       "    </tr>\n",
       "  </thead>\n",
       "  <tbody>\n",
       "    <tr>\n",
       "      <th>172</th>\n",
       "      <td>Promising</td>\n",
       "    </tr>\n",
       "    <tr>\n",
       "      <th>186</th>\n",
       "      <td>Promising</td>\n",
       "    </tr>\n",
       "    <tr>\n",
       "      <th>264</th>\n",
       "      <td>New Customers</td>\n",
       "    </tr>\n",
       "    <tr>\n",
       "      <th>419</th>\n",
       "      <td>Promising</td>\n",
       "    </tr>\n",
       "    <tr>\n",
       "      <th>539</th>\n",
       "      <td>Hibernating</td>\n",
       "    </tr>\n",
       "  </tbody>\n",
       "</table>\n",
       "</div>"
      ],
      "text/plain": [
       "                 Segment\n",
       "visitorid               \n",
       "172            Promising\n",
       "186            Promising\n",
       "264        New Customers\n",
       "419            Promising\n",
       "539          Hibernating"
      ]
     },
     "execution_count": 130,
     "metadata": {},
     "output_type": "execute_result"
    }
   ],
   "source": [
    "df.groupby(\"visitorid\").agg({\"Segment\": \"sum\"}).head()\n"
   ]
  },
  {
   "cell_type": "markdown",
   "id": "e5ee9fd7",
   "metadata": {},
   "source": [
    "# Explore the RFM values\n"
   ]
  },
  {
   "cell_type": "markdown",
   "id": "1e50e466",
   "metadata": {},
   "source": [
    "once we have every visitor’s individual recency, frequency, and monetary value calculated, we’d like to see the distribution graph to understand the data better."
   ]
  },
  {
   "cell_type": "code",
   "execution_count": 131,
   "id": "d3127f75",
   "metadata": {},
   "outputs": [
    {
     "data": {
      "text/plain": [
       "<AxesSubplot:xlabel='Monetary', ylabel='Count'>"
      ]
     },
     "execution_count": 131,
     "metadata": {},
     "output_type": "execute_result"
    },
    {
     "data": {
      "image/png": "[encoded data removed]",
      "text/plain": [
       "<Figure size 1152x576 with 3 Axes>"
      ]
     },
     "metadata": {},
     "output_type": "display_data"
    }
   ],
   "source": [
    "fig, ax = plt.subplots(1, 3, figsize=(16, 8))\n",
    "\n",
    "# Recency distribution plot\n",
    "sn.histplot(rfm['Recency'], kde=True, ax=ax[0])\n",
    "\n",
    "# Frequency distribution plot\n",
    "sn.histplot(rfm.query('Frequency < 1000')['Frequency'], kde=True, ax=ax[1])\n",
    "\n",
    "# Monetary distribution plot\n",
    "sn.histplot(rfm.query('Monetary < 10000')['Monetary'], kde=True, ax=ax[2])"
   ]
  },
  {
   "cell_type": "code",
   "execution_count": 132,
   "id": "e88d99f5",
   "metadata": {},
   "outputs": [
    {
     "data": {
      "text/html": [
       "<div>\n",
       "<style scoped>\n",
       "    .dataframe tbody tr th:only-of-type {\n",
       "        vertical-align: middle;\n",
       "    }\n",
       "\n",
       "    .dataframe tbody tr th {\n",
       "        vertical-align: top;\n",
       "    }\n",
       "\n",
       "    .dataframe thead th {\n",
       "        text-align: right;\n",
       "    }\n",
       "</style>\n",
       "<table border=\"1\" class=\"dataframe\">\n",
       "  <thead>\n",
       "    <tr style=\"text-align: right;\">\n",
       "      <th></th>\n",
       "      <th>Recency</th>\n",
       "      <th>Frequency</th>\n",
       "      <th>Monetary</th>\n",
       "      <th>RecencyScore</th>\n",
       "      <th>FrequencyScore</th>\n",
       "      <th>MonetaryScore</th>\n",
       "      <th>RFM_SCORE</th>\n",
       "      <th>Segment</th>\n",
       "    </tr>\n",
       "    <tr>\n",
       "      <th>visitorid</th>\n",
       "      <th></th>\n",
       "      <th></th>\n",
       "      <th></th>\n",
       "      <th></th>\n",
       "      <th></th>\n",
       "      <th></th>\n",
       "      <th></th>\n",
       "      <th></th>\n",
       "    </tr>\n",
       "  </thead>\n",
       "  <tbody>\n",
       "    <tr>\n",
       "      <th>172</th>\n",
       "      <td>2328</td>\n",
       "      <td>1</td>\n",
       "      <td>475556</td>\n",
       "      <td>4</td>\n",
       "      <td>1</td>\n",
       "      <td>5</td>\n",
       "      <td>415</td>\n",
       "      <td>Promising</td>\n",
       "    </tr>\n",
       "    <tr>\n",
       "      <th>186</th>\n",
       "      <td>2331</td>\n",
       "      <td>1</td>\n",
       "      <td>49029</td>\n",
       "      <td>4</td>\n",
       "      <td>1</td>\n",
       "      <td>1</td>\n",
       "      <td>411</td>\n",
       "      <td>Promising</td>\n",
       "    </tr>\n",
       "    <tr>\n",
       "      <th>264</th>\n",
       "      <td>2305</td>\n",
       "      <td>1</td>\n",
       "      <td>621784</td>\n",
       "      <td>5</td>\n",
       "      <td>1</td>\n",
       "      <td>5</td>\n",
       "      <td>515</td>\n",
       "      <td>New Customers</td>\n",
       "    </tr>\n",
       "    <tr>\n",
       "      <th>419</th>\n",
       "      <td>2345</td>\n",
       "      <td>1</td>\n",
       "      <td>19278</td>\n",
       "      <td>4</td>\n",
       "      <td>1</td>\n",
       "      <td>1</td>\n",
       "      <td>411</td>\n",
       "      <td>Promising</td>\n",
       "    </tr>\n",
       "    <tr>\n",
       "      <th>539</th>\n",
       "      <td>2388</td>\n",
       "      <td>1</td>\n",
       "      <td>94371</td>\n",
       "      <td>2</td>\n",
       "      <td>1</td>\n",
       "      <td>1</td>\n",
       "      <td>211</td>\n",
       "      <td>Hibernating</td>\n",
       "    </tr>\n",
       "    <tr>\n",
       "      <th>...</th>\n",
       "      <td>...</td>\n",
       "      <td>...</td>\n",
       "      <td>...</td>\n",
       "      <td>...</td>\n",
       "      <td>...</td>\n",
       "      <td>...</td>\n",
       "      <td>...</td>\n",
       "      <td>...</td>\n",
       "    </tr>\n",
       "    <tr>\n",
       "      <th>1406787</th>\n",
       "      <td>2403</td>\n",
       "      <td>1</td>\n",
       "      <td>336832</td>\n",
       "      <td>2</td>\n",
       "      <td>5</td>\n",
       "      <td>3</td>\n",
       "      <td>253</td>\n",
       "      <td>Can't Loose</td>\n",
       "    </tr>\n",
       "    <tr>\n",
       "      <th>1406981</th>\n",
       "      <td>2416</td>\n",
       "      <td>1</td>\n",
       "      <td>436004</td>\n",
       "      <td>1</td>\n",
       "      <td>5</td>\n",
       "      <td>4</td>\n",
       "      <td>154</td>\n",
       "      <td>Can't Loose</td>\n",
       "    </tr>\n",
       "    <tr>\n",
       "      <th>1407070</th>\n",
       "      <td>2421</td>\n",
       "      <td>1</td>\n",
       "      <td>215596</td>\n",
       "      <td>1</td>\n",
       "      <td>5</td>\n",
       "      <td>2</td>\n",
       "      <td>152</td>\n",
       "      <td>Can't Loose</td>\n",
       "    </tr>\n",
       "    <tr>\n",
       "      <th>1407110</th>\n",
       "      <td>2338</td>\n",
       "      <td>1</td>\n",
       "      <td>360922</td>\n",
       "      <td>4</td>\n",
       "      <td>5</td>\n",
       "      <td>4</td>\n",
       "      <td>454</td>\n",
       "      <td>Loyal Customers</td>\n",
       "    </tr>\n",
       "    <tr>\n",
       "      <th>1407398</th>\n",
       "      <td>2367</td>\n",
       "      <td>1</td>\n",
       "      <td>218917</td>\n",
       "      <td>3</td>\n",
       "      <td>5</td>\n",
       "      <td>2</td>\n",
       "      <td>352</td>\n",
       "      <td>Loyal Customers</td>\n",
       "    </tr>\n",
       "  </tbody>\n",
       "</table>\n",
       "<p>11719 rows × 8 columns</p>\n",
       "</div>"
      ],
      "text/plain": [
       "           Recency  Frequency  Monetary RecencyScore FrequencyScore  \\\n",
       "visitorid                                                             \n",
       "172           2328          1    475556            4              1   \n",
       "186           2331          1     49029            4              1   \n",
       "264           2305          1    621784            5              1   \n",
       "419           2345          1     19278            4              1   \n",
       "539           2388          1     94371            2              1   \n",
       "...            ...        ...       ...          ...            ...   \n",
       "1406787       2403          1    336832            2              5   \n",
       "1406981       2416          1    436004            1              5   \n",
       "1407070       2421          1    215596            1              5   \n",
       "1407110       2338          1    360922            4              5   \n",
       "1407398       2367          1    218917            3              5   \n",
       "\n",
       "          MonetaryScore RFM_SCORE          Segment  \n",
       "visitorid                                           \n",
       "172                   5       415        Promising  \n",
       "186                   1       411        Promising  \n",
       "264                   5       515    New Customers  \n",
       "419                   1       411        Promising  \n",
       "539                   1       211      Hibernating  \n",
       "...                 ...       ...              ...  \n",
       "1406787               3       253      Can't Loose  \n",
       "1406981               4       154      Can't Loose  \n",
       "1407070               2       152      Can't Loose  \n",
       "1407110               4       454  Loyal Customers  \n",
       "1407398               2       352  Loyal Customers  \n",
       "\n",
       "[11719 rows x 8 columns]"
      ]
     },
     "execution_count": 132,
     "metadata": {},
     "output_type": "execute_result"
    }
   ],
   "source": [
    "df"
   ]
  },
  {
   "cell_type": "markdown",
   "id": "c608bce5",
   "metadata": {},
   "source": [
    "# Clustering with the K-Means Algorithm\n"
   ]
  },
  {
   "cell_type": "code",
   "execution_count": 133,
   "id": "28d7005d",
   "metadata": {},
   "outputs": [],
   "source": [
    "from sklearn.cluster import KMeans\n",
    "from sklearn.preprocessing import MinMaxScaler"
   ]
  },
  {
   "cell_type": "code",
   "execution_count": 134,
   "id": "18857ef9",
   "metadata": {},
   "outputs": [],
   "source": [
    "#scale\n",
    "sc = MinMaxScaler((0,1))\n",
    "df = sc.fit_transform(rfm)\n",
    "\n",
    "#Kmeans\n",
    "kmeans = KMeans(n_clusters = 10)\n",
    "k_fit = kmeans.fit(df)"
   ]
  },
  {
   "cell_type": "code",
   "execution_count": 135,
   "id": "aff92246",
   "metadata": {},
   "outputs": [
    {
     "data": {
      "text/plain": [
       "10"
      ]
     },
     "execution_count": 135,
     "metadata": {},
     "output_type": "execute_result"
    }
   ],
   "source": [
    "k_fit.n_clusters"
   ]
  },
  {
   "cell_type": "code",
   "execution_count": 136,
   "id": "c449a4d2",
   "metadata": {},
   "outputs": [
    {
     "data": {
      "text/plain": [
       "array([[9.55339194e-01, 3.31159983e-04, 2.72321896e-03],\n",
       "       [3.43601204e-01, 5.49583794e-04, 3.04244433e-03],\n",
       "       [6.51485534e-01, 6.29632685e-04, 3.03805874e-03],\n",
       "       [7.41322452e-02, 1.19005743e-03, 3.85068126e-03],\n",
       "       [8.59395075e-01, 6.73053231e-04, 3.05262279e-03],\n",
       "       [5.46085792e-01, 4.71346464e-04, 2.99596562e-03],\n",
       "       [2.09620519e-01, 6.10620864e-04, 3.13547835e-03],\n",
       "       [7.58668053e-01, 1.07667747e-03, 3.64626006e-03],\n",
       "       [4.46163173e-01, 7.71365635e-04, 3.48275891e-03],\n",
       "       [2.97906602e-01, 4.01197605e-01, 4.48952552e-01]])"
      ]
     },
     "execution_count": 136,
     "metadata": {},
     "output_type": "execute_result"
    }
   ],
   "source": [
    "k_fit.cluster_centers_"
   ]
  },
  {
   "cell_type": "code",
   "execution_count": 137,
   "id": "43731c94",
   "metadata": {},
   "outputs": [
    {
     "data": {
      "text/plain": [
       "array([6, 6, 3, ..., 0, 1, 5])"
      ]
     },
     "execution_count": 137,
     "metadata": {},
     "output_type": "execute_result"
    }
   ],
   "source": [
    "k_fit.labels_ "
   ]
  },
  {
   "cell_type": "code",
   "execution_count": 138,
   "id": "7f0667ba",
   "metadata": {},
   "outputs": [
    {
     "data": {
      "text/plain": [
       "array([[2.46376812e-01, 0.00000000e+00, 3.74502469e-03],\n",
       "       [2.68115942e-01, 0.00000000e+00, 3.85928972e-04],\n",
       "       [7.97101449e-02, 0.00000000e+00, 4.89663724e-03],\n",
       "       [3.69565217e-01, 0.00000000e+00, 1.51626204e-04],\n",
       "       [6.81159420e-01, 0.00000000e+00, 7.43018014e-04]])"
      ]
     },
     "execution_count": 138,
     "metadata": {},
     "output_type": "execute_result"
    }
   ],
   "source": [
    "df[0:5]"
   ]
  },
  {
   "cell_type": "markdown",
   "id": "0c543995",
   "metadata": {},
   "source": [
    "# Determining the Optimum Number of Clusters\n"
   ]
  },
  {
   "cell_type": "code",
   "execution_count": 139,
   "id": "ca8df3d7",
   "metadata": {},
   "outputs": [
    {
     "data": {
      "text/plain": [
       "Text(0.5, 1.0, 'Elbow method for Optimum number of clusters')"
      ]
     },
     "execution_count": 139,
     "metadata": {},
     "output_type": "execute_result"
    },
    {
     "data": {
      "image/png": "[encoded data removed]",
      "text/plain": [
       "<Figure size 792x288 with 1 Axes>"
      ]
     },
     "metadata": {},
     "output_type": "display_data"
    }
   ],
   "source": [
    "kmeans = KMeans(n_clusters = 2)\n",
    "k_fit = kmeans.fit(df)\n",
    "ssd = []  \n",
    "\n",
    "K = range(1,30)\n",
    "\n",
    "for k in K:\n",
    "    kmeans = KMeans(n_clusters = k).fit(df)\n",
    "    ssd.append(kmeans.inertia_)\n",
    "\n",
    "plt.plot(K, ssd, \"bx-\")\n",
    "plt.xlabel(\"Distance Residual Sums Versus Different k Values\")\n",
    "plt.title(\"Elbow method for Optimum number of clusters\")"
   ]
  },
  {
   "cell_type": "code",
   "execution_count": 140,
   "id": "9e42ff57",
   "metadata": {},
   "outputs": [],
   "source": [
    "# !pip install yellowbrick"
   ]
  },
  {
   "cell_type": "code",
   "execution_count": 141,
   "id": "895450bc",
   "metadata": {},
   "outputs": [
    {
     "data": {
      "image/png": "[encoded data removed]",
      "text/plain": [
       "<Figure size 576x396 with 2 Axes>"
      ]
     },
     "metadata": {},
     "output_type": "display_data"
    }
   ],
   "source": [
    "from yellowbrick.cluster import KElbowVisualizer\n",
    "kmeans = KMeans()\n",
    "visu = KElbowVisualizer(kmeans, k = (2,20))\n",
    "visu.fit(df)\n",
    "visu.poof();"
   ]
  },
  {
   "cell_type": "code",
   "execution_count": 142,
   "id": "6491a560",
   "metadata": {},
   "outputs": [
    {
     "data": {
      "text/html": [
       "<div>\n",
       "<style scoped>\n",
       "    .dataframe tbody tr th:only-of-type {\n",
       "        vertical-align: middle;\n",
       "    }\n",
       "\n",
       "    .dataframe tbody tr th {\n",
       "        vertical-align: top;\n",
       "    }\n",
       "\n",
       "    .dataframe thead th {\n",
       "        text-align: right;\n",
       "    }\n",
       "</style>\n",
       "<table border=\"1\" class=\"dataframe\">\n",
       "  <thead>\n",
       "    <tr style=\"text-align: right;\">\n",
       "      <th></th>\n",
       "      <th>VistiorID</th>\n",
       "      <th>cluster</th>\n",
       "    </tr>\n",
       "  </thead>\n",
       "  <tbody>\n",
       "    <tr>\n",
       "      <th>0</th>\n",
       "      <td>172</td>\n",
       "      <td>5</td>\n",
       "    </tr>\n",
       "    <tr>\n",
       "      <th>1</th>\n",
       "      <td>186</td>\n",
       "      <td>5</td>\n",
       "    </tr>\n",
       "    <tr>\n",
       "      <th>2</th>\n",
       "      <td>264</td>\n",
       "      <td>2</td>\n",
       "    </tr>\n",
       "    <tr>\n",
       "      <th>3</th>\n",
       "      <td>419</td>\n",
       "      <td>0</td>\n",
       "    </tr>\n",
       "    <tr>\n",
       "      <th>4</th>\n",
       "      <td>539</td>\n",
       "      <td>4</td>\n",
       "    </tr>\n",
       "    <tr>\n",
       "      <th>...</th>\n",
       "      <td>...</td>\n",
       "      <td>...</td>\n",
       "    </tr>\n",
       "    <tr>\n",
       "      <th>11714</th>\n",
       "      <td>1406787</td>\n",
       "      <td>1</td>\n",
       "    </tr>\n",
       "    <tr>\n",
       "      <th>11715</th>\n",
       "      <td>1406981</td>\n",
       "      <td>3</td>\n",
       "    </tr>\n",
       "    <tr>\n",
       "      <th>11716</th>\n",
       "      <td>1407070</td>\n",
       "      <td>3</td>\n",
       "    </tr>\n",
       "    <tr>\n",
       "      <th>11717</th>\n",
       "      <td>1407110</td>\n",
       "      <td>5</td>\n",
       "    </tr>\n",
       "    <tr>\n",
       "      <th>11718</th>\n",
       "      <td>1407398</td>\n",
       "      <td>4</td>\n",
       "    </tr>\n",
       "  </tbody>\n",
       "</table>\n",
       "<p>11719 rows × 2 columns</p>\n",
       "</div>"
      ],
      "text/plain": [
       "       VistiorID  cluster\n",
       "0            172        5\n",
       "1            186        5\n",
       "2            264        2\n",
       "3            419        0\n",
       "4            539        4\n",
       "...          ...      ...\n",
       "11714    1406787        1\n",
       "11715    1406981        3\n",
       "11716    1407070        3\n",
       "11717    1407110        5\n",
       "11718    1407398        4\n",
       "\n",
       "[11719 rows x 2 columns]"
      ]
     },
     "execution_count": 142,
     "metadata": {},
     "output_type": "execute_result"
    }
   ],
   "source": [
    "kmeans = KMeans(n_clusters = 6).fit(df)\n",
    "cluster = kmeans.labels_\n",
    "pd.DataFrame({\"VistiorID\": rfm.index, \"cluster\": cluster})"
   ]
  }
 ],
 "metadata": {
  "kernelspec": {
   "display_name": "Python 3 (ipykernel)",
   "language": "python",
   "name": "python3"
  },
  "language_info": {
   "codemirror_mode": {
    "name": "ipython",
    "version": 3
   },
   "file_extension": ".py",
   "mimetype": "text/x-python",
   "name": "python",
   "nbconvert_exporter": "python",
   "pygments_lexer": "ipython3",
   "version": "3.7.6"
  }
 },
 "nbformat": 4,
 "nbformat_minor": 5
}
