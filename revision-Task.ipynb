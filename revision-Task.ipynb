{
 "cells": [
  {
   "cell_type": "code",
   "execution_count": null,
   "id": "bbcdf987",
   "metadata": {},
   "outputs": [],
   "source": [
    "import pandas as pd\n",
    "\n",
    "from datetime import datetime\n",
    "# Display figures inline in Jupyter notebook\n",
    "import matplotlib.pyplot as plt\n",
    "import seaborn as sn\n",
    "# Use seaborn style defaults and set the default figure size\n",
    "sn.set(rc={'figure.figsize':(11, 4)})\n"
   ]
  },
  {
   "cell_type": "code",
   "execution_count": null,
   "id": "96e68f67",
   "metadata": {},
   "outputs": [],
   "source": [
    "# !pip install mlxtend\n",
    "from mlxtend.frequent_patterns import apriori, association_rules"
   ]
  },
  {
   "cell_type": "markdown",
   "id": "51f5708a",
   "metadata": {},
   "source": [
    "# Reading  the data files"
   ]
  },
  {
   "cell_type": "code",
   "execution_count": null,
   "id": "744e98cd",
   "metadata": {},
   "outputs": [],
   "source": [
    "events=pd.read_csv('events.csv')"
   ]
  },
  {
   "cell_type": "code",
   "execution_count": null,
   "id": "0974021d",
   "metadata": {},
   "outputs": [],
   "source": [
    "events.head(5)"
   ]
  },
  {
   "cell_type": "code",
   "execution_count": null,
   "id": "6923c57d",
   "metadata": {},
   "outputs": [],
   "source": [
    "category_tree=pd.read_csv('category_tree.csv')"
   ]
  },
  {
   "cell_type": "code",
   "execution_count": null,
   "id": "7ae89287",
   "metadata": {},
   "outputs": [],
   "source": [
    "category_tree.head(5)"
   ]
  },
  {
   "cell_type": "code",
   "execution_count": null,
   "id": "754c4875",
   "metadata": {},
   "outputs": [],
   "source": [
    "category_tree.shape"
   ]
  },
  {
   "cell_type": "code",
   "execution_count": null,
   "id": "65916991",
   "metadata": {},
   "outputs": [],
   "source": [
    "category_tree.parentid.nunique()"
   ]
  },
  {
   "cell_type": "code",
   "execution_count": null,
   "id": "1dac27e0",
   "metadata": {},
   "outputs": [],
   "source": [
    "item_prop=pd.read_csv('item_properties_part1.csv')\n",
    "item_prop2=pd.read_csv('item_properties_part2.csv')"
   ]
  },
  {
   "cell_type": "code",
   "execution_count": null,
   "id": "79627704",
   "metadata": {},
   "outputs": [],
   "source": [
    "item_props=pd.concat([item_prop,item_prop2],ignore_index=True)"
   ]
  },
  {
   "cell_type": "code",
   "execution_count": null,
   "id": "f027984f",
   "metadata": {},
   "outputs": [],
   "source": [
    "item_props.head(5)"
   ]
  },
  {
   "cell_type": "code",
   "execution_count": null,
   "id": "765ea85e",
   "metadata": {},
   "outputs": [],
   "source": [
    "item_props.dtypes"
   ]
  },
  {
   "cell_type": "code",
   "execution_count": null,
   "id": "922f8700",
   "metadata": {},
   "outputs": [],
   "source": [
    "item_props=item_props.sort_values(by='timestamp')"
   ]
  },
  {
   "cell_type": "markdown",
   "id": "5095ae88",
   "metadata": {},
   "source": [
    "Change timestamp to date-time format i tried to convert it directly but it gave me DateTime in the future so i divided the value by 1000 before converting it to be reasonable. maybe it's  wrong but I did this just to be  readable"
   ]
  },
  {
   "cell_type": "code",
   "execution_count": null,
   "id": "59fa757b",
   "metadata": {},
   "outputs": [],
   "source": [
    "item_props['timestamp']=item_props['timestamp'].apply( lambda x: datetime.fromtimestamp(x/1000))"
   ]
  },
  {
   "cell_type": "code",
   "execution_count": null,
   "id": "c5a668f4",
   "metadata": {},
   "outputs": [],
   "source": [
    "item_props.shape"
   ]
  },
  {
   "cell_type": "code",
   "execution_count": null,
   "id": "06947bbc",
   "metadata": {},
   "outputs": [],
   "source": [
    "item_props.itemid.nunique()"
   ]
  },
  {
   "cell_type": "code",
   "execution_count": null,
   "id": "0352c807",
   "metadata": {},
   "outputs": [],
   "source": [
    "item_props"
   ]
  },
  {
   "cell_type": "markdown",
   "id": "638efe1f",
   "metadata": {},
   "source": [
    "# Exploring  properties of  items  over time"
   ]
  },
  {
   "cell_type": "code",
   "execution_count": null,
   "id": "05c1d19b",
   "metadata": {},
   "outputs": [],
   "source": [
    "item_props=item_props.set_index('timestamp')"
   ]
  },
  {
   "cell_type": "code",
   "execution_count": null,
   "id": "27d0fb0c",
   "metadata": {},
   "outputs": [],
   "source": [
    "item_props=item_props.sort_values(by=['timestamp', 'itemid','property', 'value'])"
   ]
  },
  {
   "cell_type": "code",
   "execution_count": null,
   "id": "607ae214",
   "metadata": {},
   "outputs": [],
   "source": [
    "item_props"
   ]
  },
  {
   "cell_type": "markdown",
   "id": "97aa8de3",
   "metadata": {},
   "source": [
    "#  Most frequently changed  properties "
   ]
  },
  {
   "cell_type": "markdown",
   "id": "ae491d4f",
   "metadata": {},
   "source": [
    "\n",
    "from the  below  code  we  find  properties  <b>888,790,available,categoryid,451 </b>the most frequently changed  properties"
   ]
  },
  {
   "cell_type": "code",
   "execution_count": null,
   "id": "02ae69e3",
   "metadata": {},
   "outputs": [],
   "source": [
    "# item_props[item_props.duplicated(['itemid','property'])].property.value_counts()"
   ]
  },
  {
   "cell_type": "code",
   "execution_count": null,
   "id": "8887ff11",
   "metadata": {},
   "outputs": [],
   "source": [
    "\n",
    "sn.barplot(x=item_props.property.value_counts().index[0:10], y=item_props.property.value_counts()[0:10])"
   ]
  },
  {
   "cell_type": "markdown",
   "id": "3fbd2942",
   "metadata": {},
   "source": [
    "get the changed items over time "
   ]
  },
  {
   "cell_type": "code",
   "execution_count": null,
   "id": "2bff1740",
   "metadata": {},
   "outputs": [],
   "source": [
    "changed_items=item_props[item_props.duplicated(['itemid','property'])]\n",
    "changed_items"
   ]
  },
  {
   "cell_type": "markdown",
   "id": "dc1bfcff",
   "metadata": {},
   "source": [
    "# listing the items that have different category over time"
   ]
  },
  {
   "cell_type": "code",
   "execution_count": null,
   "id": "94ded57f",
   "metadata": {},
   "outputs": [],
   "source": [
    "changed_items[changed_items['property']=='categoryid']"
   ]
  },
  {
   "cell_type": "markdown",
   "id": "e1fa55a7",
   "metadata": {},
   "source": [
    "let's check  frist item <b> 393623</b> and property <b>categoryid</b>"
   ]
  },
  {
   "cell_type": "code",
   "execution_count": null,
   "id": "7a31d289",
   "metadata": {},
   "outputs": [],
   "source": [
    "# item_props[(item_props['itemid']==369722) &(item_props['property']=='categoryid')]['value']"
   ]
  },
  {
   "cell_type": "code",
   "execution_count": null,
   "id": "ac2392ad",
   "metadata": {},
   "outputs": [],
   "source": [
    "item_props[(item_props['itemid']==393623) &(item_props['property']=='categoryid')]['value'].astype(int).plot(grid='True')"
   ]
  },
  {
   "cell_type": "markdown",
   "id": "46e7bf2b",
   "metadata": {},
   "source": [
    "# the changes in items avaiablibty over time"
   ]
  },
  {
   "cell_type": "code",
   "execution_count": null,
   "id": "ff22a53e",
   "metadata": {},
   "outputs": [],
   "source": [
    "changed_items[changed_items['property']=='available']"
   ]
  },
  {
   "cell_type": "markdown",
   "id": "317ebe4e",
   "metadata": {},
   "source": [
    "checck  avaiablibty of item 267142 and 379701 over time "
   ]
  },
  {
   "cell_type": "code",
   "execution_count": null,
   "id": "ce929f0a",
   "metadata": {
    "scrolled": true
   },
   "outputs": [],
   "source": [
    "item_props[(item_props['itemid']==267142) &(item_props['property']=='available')]['value'].astype(int).plot(grid='True')"
   ]
  },
  {
   "cell_type": "code",
   "execution_count": null,
   "id": "8e474f67",
   "metadata": {},
   "outputs": [],
   "source": [
    "item_props[(item_props['itemid']==379701) &(item_props['property']=='available')]['value'].astype(int).plot(grid='True')"
   ]
  },
  {
   "cell_type": "code",
   "execution_count": null,
   "id": "df251be4",
   "metadata": {},
   "outputs": [],
   "source": [
    "# item_props[(item_props['itemid']==267142) &(item_props['property']=='available')]['value']"
   ]
  },
  {
   "cell_type": "markdown",
   "id": "9e960309",
   "metadata": {},
   "source": [
    "item 267142 almost not available most of time it was available only once at 2015-08-02 05:00:00 in contrast to  item  379701 which was avaiable most  of time "
   ]
  },
  {
   "cell_type": "markdown",
   "id": "6e273129",
   "metadata": {},
   "source": [
    "# Num of  unique properties per item"
   ]
  },
  {
   "cell_type": "code",
   "execution_count": null,
   "id": "b063720a",
   "metadata": {},
   "outputs": [],
   "source": [
    "propertiesperitem=item_props.groupby(['itemid'])['property'].nunique()"
   ]
  },
  {
   "cell_type": "code",
   "execution_count": null,
   "id": "e4e8a839",
   "metadata": {},
   "outputs": [],
   "source": [
    "propertiesperitem=propertiesperitem.to_frame( name=\"nuniqueproperty\")"
   ]
  },
  {
   "cell_type": "code",
   "execution_count": null,
   "id": "6f1aaa7e",
   "metadata": {},
   "outputs": [],
   "source": [
    "propertiesperitem"
   ]
  },
  {
   "cell_type": "markdown",
   "id": "a04a7cf1",
   "metadata": {},
   "source": [
    "from the  below output we find that the  averaage  number of properties  per item amlost <b>28</b> and  max is  <b>59</b> and  min <b>12 </b>"
   ]
  },
  {
   "cell_type": "code",
   "execution_count": null,
   "id": "f6158ceb",
   "metadata": {
    "scrolled": true
   },
   "outputs": [],
   "source": [
    "propertiesperitem.describe()"
   ]
  },
  {
   "cell_type": "code",
   "execution_count": null,
   "id": "c33d2171",
   "metadata": {},
   "outputs": [],
   "source": [
    "# item_props.groupby(['itemid','property'])['value'].nunique().to_frame(name='numofchanges').sort_values(by='numofchanges',ascending=False)"
   ]
  },
  {
   "cell_type": "markdown",
   "id": "9851d2f0",
   "metadata": {},
   "source": [
    "# Properties that are constant over time"
   ]
  },
  {
   "cell_type": "code",
   "execution_count": null,
   "id": "4abd4a85",
   "metadata": {},
   "outputs": [],
   "source": [
    "valuesperproperty=item_props.groupby(['itemid','property'],as_index=False).agg({'value':{'count','nunique'}})"
   ]
  },
  {
   "cell_type": "code",
   "execution_count": null,
   "id": "79b2daf7",
   "metadata": {},
   "outputs": [],
   "source": [
    "# valuesperproperty=valuesperproperty.reset_index()"
   ]
  },
  {
   "cell_type": "code",
   "execution_count": null,
   "id": "c1386760",
   "metadata": {},
   "outputs": [],
   "source": [
    "valuesperproperty.columns = [\"itemid\",\"property\",\"value_nunique\",\"value_count\"]"
   ]
  },
  {
   "cell_type": "code",
   "execution_count": null,
   "id": "7e74fa9b",
   "metadata": {},
   "outputs": [],
   "source": [
    "valuesperproperty[(valuesperproperty['value_nunique']==1)&(valuesperproperty['value_count']>1)]"
   ]
  },
  {
   "cell_type": "markdown",
   "id": "1cf6aab2",
   "metadata": {},
   "source": [
    "<b>Validating resullt by explore example of returned rows</b>\n",
    " <li> we can see rom the  below output /graph that the  value is the same  over time \n",
    "    "
   ]
  },
  {
   "cell_type": "code",
   "execution_count": null,
   "id": "c7b2fede",
   "metadata": {},
   "outputs": [],
   "source": [
    "item_props[(item_props.itemid==40)&(item_props.property=='810')]"
   ]
  },
  {
   "cell_type": "code",
   "execution_count": null,
   "id": "c7604856",
   "metadata": {},
   "outputs": [],
   "source": [
    "item_props[(item_props.itemid==40)&(item_props.property=='810')]['value'].value_counts().plot.bar(stacked=True)"
   ]
  },
  {
   "cell_type": "markdown",
   "id": "13500274",
   "metadata": {},
   "source": [
    "\n",
    "<li> from the  below code we can find that there are <b>1104 </b> unique property that are  constant over time for some items\n",
    "<li> also we  see that the count for some  property is the same of the number of unquie items so i think this properties may be  the meta data about every item like <b>descibtion or registerdate</b>  because every item have it\n",
    " <li> the  top of this properties are <b> 764,159,790,364 and 283"
   ]
  },
  {
   "cell_type": "code",
   "execution_count": null,
   "id": "0c707926",
   "metadata": {},
   "outputs": [],
   "source": [
    "valuesperproperty.property.nunique()"
   ]
  },
  {
   "cell_type": "code",
   "execution_count": null,
   "id": "31da3911",
   "metadata": {},
   "outputs": [],
   "source": [
    "valuesperproperty.property.value_counts()"
   ]
  },
  {
   "cell_type": "code",
   "execution_count": null,
   "id": "1fe751d9",
   "metadata": {},
   "outputs": [],
   "source": [
    "item_props.itemid.nunique()"
   ]
  },
  {
   "cell_type": "code",
   "execution_count": null,
   "id": "3b4a5c13",
   "metadata": {},
   "outputs": [],
   "source": [
    "sn.barplot(x=valuesperproperty.property.value_counts().index[0:20], y=valuesperproperty.property.value_counts()[0:20])"
   ]
  },
  {
   "cell_type": "markdown",
   "id": "f488ced9",
   "metadata": {},
   "source": [
    "# Snapshot merge"
   ]
  },
  {
   "cell_type": "markdown",
   "id": "d27333bc",
   "metadata": {},
   "source": [
    "check the dublicated snapshot \n",
    "we have <b>7497165</b> dublicated rows of <B> 20275902 </b> which will reduce the data size  by <b> 40% </b> after droping it"
   ]
  },
  {
   "cell_type": "code",
   "execution_count": null,
   "id": "65ea2f2e",
   "metadata": {},
   "outputs": [],
   "source": [
    "item_props[item_props.duplicated(['itemid','property','value'])]"
   ]
  },
  {
   "cell_type": "markdown",
   "id": "5310bf73",
   "metadata": {},
   "source": [
    "Explore item <b>466864</b> with property <b>813</b> and value<b> '1148082 353870 1262739'</b> snapshots\n",
    "from the below graph we note that this property had been changed once for this  item."
   ]
  },
  {
   "cell_type": "code",
   "execution_count": null,
   "id": "be167230",
   "metadata": {},
   "outputs": [],
   "source": [
    "item1=item_props[(item_props.itemid==466864)&(item_props.property=='813')]\n",
    "item1.groupby(['itemid','property'])['value'].value_counts().unstack().plot.bar(stacked=True)"
   ]
  },
  {
   "cell_type": "markdown",
   "id": "aa1edd1d",
   "metadata": {},
   "source": [
    "let's drop the duplicates with consider keeping the last snapshot"
   ]
  },
  {
   "cell_type": "code",
   "execution_count": null,
   "id": "f1b6c3ba",
   "metadata": {},
   "outputs": [],
   "source": [
    "item_props_merged=item_props.drop_duplicates(subset=['itemid','property','value'], keep='last')"
   ]
  },
  {
   "cell_type": "code",
   "execution_count": null,
   "id": "57af935b",
   "metadata": {},
   "outputs": [],
   "source": [
    "item_props_merged.shape"
   ]
  },
  {
   "cell_type": "markdown",
   "id": "fa67f844",
   "metadata": {},
   "source": [
    "# Checking some items before and  after  snapshots merge"
   ]
  },
  {
   "cell_type": "markdown",
   "id": "94cd8c25",
   "metadata": {},
   "source": [
    "Before Merge"
   ]
  },
  {
   "cell_type": "code",
   "execution_count": null,
   "id": "2e1089cf",
   "metadata": {},
   "outputs": [],
   "source": [
    "item_props[(item_props.itemid==91477)&(item_props.property=='888')]"
   ]
  },
  {
   "cell_type": "markdown",
   "id": "b8cfddd4",
   "metadata": {},
   "source": [
    "After merge"
   ]
  },
  {
   "cell_type": "code",
   "execution_count": null,
   "id": "52005ca3",
   "metadata": {},
   "outputs": [],
   "source": [
    "item_props_merged[(item_props_merged.itemid==91477)&(item_props_merged.property=='888')]"
   ]
  },
  {
   "cell_type": "markdown",
   "id": "24c2c36c",
   "metadata": {},
   "source": [
    "Before merge "
   ]
  },
  {
   "cell_type": "code",
   "execution_count": null,
   "id": "5298e41b",
   "metadata": {},
   "outputs": [],
   "source": [
    "item_props[(item_props.itemid==89439)&(item_props.property=='888')]"
   ]
  },
  {
   "cell_type": "code",
   "execution_count": null,
   "id": "317b7cfd",
   "metadata": {},
   "outputs": [],
   "source": [
    "item_props_merged[(item_props_merged.itemid==89439)&(item_props_merged.property=='888')]"
   ]
  },
  {
   "cell_type": "markdown",
   "id": "118aeed7",
   "metadata": {},
   "source": [
    "# Exploring  events data"
   ]
  },
  {
   "cell_type": "markdown",
   "id": "81681a77",
   "metadata": {},
   "source": [
    "<li>we have <b>2756101</b> row in event data  and <b>5 </b>columns\n",
    "<li><b>1407580</b> unique vistior\n",
    "<li><b>235061</b> unique items \n",
    "<li> <b>3 </b>types of events view,addtocart and transaction\n",
    "<li> for the below  graph the most occured event is view by precentage <b> 96%</b> events. then addtocart and the lowest is transaction with  precentang <b>0.8% \n",
    "   "
   ]
  },
  {
   "cell_type": "code",
   "execution_count": null,
   "id": "b4db40f0",
   "metadata": {},
   "outputs": [],
   "source": [
    "events"
   ]
  },
  {
   "cell_type": "markdown",
   "id": "c21b7d52",
   "metadata": {},
   "source": [
    "Change timestamp to date-time format i tried to convert it directly but it gave me DateTime in the future so i divided the value by 1000 before converting it to be reasonable. maybe it's  wrong but I did this just to be  readable"
   ]
  },
  {
   "cell_type": "code",
   "execution_count": null,
   "id": "08fc5f9f",
   "metadata": {},
   "outputs": [],
   "source": [
    "events['timestamp']=events['timestamp'].apply( lambda x: datetime.fromtimestamp(x/1000))"
   ]
  },
  {
   "cell_type": "code",
   "execution_count": null,
   "id": "6a95f988",
   "metadata": {},
   "outputs": [],
   "source": [
    "events=events.set_index('timestamp')\n",
    "events=events.sort_values(by='timestamp')"
   ]
  },
  {
   "cell_type": "code",
   "execution_count": null,
   "id": "44a21adf",
   "metadata": {},
   "outputs": [],
   "source": [
    "events.visitorid.nunique()"
   ]
  },
  {
   "cell_type": "code",
   "execution_count": null,
   "id": "5132cf6f",
   "metadata": {},
   "outputs": [],
   "source": [
    "events.itemid.nunique()"
   ]
  },
  {
   "cell_type": "code",
   "execution_count": null,
   "id": "92aaac47",
   "metadata": {},
   "outputs": [],
   "source": [
    "events.event.describe()"
   ]
  },
  {
   "cell_type": "code",
   "execution_count": null,
   "id": "706802d5",
   "metadata": {},
   "outputs": [],
   "source": [
    "events.event.value_counts().plot.bar(stacked=True)"
   ]
  },
  {
   "cell_type": "markdown",
   "id": "0bad9673",
   "metadata": {},
   "source": [
    "## Validating each row that has event type transaction have already transaction-id"
   ]
  },
  {
   "cell_type": "code",
   "execution_count": null,
   "id": "de9e173a",
   "metadata": {},
   "outputs": [],
   "source": [
    "events[(events.event=='transaction')&(events.transactionid.isna())]"
   ]
  },
  {
   "cell_type": "code",
   "execution_count": null,
   "id": "7ea49217",
   "metadata": {},
   "outputs": [],
   "source": [
    "events[events.event=='transaction']"
   ]
  },
  {
   "cell_type": "markdown",
   "id": "fc37ea11",
   "metadata": {},
   "source": [
    "#  Transcations per visitor"
   ]
  },
  {
   "cell_type": "markdown",
   "id": "d52ccc2e",
   "metadata": {},
   "source": [
    "<li> number of visitors who are purchasing is <b>11719</b>\n",
    "<li> the visitor who has more transactions is <b>1150086</b> he has <b>559</b>\n",
    "<li> the  avg  number of transcation per  vistor  is  <b>~2 </b>and min  is  <b>1 </b> and  max is <b>559</b>"
   ]
  },
  {
   "cell_type": "code",
   "execution_count": null,
   "id": "de7ca6e6",
   "metadata": {},
   "outputs": [],
   "source": [
    "events[events.event=='transaction']['visitorid'].nunique()"
   ]
  },
  {
   "cell_type": "code",
   "execution_count": null,
   "id": "7086d9b8",
   "metadata": {},
   "outputs": [],
   "source": [
    "transpervistior=events[events.event=='transaction'].groupby('visitorid').agg({'transactionid':'count'})\n",
    "transpervistior.columns=['totalnumtrans']"
   ]
  },
  {
   "cell_type": "code",
   "execution_count": null,
   "id": "60273e94",
   "metadata": {},
   "outputs": [],
   "source": [
    "transpervistior=transpervistior.sort_values(by='totalnumtrans',ascending=False)"
   ]
  },
  {
   "cell_type": "code",
   "execution_count": null,
   "id": "a6e01152",
   "metadata": {},
   "outputs": [],
   "source": [
    "transpervistior"
   ]
  },
  {
   "cell_type": "code",
   "execution_count": null,
   "id": "b806399e",
   "metadata": {},
   "outputs": [],
   "source": [
    "transpervistior.describe()"
   ]
  },
  {
   "cell_type": "code",
   "execution_count": null,
   "id": "353b9b18",
   "metadata": {},
   "outputs": [],
   "source": [
    "sn.barplot(x=transpervistior.index[0:15], y=transpervistior.totalnumtrans[0:15] )"
   ]
  },
  {
   "cell_type": "markdown",
   "id": "afddb59d",
   "metadata": {},
   "source": [
    "# Items  per transaction"
   ]
  },
  {
   "cell_type": "markdown",
   "id": "7a32cc04",
   "metadata": {},
   "source": [
    "<li> max number of items  per transcation is <b>31</b> and min is <b>1</b> and avg is  almost also<b> 1 </b>\n",
    "<li>total number  of items Purchased is highest in half of the months"
   ]
  },
  {
   "cell_type": "code",
   "execution_count": null,
   "id": "1949ccda",
   "metadata": {},
   "outputs": [],
   "source": [
    "itemspertrans=events.reset_index().groupby('transactionid',as_index=False).agg({'timestamp':lambda x:max(x),'itemid':['unique','count']})\n",
    "itemspertrans.columns=['transactionid','timestamp','unique_items','totalnumitems']\n",
    "itemspertrans=itemspertrans.sort_values(by='totalnumitems',ascending=False)"
   ]
  },
  {
   "cell_type": "code",
   "execution_count": null,
   "id": "27b77dd9",
   "metadata": {},
   "outputs": [],
   "source": [
    "itemspertrans"
   ]
  },
  {
   "cell_type": "code",
   "execution_count": null,
   "id": "93576b75",
   "metadata": {},
   "outputs": [],
   "source": [
    "itemspertrans.totalnumitems.describe()"
   ]
  },
  {
   "cell_type": "code",
   "execution_count": null,
   "id": "c568b4e4",
   "metadata": {},
   "outputs": [],
   "source": [
    "itemspertrans.set_index('timestamp')['totalnumitems'].plot(linewidth=0.5);"
   ]
  },
  {
   "cell_type": "markdown",
   "id": "c984d915",
   "metadata": {},
   "source": [
    "# Most Purchased items"
   ]
  },
  {
   "cell_type": "markdown",
   "id": "dee96485",
   "metadata": {},
   "source": [
    "<li> top pruchased item <b>461686</b> found  in <b>133</b> transcation"
   ]
  },
  {
   "cell_type": "code",
   "execution_count": null,
   "id": "2782d335",
   "metadata": {},
   "outputs": [],
   "source": [
    "trasactions=events[events.event=='transaction']"
   ]
  },
  {
   "cell_type": "code",
   "execution_count": null,
   "id": "ffddf61a",
   "metadata": {},
   "outputs": [],
   "source": [
    "trasactions"
   ]
  },
  {
   "cell_type": "code",
   "execution_count": null,
   "id": "d5bc6980",
   "metadata": {},
   "outputs": [],
   "source": [
    "trasactions['itemid'].value_counts()"
   ]
  },
  {
   "cell_type": "code",
   "execution_count": null,
   "id": "2f19def2",
   "metadata": {},
   "outputs": [],
   "source": [
    "sn.barplot(x=trasactions.itemid.value_counts().index[0:15], y=trasactions.itemid.value_counts()[0:15] )"
   ]
  },
  {
   "cell_type": "markdown",
   "id": "041a5587",
   "metadata": {},
   "source": [
    "# Add to cart Events"
   ]
  },
  {
   "cell_type": "markdown",
   "id": "1ad2558c",
   "metadata": {},
   "source": [
    "<li> almost 2.5% of  events is add to cart type\n",
    " <li> highest addtocart item <b>461686</b> found  in <b>306</b> transcation which also highest purchased makesense\n",
    " <li> the below figure have  similar distribution to the above one of the purchased items because each item before being transaction it was addtocart"
   ]
  },
  {
   "cell_type": "code",
   "execution_count": null,
   "id": "d4861fb3",
   "metadata": {},
   "outputs": [],
   "source": [
    "addtocart=events[events.event=='addtocart']\n",
    "addtocart"
   ]
  },
  {
   "cell_type": "code",
   "execution_count": null,
   "id": "ef7d5d55",
   "metadata": {},
   "outputs": [],
   "source": [
    "addtocart['itemid'].value_counts()"
   ]
  },
  {
   "cell_type": "code",
   "execution_count": null,
   "id": "9671b758",
   "metadata": {
    "scrolled": true
   },
   "outputs": [],
   "source": [
    "sn.barplot(x=addtocart.itemid.value_counts().index[0:15], y=addtocart.itemid.value_counts()[0:15] )"
   ]
  },
  {
   "cell_type": "markdown",
   "id": "21b6fbcb",
   "metadata": {},
   "source": [
    "# Machine Learning applications"
   ]
  },
  {
   "cell_type": "markdown",
   "id": "ca5f2458",
   "metadata": {},
   "source": [
    "\n",
    "<li>Cross-selling using assoication rules \n",
    "<li>Demand Forecasting for items or forcasting  weekly sales using time series algorithms\n",
    "<li>Customer Segmation using kmean cluster  and  RFM\n",
    "<li> item category classifcation "
   ]
  },
  {
   "cell_type": "code",
   "execution_count": null,
   "id": "da64dbac",
   "metadata": {},
   "outputs": [],
   "source": [
    "transcationevents=events.dropna()\n",
    "transcationevents"
   ]
  },
  {
   "cell_type": "markdown",
   "id": "d4e3c881",
   "metadata": {},
   "source": [
    "# Associaciton Rule Learning\n"
   ]
  },
  {
   "cell_type": "markdown",
   "id": "08670ea8",
   "metadata": {},
   "source": [
    "\n",
    "The association rules method is to present these correlations in the best way through\n",
    "rules, if there are significant correlations between the items that occur simultaneously\n",
    "and frequently, and if there are significant correlations. In other words, it is a\n",
    "rule-based machine learning technique used to find patterns in data.\n",
    "       \n",
    "       - Apriori Algorithm -\n",
    "\n",
    "It is a basket analysis method and is used to reveal product associations.\n",
    "\n",
    "Support(X, Y) = Freq(X, Y) / N\n",
    "\n",
    "There are 3 very simple formulas. The 1st is the Support value. It expresses the probability of\n",
    "X and Y occurring together. It is the frequency of X and Y appearing together divided by N.\n",
    "\n",
    "Confidence(X, Y) = Freq(X, Y) / Freq(X)\n",
    "\n",
    "It expresses the probability of purchasing product Y when product X is purchased.\n",
    "The frequency at which X and Y appear together divided by the frequency at which X appears.\n",
    "\n",
    "Lift = Support(X, Y) / (Support(x) * Support (Y))\n",
    "\n",
    "When X is purchased, the probability of buying Y increases by a multiple of lift.\n",
    "The probability of X and Y appearing together is the product of the probabilities\n",
    "of X and Y appearing separately.\n",
    "It states an expression such as how many times the probability of buying another product\n",
    "increases when we buy a product.\n",
    "\n",
    "Our aim is to suggest products to users in the product purchasing process by\n",
    "applying association analysis to the online retail II dataset."
   ]
  },
  {
   "cell_type": "markdown",
   "id": "1005077e",
   "metadata": {},
   "source": [
    "# Build Transaction Dataset\n"
   ]
  },
  {
   "cell_type": "code",
   "execution_count": null,
   "id": "9282b89a",
   "metadata": {},
   "outputs": [],
   "source": [
    "\n",
    "    # We need to create below structure:\n",
    "\n",
    "    # Rows represents transactions (transcation, shopping cart etc.), columns represents items\n",
    "    # We simulate as binary that which transaction  contains which items\n",
    "    # If the item is in the transcation, the intersection cell will be \"1\". If is not, it will be \"0\"\n",
    "\n",
    "    # Description   Item1      Item2    Item3\n",
    "    # trans\n",
    "    # trans1          0         1         0\n",
    "    # trans2          1         0         1\n",
    "    # trans3          0         0         0\n",
    "    # trans4          1         0         0\n",
    "    # trans5          0         0         1\n"
   ]
  },
  {
   "cell_type": "markdown",
   "id": "9f8bc6e2",
   "metadata": {},
   "source": [
    "Extract Quantity of Item per transcation"
   ]
  },
  {
   "cell_type": "code",
   "execution_count": null,
   "id": "dddce4d8",
   "metadata": {},
   "outputs": [],
   "source": [
    "transcationevents.reset_index().groupby(['transactionid','itemid']).agg({\"timestamp\": \"count\"}).rename(columns={'timestamp':'Quantity'}).sort_values('Quantity',ascending=False)"
   ]
  },
  {
   "cell_type": "markdown",
   "id": "890e1cf7",
   "metadata": {},
   "source": [
    "Check  first item from  event  data will  find  4  rows  form same  item"
   ]
  },
  {
   "cell_type": "code",
   "execution_count": null,
   "id": "30503732",
   "metadata": {},
   "outputs": [],
   "source": [
    "events[(events.transactionid==2212.0)&(events.itemid==325772)]"
   ]
  },
  {
   "cell_type": "code",
   "execution_count": null,
   "id": "b7569a68",
   "metadata": {},
   "outputs": [],
   "source": [
    "\n",
    "items = list(transcationevents.itemid.unique())\n",
    "grouped = transcationevents.groupby('transactionid')\n",
    "transaction_level_df = grouped.aggregate(lambda x: tuple(x)).reset_index()[['transactionid','itemid']]"
   ]
  },
  {
   "cell_type": "code",
   "execution_count": null,
   "id": "541ba45e",
   "metadata": {},
   "outputs": [],
   "source": [
    "transaction_level_df"
   ]
  },
  {
   "cell_type": "code",
   "execution_count": null,
   "id": "6f2d4b7d",
   "metadata": {},
   "outputs": [],
   "source": [
    "# transaction_dict = {item:0 for item in items}\n",
    "# output_dict = dict()\n",
    "# temp = dict()\n",
    "# for rec in transaction_level_df.to_dict('records'):\n",
    "#     transactionid = rec['transactionid']\n",
    "#     items_list = rec['itemid']\n",
    "#     transaction_dict = {item:0 for item in items}\n",
    "#     transaction_dict.update({item:1 for item in items if item in items_list})\n",
    "#     temp.update({transactionid:transaction_dict})\n",
    "\n",
    "# new = [v for k,v in temp.items()]\n",
    "# tranasction_df = pd.DataFrame(new)\n",
    "# del(tranasction_df[tranasction_df.columns[0]])"
   ]
  },
  {
   "cell_type": "code",
   "execution_count": null,
   "id": "eed62aa9",
   "metadata": {},
   "outputs": [],
   "source": [
    "\n",
    "def create_transaction_item_df(df):\n",
    "    return df.reset_index().groupby(['transactionid','itemid']).agg({\"timestamp\": \"count\"}).rename(columns={'timestamp':'Quantity'}).sort_values('Quantity',ascending=False).unstack().fillna(0).applymap(lambda x: 1 if x > 0 else 0)"
   ]
  },
  {
   "cell_type": "code",
   "execution_count": null,
   "id": "661a8fe8",
   "metadata": {},
   "outputs": [],
   "source": [
    "gr_tran_itm_df=create_transaction_item_df(transcationevents)"
   ]
  },
  {
   "cell_type": "code",
   "execution_count": null,
   "id": "8d4977a1",
   "metadata": {},
   "outputs": [],
   "source": [
    "df=gr_tran_itm_df.copy()"
   ]
  },
  {
   "cell_type": "code",
   "execution_count": null,
   "id": "d23279ab",
   "metadata": {},
   "outputs": [],
   "source": [
    "df.columns=[ col[1] for col in df.columns]"
   ]
  },
  {
   "cell_type": "code",
   "execution_count": null,
   "id": "0256968c",
   "metadata": {},
   "outputs": [],
   "source": [
    "df=df[list(trasactions.itemid.value_counts().index[0:1000])]"
   ]
  },
  {
   "cell_type": "code",
   "execution_count": null,
   "id": "3e6f9959",
   "metadata": {
    "scrolled": true
   },
   "outputs": [],
   "source": [
    "df.head()"
   ]
  },
  {
   "cell_type": "code",
   "execution_count": null,
   "id": "2ed095dc",
   "metadata": {},
   "outputs": [],
   "source": [
    "gr_tran_itm_df.shape"
   ]
  },
  {
   "cell_type": "code",
   "execution_count": null,
   "id": "63c74f9d",
   "metadata": {},
   "outputs": [],
   "source": [
    "# 3. Possibilities of All Possible Item Combinations\n",
    "\n",
    "# Support(X, Y) = Freq(X, Y) / N\n",
    "# There are 3 very simple formulas. The 1st is the Support value. It expresses the probability of\n",
    "# X and Y occurring together. It is the frequency of X and Y appearing together divided by N.\n",
    "\n",
    "# Confidence(X, Y) = Freq(X, Y) / Freq(X)\n",
    "# It expresses the probability of purchasing item Y when item X is purchased.\n",
    "# The frequency at which X and Y appear together divided by the frequency at which X appears.\n",
    "\n",
    "# Lift = Support(X, Y) / (Support(x) * Support (Y))\n",
    "# When X is purchased, the probability of buying Y increases by a multiple of lift.\n",
    "# The probability of X and Y appearing together is the item of the probabilities\n",
    "# of X and Y appearing separately.\n",
    "# It states an expression such as how many times the probability of buying another item\n",
    "# increases when we buy a item."
   ]
  },
  {
   "cell_type": "code",
   "execution_count": null,
   "id": "7726623f",
   "metadata": {},
   "outputs": [],
   "source": [
    "\n",
    "frequent_itemsets = apriori(df, min_support=0.001, use_colnames=True)\n",
    "\n",
    "frequent_itemsets.sort_values(\"support\", ascending=False).head()"
   ]
  },
  {
   "cell_type": "code",
   "execution_count": null,
   "id": "60062083",
   "metadata": {},
   "outputs": [],
   "source": [
    "# By inserting the support values we found with Apriori into the association_rules function,\n",
    "# we find some other statistical data such as cofidance and lift.\n",
    "rules = association_rules(frequent_itemsets, metric=\"support\", min_threshold=0.001)\n",
    "\n",
    "rules.sort_values(\"support\", ascending=False).head()"
   ]
  },
  {
   "cell_type": "markdown",
   "id": "6943a134",
   "metadata": {},
   "source": [
    " According to this table, the probability of 213834 item and product numbered 445351\n",
    "appearing together is 0.002207. The probability of being bought together is 0.423913.\n",
    "The increase in the probability of buying these two products together is 166.475362"
   ]
  },
  {
   "cell_type": "markdown",
   "id": "47a002f1",
   "metadata": {},
   "source": [
    "# Forcasting weekly sales "
   ]
  },
  {
   "cell_type": "code",
   "execution_count": null,
   "id": "f59eb97e",
   "metadata": {},
   "outputs": [],
   "source": [
    "transcationevents[\"Week\"]=transcationevents.index.isocalendar().week\n",
    "transcationevents[\"Month\"]=transcationevents.index.month"
   ]
  },
  {
   "cell_type": "code",
   "execution_count": null,
   "id": "b56448e6",
   "metadata": {},
   "outputs": [],
   "source": [
    "# weekly_transcations=transcationevents.groupby(['Week','Month'],as_index=False).agg({\"transactionid\":'count'})"
   ]
  },
  {
   "cell_type": "code",
   "execution_count": null,
   "id": "a590c878",
   "metadata": {},
   "outputs": [],
   "source": [
    "weekly_transcations=transcationevents.reset_index().groupby(['Week','Month'],as_index=False).agg({\"transactionid\":'count','timestamp':lambda x:x.max()})"
   ]
  },
  {
   "cell_type": "code",
   "execution_count": null,
   "id": "0a86b15b",
   "metadata": {},
   "outputs": [],
   "source": [
    "# transcationevents.resample('W').mean()."
   ]
  },
  {
   "cell_type": "code",
   "execution_count": null,
   "id": "278eb46d",
   "metadata": {},
   "outputs": [],
   "source": [
    "weekly_transcations.columns=['Week','Month','Num_trans','timestamp']\n",
    "\n",
    "weekly_transcations"
   ]
  },
  {
   "cell_type": "code",
   "execution_count": null,
   "id": "f56eb484",
   "metadata": {},
   "outputs": [],
   "source": [
    "weekly_transcations=weekly_transcations.set_index('timestamp').resample('W').mean()"
   ]
  },
  {
   "cell_type": "code",
   "execution_count": null,
   "id": "b6b8de51",
   "metadata": {},
   "outputs": [],
   "source": [
    "weekly_transcations"
   ]
  },
  {
   "cell_type": "markdown",
   "id": "b7bffd8a",
   "metadata": {},
   "source": [
    "# Visual  weekly Sales time series"
   ]
  },
  {
   "cell_type": "code",
   "execution_count": null,
   "id": "e99bb594",
   "metadata": {},
   "outputs": [],
   "source": [
    "weekly_transcations.groupby('Week').agg({'Num_trans':'sum'}).plot()"
   ]
  },
  {
   "cell_type": "code",
   "execution_count": null,
   "id": "6fbae437",
   "metadata": {},
   "outputs": [],
   "source": [
    "sn.barplot(x=weekly_transcations['Week'], y=weekly_transcations['Num_trans'] )"
   ]
  },
  {
   "cell_type": "markdown",
   "id": "d65729b3",
   "metadata": {},
   "source": [
    "# Decomposing"
   ]
  },
  {
   "cell_type": "markdown",
   "id": "3700204a",
   "metadata": {},
   "source": [
    "Seasonal Decompose gives the decomposition of the time series into its estimated trend component, estimated seasonal component, and estimated residual. We can also plot the original data to look at what components of the data influence its true value the most."
   ]
  },
  {
   "cell_type": "code",
   "execution_count": null,
   "id": "a9610b36",
   "metadata": {},
   "outputs": [],
   "source": [
    "from statsmodels.tsa.seasonal import seasonal_decompose"
   ]
  },
  {
   "cell_type": "code",
   "execution_count": null,
   "id": "c87f15f1",
   "metadata": {},
   "outputs": [],
   "source": [
    "# weekly_transcations.sort_index(inplace=True)"
   ]
  },
  {
   "cell_type": "code",
   "execution_count": null,
   "id": "0284ec45",
   "metadata": {},
   "outputs": [],
   "source": [
    "multi_plot = seasonal_decompose(weekly_transcations['Num_trans'], model = 'add', extrapolate_trend='freq', period=4)\n",
    "\n",
    "plt.figure(figsize=(20,5))\n",
    "multi_plot.observed.plot(title = 'weekly sales')\n",
    "\n",
    "plt.figure(figsize=(20,5))\n",
    "multi_plot.trend.plot(title = 'trend')\n",
    "\n",
    "plt.figure(figsize=(20,5))\n",
    "multi_plot.seasonal.plot(title = 'seasonal')\n",
    "\n",
    "plt.figure(figsize=(20,5))\n",
    "multi_plot.resid.plot(title = 'residual');"
   ]
  },
  {
   "cell_type": "markdown",
   "id": "b3530968",
   "metadata": {},
   "source": [
    "# Forecasting using ARIMA Model\n"
   ]
  },
  {
   "cell_type": "code",
   "execution_count": null,
   "id": "e08bb41d",
   "metadata": {},
   "outputs": [],
   "source": [
    "import statsmodels.api as sm\n",
    "from math import sqrt\n"
   ]
  },
  {
   "cell_type": "code",
   "execution_count": null,
   "id": "3786389b",
   "metadata": {},
   "outputs": [],
   "source": [
    "weekly_transcations"
   ]
  },
  {
   "cell_type": "markdown",
   "id": "3e222ce7",
   "metadata": {},
   "source": [
    " We will fit an ARIMA model to the entire weekly_transcations dataset and review the residual errors.\n",
    "First, we fit an ARIMA(1,1,0) model. This sets the lag value to 1 for autoregression, uses a difference order of 1 to make the time series stationary, and uses a moving average model of 0."
   ]
  },
  {
   "cell_type": "code",
   "execution_count": null,
   "id": "e26e0cfd",
   "metadata": {},
   "outputs": [],
   "source": [
    "# fit model\n",
    "model =sm.tsa.ARIMA(weekly_transcations['Num_trans'], order=(1,1,0))\n",
    "model_fit = model.fit()\n",
    "# summary of fit model\n",
    "print(model_fit.summary())\n",
    "# line plot of residuals\n",
    "residuals = pd.DataFrame(model_fit.resid)\n",
    "residuals.plot()\n",
    "plt.show()\n",
    "# # density plot of residuals\n",
    "# residuals.plot(kind='kde')\n",
    "# plt.show()\n",
    "# # summary stats of residuals\n",
    "# print(residuals.describe())"
   ]
  },
  {
   "cell_type": "markdown",
   "id": "63cb4727",
   "metadata": {},
   "source": [
    "# Split data to train and  test and  get  RMSE"
   ]
  },
  {
   "cell_type": "markdown",
   "id": "97412be5",
   "metadata": {},
   "source": [
    "Running the example prints the prediction and expected value each iteration.\n",
    "\n",
    "We can also calculate a final root mean squared error score (RMSE) for the predictions\n",
    "\n",
    "A line plot is created showing the expected values (blue) compared to the rolling forecast predictions (red). We can see the values show some trend and are in the correct scale.\n",
    "\n"
   ]
  },
  {
   "cell_type": "code",
   "execution_count": null,
   "id": "7bd5c5a5",
   "metadata": {},
   "outputs": [],
   "source": [
    "from sklearn.metrics import mean_squared_error\n",
    "# split into train and test sets\n",
    "X = weekly_transcations.Num_trans.values\n",
    "size = int(len(X) * 0.66)\n",
    "train, test = X[0:size], X[size:len(X)]\n",
    "history = [x for x in train]\n",
    "predictions = list()\n",
    "# walk-forward validation\n",
    "for t in range(len(test)):\n",
    "\tmodel = sm.tsa.ARIMA(history, order=(1,1,0))\n",
    "\tmodel_fit = model.fit()\n",
    "\toutput = model_fit.forecast()\n",
    "\tyhat = output[0]\n",
    "\tpredictions.append(yhat)\n",
    "\tobs = test[t]\n",
    "\thistory.append(obs)\n",
    "\tprint('predicted=%f, expected=%f' % (yhat, obs))\n",
    "# evaluate forecasts\n",
    "rmse = sqrt(mean_squared_error(test, predictions))\n",
    "print('Test RMSE: %.3f' % rmse)\n",
    "# plot forecasts against actual outcomes\n",
    "plt.plot(test)\n",
    "plt.plot(predictions, color='red')\n",
    "plt.show()"
   ]
  },
  {
   "cell_type": "code",
   "execution_count": 118,
   "id": "cda6c541",
   "metadata": {},
   "outputs": [],
   "source": []
  }
 ],
 "metadata": {
  "kernelspec": {
   "display_name": "Python 3 (ipykernel)",
   "language": "python",
   "name": "python3"
  },
  "language_info": {
   "codemirror_mode": {
    "name": "ipython",
    "version": 3
   },
   "file_extension": ".py",
   "mimetype": "text/x-python",
   "name": "python",
   "nbconvert_exporter": "python",
   "pygments_lexer": "ipython3",
   "version": "3.7.6"
  }
 },
 "nbformat": 4,
 "nbformat_minor": 5
}
